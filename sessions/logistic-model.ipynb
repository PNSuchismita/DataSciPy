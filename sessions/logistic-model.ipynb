{
 "cells": [
  {
   "cell_type": "markdown",
   "metadata": {},
   "source": [
    "![Py4Eng](img/logo.png)\n",
    "\n",
    "# Logistic Model\n",
    "## Yoav Ram\n",
    "\n",
    "In this session we will understand:\n",
    "- how logistic models can be used to classify or predict categories\n",
    "- how to fit logistic models to data using maximum likelihood and gradient descent, including deriving gradients using the chain rule\n",
    "- how to visualize pair plots, logistic models, histograms, and ROC curves\n",
    "- the very basics of sklearn and statsmodels"
   ]
  },
  {
   "cell_type": "code",
   "execution_count": 1,
   "metadata": {},
   "outputs": [],
   "source": [
    "import zipfile\n",
    "import urllib.request\n",
    "import os.path\n",
    "\n",
    "%matplotlib inline\n",
    "import matplotlib.pyplot as plt\n",
    "import numpy as np\n",
    "from scipy.special import logit, expit\n",
    "import pandas as pd\n",
    "import seaborn as sns\n",
    "blue, green, red = sns.color_palette('muted', 3)\n",
    "sns.set_style('ticks')\n",
    "sns.set_context('talk')\n",
    "\n",
    "import warnings\n",
    "warnings.simplefilter('ignore', FutureWarning)"
   ]
  },
  {
   "cell_type": "markdown",
   "metadata": {},
   "source": [
    "In the previous section we used one feature with integer values to predict another integer value.\n",
    "What if we want to predict a category or class (i.e. classify or categorize) instead of predicting a number?\n",
    "\n",
    "There are many ways to classify data (even without a training set), and one of the most common is **logistic regression**. \n",
    "But *regression* is usually used for predicting real numbers, how is regression related to classification?\n",
    "In logistic regression we are trying to regress (predict a real number) the probability of some data being in a one class and not the other. \n",
    "Logistic regression is binomial (two classes, one free variable) but it can easily be expanded to *multinomial logistic regression*, sometimes also known as *softmax regression*."
   ]
  },
  {
   "cell_type": "markdown",
   "metadata": {},
   "source": [
    "# Get me the data\n",
    "\n",
    "Let's start with a concrete example.\n",
    "We'll get some data related to the Titanic (courtesy of the [IPython Cookbook](http://ipython-books.github.io/) by Cyrille Rossant, originally from the [kaggle Titanic challenge](https://www.kaggle.com/c/titanic).\n",
    "\n",
    "![](https://upload.wikimedia.org/wikipedia/commons/thumb/b/b8/Cd51-1000g.gif/640px-Cd51-1000g.gif)"
   ]
  },
  {
   "cell_type": "code",
   "execution_count": 2,
   "metadata": {},
   "outputs": [
    {
     "data": {
      "text/html": [
       "<div>\n",
       "<style scoped>\n",
       "    .dataframe tbody tr th:only-of-type {\n",
       "        vertical-align: middle;\n",
       "    }\n",
       "\n",
       "    .dataframe tbody tr th {\n",
       "        vertical-align: top;\n",
       "    }\n",
       "\n",
       "    .dataframe thead th {\n",
       "        text-align: right;\n",
       "    }\n",
       "</style>\n",
       "<table border=\"1\" class=\"dataframe\">\n",
       "  <thead>\n",
       "    <tr style=\"text-align: right;\">\n",
       "      <th></th>\n",
       "      <th>PassengerId</th>\n",
       "      <th>Survived</th>\n",
       "      <th>Pclass</th>\n",
       "      <th>Name</th>\n",
       "      <th>Sex</th>\n",
       "      <th>Age</th>\n",
       "      <th>SibSp</th>\n",
       "      <th>Parch</th>\n",
       "      <th>Ticket</th>\n",
       "      <th>Fare</th>\n",
       "      <th>Cabin</th>\n",
       "      <th>Embarked</th>\n",
       "    </tr>\n",
       "  </thead>\n",
       "  <tbody>\n",
       "    <tr>\n",
       "      <th>0</th>\n",
       "      <td>1</td>\n",
       "      <td>0</td>\n",
       "      <td>3</td>\n",
       "      <td>Braund, Mr. Owen Harris</td>\n",
       "      <td>male</td>\n",
       "      <td>22.0</td>\n",
       "      <td>1</td>\n",
       "      <td>0</td>\n",
       "      <td>A/5 21171</td>\n",
       "      <td>7.2500</td>\n",
       "      <td>NaN</td>\n",
       "      <td>S</td>\n",
       "    </tr>\n",
       "    <tr>\n",
       "      <th>1</th>\n",
       "      <td>2</td>\n",
       "      <td>1</td>\n",
       "      <td>1</td>\n",
       "      <td>Cumings, Mrs. John Bradley (Florence Briggs Th...</td>\n",
       "      <td>female</td>\n",
       "      <td>38.0</td>\n",
       "      <td>1</td>\n",
       "      <td>0</td>\n",
       "      <td>PC 17599</td>\n",
       "      <td>71.2833</td>\n",
       "      <td>C85</td>\n",
       "      <td>C</td>\n",
       "    </tr>\n",
       "    <tr>\n",
       "      <th>2</th>\n",
       "      <td>3</td>\n",
       "      <td>1</td>\n",
       "      <td>3</td>\n",
       "      <td>Heikkinen, Miss. Laina</td>\n",
       "      <td>female</td>\n",
       "      <td>26.0</td>\n",
       "      <td>0</td>\n",
       "      <td>0</td>\n",
       "      <td>STON/O2. 3101282</td>\n",
       "      <td>7.9250</td>\n",
       "      <td>NaN</td>\n",
       "      <td>S</td>\n",
       "    </tr>\n",
       "    <tr>\n",
       "      <th>3</th>\n",
       "      <td>4</td>\n",
       "      <td>1</td>\n",
       "      <td>1</td>\n",
       "      <td>Futrelle, Mrs. Jacques Heath (Lily May Peel)</td>\n",
       "      <td>female</td>\n",
       "      <td>35.0</td>\n",
       "      <td>1</td>\n",
       "      <td>0</td>\n",
       "      <td>113803</td>\n",
       "      <td>53.1000</td>\n",
       "      <td>C123</td>\n",
       "      <td>S</td>\n",
       "    </tr>\n",
       "    <tr>\n",
       "      <th>4</th>\n",
       "      <td>5</td>\n",
       "      <td>0</td>\n",
       "      <td>3</td>\n",
       "      <td>Allen, Mr. William Henry</td>\n",
       "      <td>male</td>\n",
       "      <td>35.0</td>\n",
       "      <td>0</td>\n",
       "      <td>0</td>\n",
       "      <td>373450</td>\n",
       "      <td>8.0500</td>\n",
       "      <td>NaN</td>\n",
       "      <td>S</td>\n",
       "    </tr>\n",
       "  </tbody>\n",
       "</table>\n",
       "</div>"
      ],
      "text/plain": [
       "   PassengerId  Survived  Pclass  \\\n",
       "0            1         0       3   \n",
       "1            2         1       1   \n",
       "2            3         1       3   \n",
       "3            4         1       1   \n",
       "4            5         0       3   \n",
       "\n",
       "                                                Name     Sex   Age  SibSp  \\\n",
       "0                            Braund, Mr. Owen Harris    male  22.0      1   \n",
       "1  Cumings, Mrs. John Bradley (Florence Briggs Th...  female  38.0      1   \n",
       "2                             Heikkinen, Miss. Laina  female  26.0      0   \n",
       "3       Futrelle, Mrs. Jacques Heath (Lily May Peel)  female  35.0      1   \n",
       "4                           Allen, Mr. William Henry    male  35.0      0   \n",
       "\n",
       "   Parch            Ticket     Fare Cabin Embarked  \n",
       "0      0         A/5 21171   7.2500   NaN        S  \n",
       "1      0          PC 17599  71.2833   C85        C  \n",
       "2      0  STON/O2. 3101282   7.9250   NaN        S  \n",
       "3      0            113803  53.1000  C123        S  \n",
       "4      0            373450   8.0500   NaN        S  "
      ]
     },
     "execution_count": 2,
     "metadata": {},
     "output_type": "execute_result"
    }
   ],
   "source": [
    "filename = '../data/titanic.zip'\n",
    "titanic_zip = zipfile.ZipFile(filename)\n",
    "with titanic_zip.open('data/titanic_train.csv') as f:\n",
    "    df = pd.read_csv(f)\n",
    "\n",
    "df.head()"
   ]
  },
  {
   "cell_type": "markdown",
   "metadata": {},
   "source": [
    "OK, let's just work with three features (not just one) - `Sex`, `Age` and `Pclass`.\n",
    "We will treat `Sex` as a category (0 or 1), `Age` as a number (positive intger), `Pclass` as another number, because it is the ticket class.\n",
    "\n",
    "We will try to predict the `Survived` variable, which is simply 0 or 1."
   ]
  },
  {
   "cell_type": "code",
   "execution_count": 3,
   "metadata": {},
   "outputs": [
    {
     "data": {
      "text/html": [
       "<div>\n",
       "<style scoped>\n",
       "    .dataframe tbody tr th:only-of-type {\n",
       "        vertical-align: middle;\n",
       "    }\n",
       "\n",
       "    .dataframe tbody tr th {\n",
       "        vertical-align: top;\n",
       "    }\n",
       "\n",
       "    .dataframe thead th {\n",
       "        text-align: right;\n",
       "    }\n",
       "</style>\n",
       "<table border=\"1\" class=\"dataframe\">\n",
       "  <thead>\n",
       "    <tr style=\"text-align: right;\">\n",
       "      <th></th>\n",
       "      <th>Sex</th>\n",
       "      <th>Age</th>\n",
       "      <th>Pclass</th>\n",
       "      <th>Survived</th>\n",
       "    </tr>\n",
       "  </thead>\n",
       "  <tbody>\n",
       "    <tr>\n",
       "      <th>0</th>\n",
       "      <td>0</td>\n",
       "      <td>22.0</td>\n",
       "      <td>3</td>\n",
       "      <td>0</td>\n",
       "    </tr>\n",
       "    <tr>\n",
       "      <th>1</th>\n",
       "      <td>1</td>\n",
       "      <td>38.0</td>\n",
       "      <td>1</td>\n",
       "      <td>1</td>\n",
       "    </tr>\n",
       "    <tr>\n",
       "      <th>2</th>\n",
       "      <td>1</td>\n",
       "      <td>26.0</td>\n",
       "      <td>3</td>\n",
       "      <td>1</td>\n",
       "    </tr>\n",
       "    <tr>\n",
       "      <th>3</th>\n",
       "      <td>1</td>\n",
       "      <td>35.0</td>\n",
       "      <td>1</td>\n",
       "      <td>1</td>\n",
       "    </tr>\n",
       "    <tr>\n",
       "      <th>4</th>\n",
       "      <td>0</td>\n",
       "      <td>35.0</td>\n",
       "      <td>3</td>\n",
       "      <td>0</td>\n",
       "    </tr>\n",
       "  </tbody>\n",
       "</table>\n",
       "</div>"
      ],
      "text/plain": [
       "   Sex   Age  Pclass  Survived\n",
       "0    0  22.0       3         0\n",
       "1    1  38.0       1         1\n",
       "2    1  26.0       3         1\n",
       "3    1  35.0       1         1\n",
       "4    0  35.0       3         0"
      ]
     },
     "execution_count": 3,
     "metadata": {},
     "output_type": "execute_result"
    }
   ],
   "source": [
    "df = df[['Sex', 'Age', 'Pclass', 'Survived']].copy() # what if I don't put .copy?\n",
    "df['Sex'] = df['Sex'] == 'female' # convert to boolean\n",
    "df['Sex'] = df['Sex'].astype(int) # then convert to int\n",
    "df = df.dropna() # remove rows with \"not a number\" elements\n",
    "df.head()"
   ]
  },
  {
   "cell_type": "markdown",
   "metadata": {},
   "source": [
    "# Data exploration"
   ]
  },
  {
   "cell_type": "markdown",
   "metadata": {},
   "source": [
    "Let's look at the distribution of ages between survivers and fatalities using [matplotlib](http://matplotlib.org)'s `hist`."
   ]
  },
  {
   "cell_type": "code",
   "execution_count": 4,
   "metadata": {},
   "outputs": [
    {
     "data": {
      "image/png": "[encoded data removed]",
      "text/plain": [
       "<Figure size 432x288 with 1 Axes>"
      ]
     },
     "metadata": {
      "image/png": {
       "height": 286,
       "width": 414
      },
      "needs_background": "light"
     },
     "output_type": "display_data"
    }
   ],
   "source": [
    "kws = dict(density=True, alpha=0.5, bins=np.arange(0, df['Age'].max(), 5)) # declare keyword arguments once as a dict\n",
    "\n",
    "plt.hist(df.loc[df['Survived']==0, 'Age'], label='Fatalities', **kws) # ** unpacks the kws dict \n",
    "plt.hist(df.loc[df['Survived']==1, 'Age'], label='Survivers', **kws)\n",
    "plt.legend() # labels set in the hist call\n",
    "plt.xlabel(\"Age\")\n",
    "plt.ylabel(\"Frequency\")\n",
    "plt.ylim(0, 0.04)\n",
    "sns.despine()"
   ]
  },
  {
   "cell_type": "markdown",
   "metadata": {},
   "source": [
    "There seems to be a difference at ages <10 and 20-30.\n",
    "What if we separate by men and women?"
   ]
  },
  {
   "cell_type": "code",
   "execution_count": 5,
   "metadata": {},
   "outputs": [
    {
     "data": {
      "image/png": "[encoded data removed]",
      "text/plain": [
       "<Figure size 864x288 with 2 Axes>"
      ]
     },
     "metadata": {
      "image/png": {
       "height": 280,
       "width": 749
      },
      "needs_background": "light"
     },
     "output_type": "display_data"
    }
   ],
   "source": [
    "fig, axes = plt.subplots(1, 2, figsize=(12, 4), sharey=True)\n",
    "\n",
    "ax = axes[0]\n",
    "ax.hist(df.loc[(df['Survived']==0) & (df['Sex']==0), 'Age'], label='Male Fatalities', **kws)\n",
    "ax.hist(df.loc[(df['Survived']==1) & (df['Sex']==0), 'Age'], label='Male Survivers', **kws)\n",
    "ax.legend()\n",
    "ax.set_ylabel(\"Frequency\")\n",
    "ax.set_xlabel(\"Age\")\n",
    "\n",
    "ax=axes[1]\n",
    "ax.hist(df.loc[(df['Survived']==0) & (df['Sex']==1), 'Age'], label='Female Fatalities', **kws)\n",
    "ax.hist(df.loc[(df['Survived']==1) & (df['Sex']==1), 'Age'], label='Female Survivers', **kws)\n",
    "ax.legend()\n",
    "ax.set_xlabel(\"Age\")\n",
    "\n",
    "sns.despine()"
   ]
  },
  {
   "cell_type": "markdown",
   "metadata": {},
   "source": [
    "It does seem like young men (15-25) were more likely to die and young boys (<15) were more likely to survive.\n",
    "For women, it seems that young women (<15) were likely to die and then it's not very clear."
   ]
  },
  {
   "cell_type": "markdown",
   "metadata": {},
   "source": [
    "# Logistic regression\n",
    "\n",
    "Let's try and use logistic regression to clear this up (if we can).\n",
    "How does it work?\n",
    "\n",
    "We briefly mentioned that when predicting integer values, the normal distribution, and hence the *normal linear model*, is not be the best model, and demonstrated that a [GLM](https://en.wikipedia.org/wiki/Generalized_linear_model) with a Poisson distribution and a log link function intead of a normal distribution performed better.\n",
    "\n",
    "We will do a similar trick here.\n",
    "\n",
    "We first use a linear model (as we did before) to predict the **log-odds** for survival.\n",
    "\n",
    "Odds here is actually short for odds-ratio (OR), which is just the ratio of the probability that something happens and the probability that it does not happen:\n",
    "$$\n",
    "OR = \n",
    "\\frac{P(\\text{Survived})}{P(\\text{Died})}\n",
    "$$\n",
    "so when the odds-ratio is 1, both events are as likley, and when it is >1 (<1) survival (death) is more likely."
   ]
  },
  {
   "cell_type": "markdown",
   "metadata": {},
   "source": [
    "We use the odds-ratio instead of the probability itself, because it is a value between 0 and $\\infty$, rather then between 0 and 1, which is important both for mathematical formality, as the linear model is unbounded, and for interpretation - the odds can be doubles again and again (2:1 becoming 4:1 becomnig 8:1...) whereas the probability cannot (what is the double of 75%?).\n",
    "\n",
    "The log-odds, which we mark as $z$, is the natural logarithm of the odds ratio.\n",
    "$$\n",
    "z = \n",
    "\\log{\\frac{P(\\text{Survived})}{P(\\text{Died})}} = \n",
    "\\log{\\frac{P(y=1)}{P(y=0)}}\n",
    "$$\n",
    "Why use the log-odds? Because (i) it is more mathematically convinient, as log-odds is symmetric in $P(..)$, whereas odds is not, and (ii) it is easier to interpret, as we will see below.\n",
    "\n",
    "So when the log-odds-ratio is 0, both events are as likley, and when it is positive (negative) survival (death) is more likely."
   ]
  },
  {
   "cell_type": "markdown",
   "metadata": {},
   "source": [
    "So to use a linear model for predicting the log-odds, we have $m$ features, $x_1, x_2, \\ldots, x_m$, and we try to estimate coefficients $a_0, a_1, \\ldots, a_m$ such that\n",
    "$$\n",
    "z = a_0 + a_1 x_1 + \\ldots + a_m x_m\n",
    "$$\n",
    "gives us a good estimation of the real log-odds.\n",
    "\n",
    "But we want to estimate $\\widehat{y}=P(y=1)$. Another nice feature of the log-odds is that it is invertible: from the log-odds we can find the probability for the event to occur using the *logisitic* (hence the name of the method!) which is also called the *expit* function:\n",
    "$$\n",
    "\\widehat{y} = P(y=1) = expit(z) = \\frac{1}{1+e^{-z}}\n",
    "$$"
   ]
  },
  {
   "cell_type": "code",
   "execution_count": 4,
   "metadata": {},
   "outputs": [],
   "source": [
    "features = ['Sex', 'Age', 'Pclass']\n",
    "X = df[features]\n",
    "Y = df['Survived']"
   ]
  },
  {
   "cell_type": "code",
   "execution_count": 9,
   "metadata": {},
   "outputs": [],
   "source": [
    "def logodds(X, a):\n",
    "    Z = (X * a).sum(axis=1)\n",
    "    return Z"
   ]
  },
  {
   "cell_type": "code",
   "execution_count": 10,
   "metadata": {},
   "outputs": [
    {
     "name": "stdout",
     "output_type": "stream",
     "text": [
      "0    53.0\n",
      "1    80.0\n",
      "2    62.0\n",
      "3    74.0\n",
      "4    79.0\n",
      "dtype: float64\n"
     ]
    }
   ],
   "source": [
    "a = np.array([1, 2, 3])\n",
    "print(logodds(X, a)[:5])"
   ]
  },
  {
   "cell_type": "markdown",
   "metadata": {},
   "source": [
    "# Maximum likelihood\n",
    "\n",
    "Now we want to find suitable $a_i$ such that we make a good prediction. \n",
    "We'll use *maximum likelihood* again.\n",
    "\n",
    "Given data $(x, y)$ where $x=(x_1, x_2, x_3)$ are some numbers and $y$ is either 0 or 1, the logistic model provides us an estimate $\\widehat y$ for the probability that $y=1$:\n",
    "\n",
    "$$\n",
    "\\widehat{y} = P(\\text{Survived})= P(y=1)=\\frac{1}{1+e^{-z}} = \\frac{1}{1+e^{-a_1 x_1 - a_2 x_2 -a_3 x_3}}\n",
    "$$\n",
    "\n",
    "The distribution of $y$ here is very straightforward - the Bernoulli distribution with success probability $\\widehat{y}$, which equals to Binomial distribution with number of trials $n=1$ and success probability $\\widehat{y}$:\n",
    "\n",
    "$$\n",
    "y \\sim Bin(1, \\widehat{y})\n",
    "$$\n",
    "\n",
    "The likelihood of this model is\n",
    "\n",
    "$$\n",
    "\\mathbf{L}(a_1, a_2, a_3 \\mid x_1, x_2, x_3, y) = \n",
    "P(y \\mid a_1, a_2, a_3, x_1, x_2, x_3) = \n",
    "\\cases{\n",
    "    \\widehat{y}, & y=1 \\\\\n",
    "    1-\\widehat{y}, & y=0\n",
    "}\n",
    "$$\n",
    "\n",
    "If we have many $(x,y)$ pairs, and we will **assume that each pair is independent** (which maybe we can't always do, and specifically in the Titanic case we probably shouldn't do, but ok) then the joint likelihood of all the pairs is just the product of all the pair likelihoods: the product is used because the joint probability of independent events occuring is the product of their occurence probabilities.\n",
    "Writing the set of $x$s as $X$ and the corresponding set of $y$s as $Y$, and because $y$ are either 0 or 1,\n",
    "\n",
    "$$\n",
    "\\mathbf{L}(a_1, a_2, a_3 \\mid X, Y) = \n",
    "\\prod_{i=1}^{n} {(\\widehat{y}_i)^{y_i} \\; (1-\\widehat{y}_i) ^{1-y_i}}\n",
    "$$"
   ]
  },
  {
   "cell_type": "markdown",
   "metadata": {},
   "source": [
    "We'll use the log-likelihood because otherwise we will have to deal with a product of really small numbers; so we take the sum of the log of the likelihood $\\mathbf{L}$ of the the $(x, y)$ pairs (sum because the log of products is the sum of logs). The use of log here is not \"magic\", it's a mathematical convenience. It just happens that \"log-likelihood\" sounds very impressive.\n",
    "\n",
    "$$\n",
    "\\log{\\mathbf{L}(a_1, a_2, a_3 \\mid X, Y)} = \n",
    "\\sum_{i=1}^{n} {y_i \\log{\\widehat{y}_i} + (1-y_i) \\log{(1-\\widehat{y}_i)}}\n",
    "$$\n",
    "\n",
    "This is very similar to the negative of an information theory function called [*cross entropy*](https://en.wikipedia.org/wiki/Cross_entropy), and we usually average it over all the samples so that we can compare cross entropies between datasets of different size:\n",
    "\n",
    "$$\n",
    "\\mathbf{J}(a_1, a_2, a_3, X, Y) = -\\frac{1}{n} \\log{\\mathbf{L}(a_1, a_2, a_3 \\mid X, Y)}\n",
    "$$\n",
    "\n",
    "where $n$ is the number of samples in $X,Y$."
   ]
  },
  {
   "cell_type": "markdown",
   "metadata": {},
   "source": [
    "### Numerical stability\n",
    "\n",
    "Due to numerical issues when using very small or very large numbers, we should play around with the definition a little bit to find an expression that we can calculate with good numerical stability.\n",
    "\n",
    "Note that\n",
    "$$\n",
    "\\log{\\widehat{y}} = -\\log{\\Big(1 + e^{-z}\\Big)}  = -\\log{\\Big(1 + e^{-z}\\Big)} \\\\\n",
    "\\log{(1-\\widehat{y})} = -z - \\log{\\Big(1 + e^{-z}\\Big)}\n",
    "$$\n",
    "and therefore\n",
    "$$\n",
    "y \\log{\\widehat{y}} + (1-y) \\log{(1-\\widehat{y})} = \\\\\n",
    "-y \\log{\\Big(1 + e^{-z}\\Big)} + (1-y)\\Big(-z - \\log{\\Big(1 + e^{-z}\\Big)}\\Big) = \\\\\n",
    "(1-y)z - \\log{\\Big(1 + e^{-z}\\Big)}\n",
    "$$\n",
    "\n",
    "Finally,\n",
    "$$\n",
    "\\log{\\mathbf{L}(a_1, a_2, a_3 \\mid X, Y)} = \n",
    "\\sum_{i=1}^{n} {-z_i (1-y_i) - \\log{\\Big(1 + e^{-z_i}\\Big)}},\n",
    "$$\n",
    "where $z_i = a_1 x_{i,1} + a_2 x_{i,2} + a_n x_{i,3}$ and $i$ is the sample index."
   ]
  },
  {
   "cell_type": "markdown",
   "metadata": {},
   "source": [
    "# Exercise: cross-entropy\n",
    "\n",
    "Implement the cross entropy function.\n",
    "\n",
    "**Note: the subsequent `%run ...` line will load the instructor solution; to use your solution, comment this line out with `#`**."
   ]
  },
  {
   "cell_type": "code",
   "execution_count": 8,
   "metadata": {},
   "outputs": [],
   "source": [
    "def cross_entropy(X, Y, a):\n",
    "    pass"
   ]
  },
  {
   "cell_type": "code",
   "execution_count": 16,
   "metadata": {},
   "outputs": [
    {
     "data": {
      "text/plain": [
       "40.89217186890601"
      ]
     },
     "execution_count": 16,
     "metadata": {},
     "output_type": "execute_result"
    }
   ],
   "source": [
    "%run -i ../solutions/logistic-model.py\n",
    "cross_entropy(X, Y, a)"
   ]
  },
  {
   "cell_type": "markdown",
   "metadata": {},
   "source": [
    "The solution file has two implementations: `_cross_entropy` in pure-python with generator expression and `cross_entropy` using NumPy arrays.\n",
    "\n",
    "Guess which one is faster and compare to your implementation if you want."
   ]
  },
  {
   "cell_type": "code",
   "execution_count": 14,
   "metadata": {},
   "outputs": [
    {
     "name": "stdout",
     "output_type": "stream",
     "text": [
      "3.22 ms ± 422 µs per loop (mean ± std. dev. of 7 runs, 100 loops each)\n",
      "500 µs ± 118 µs per loop (mean ± std. dev. of 7 runs, 1000 loops each)\n"
     ]
    }
   ],
   "source": [
    "%run -i ../solutions/logistic-model.py\n",
    "assert np.isclose(_cross_entropy(X, Y, a), cross_entropy(X, Y, a))\n",
    "%timeit _cross_entropy(X, Y, a)\n",
    "%timeit cross_entropy(X, Y, a)"
   ]
  },
  {
   "cell_type": "markdown",
   "metadata": {},
   "source": [
    "# Gradient descent and the chain rule\n",
    "\n",
    "Now we can minimize the cross entropy using gradient descent.\n",
    "We need to calculate the derivative of the cross entropy with regards to $a_i$.\n",
    "We will use the [chain rule](https://en.wikipedia.org/wiki/Chain_rule): \n",
    "\n",
    "$$\n",
    "f(g(x))' = f'(g(x)) \\cdot g'(x), \n",
    "$$\n",
    "\n",
    "which is easier to write as \n",
    "\n",
    "$$\n",
    "\\frac{dx}{dy} = \\frac{dx}{dz} \\cdot \\frac{dz}{dy}\n",
    "$$\n",
    "\n",
    "because then we can eliminate fractions as if these were fractions and not [infinitesimals](https://en.wikipedia.org/wiki/Infinitesimal)."
   ]
  },
  {
   "cell_type": "markdown",
   "metadata": {},
   "source": [
    "Remember that $z=\\text{log-odds} = a_1 x_1 + a_2 x_2 + a_3 x_3$ and $\\mathbf{J}$ is the cross entropy function which we want to minimize.\n",
    "\n",
    "Then for a single sample $(x, y)$:\n",
    "$$\n",
    "\\frac{\\partial \\mathbf{J}}{\\partial a_k} = \n",
    "\\frac{\\partial \\mathbf{J}}{\\partial \\widehat y} \\cdot \\frac{\\partial \\widehat y}{\\partial z} \\cdot \\frac{\\partial z}{\\partial a_k}\n",
    "$$\n",
    "\n",
    "The easiest one is:\n",
    "\n",
    "$$\n",
    "\\frac{\\partial z}{\\partial a_k} = x_k\n",
    "$$\n",
    "\n",
    "The derivative of the logistic function is (you can verify later):\n",
    "\n",
    "$$\n",
    "\\frac{\\partial \\widehat y}{\\partial z} = \\widehat y ( 1-\\widehat y )\n",
    "$$"
   ]
  },
  {
   "cell_type": "markdown",
   "metadata": {},
   "source": [
    "Next, because $\\frac{d}{dx} log(x) = \\frac{1}{x}$ (again, you can verify this),\n",
    "\n",
    "$$\n",
    "\\frac{\\partial \\mathbf{J}}{\\partial \\widehat y} = \n",
    "- \\frac{\\partial}{\\partial \\widehat y} \\big(y \\log{\\widehat{y}} + (1-y) \\log{(1-\\widehat{y})}\\big) = \\\\\n",
    "-y \\cdot \\frac{1}{\\widehat y} + (1-y) \\cdot \\frac{1}{1-\\widehat y} = \\\\\n",
    "\\frac{\\widehat y - y}{\\widehat y ( 1 - \\widehat y)}\n",
    "$$\n",
    "\n",
    "Putting it all together,\n",
    "$$\n",
    "\\frac{\\partial \\mathbf{J}}{\\partial a_k} = \n",
    "\\frac{\\partial \\mathbf{J}}{\\partial \\widehat y} \\cdot \\frac{\\partial \\widehat y}{\\partial z} \\cdot \\frac{\\partial z}{\\partial a_k} = \\\\\n",
    "\\frac{\\widehat y - y}{\\widehat y ( 1 - \\widehat y)} \\cdot \\widehat y ( 1-\\widehat y ) \\cdot x_k = \\\\\n",
    "(\\widehat y - y) \\cdot x_k\n",
    "$$\n",
    "\n",
    "which you have to admit is pretty cool: this is the residual (i.e. difference between the predicted and oberverd probabilities, $\\widehat y - y$), so 0 when you got it right and 1 or -1 when you got it completely wrong, multiplied by the stength of the signal, so that strong signals (large $x_k$) have a stonger gradient and stonger effect on the result.\n",
    "\n",
    "This was the gradient for a single sample. We average it over all samples to get a good estimate of the \"real gradient\" (law of large numbers etc.)."
   ]
  },
  {
   "cell_type": "markdown",
   "metadata": {},
   "source": [
    "# Exercise: gradient descent\n",
    "\n",
    "Implement a `gradient_descent(X, Y, a, η)` function, similar to the one we had in the [linear model session](linear-model.ipynb), which returns updated values for the coefficients based on one iteration of the gradient descent algorithm.\n",
    "Use the above derivation to calculate the gradients and return updated coefficients."
   ]
  },
  {
   "cell_type": "code",
   "execution_count": 11,
   "metadata": {},
   "outputs": [],
   "source": [
    "def gradient_descent(X, Y, a, η=0.01):\n",
    "    pass"
   ]
  },
  {
   "cell_type": "markdown",
   "metadata": {},
   "source": [
    "When your solution is ready, comment out the first line of the next cell and run it."
   ]
  },
  {
   "cell_type": "code",
   "execution_count": 19,
   "metadata": {},
   "outputs": [
    {
     "name": "stdout",
     "output_type": "stream",
     "text": [
      "Sex        0.088739\n",
      "Age       18.005091\n",
      "Pclass     1.461410\n",
      "dtype: float64\n"
     ]
    }
   ],
   "source": [
    "%run -i ../solutions/logistic-model.py\n",
    "print(gradient_descent(X, Y, a))"
   ]
  },
  {
   "cell_type": "markdown",
   "metadata": {},
   "source": [
    "# Fitting the logistic model"
   ]
  },
  {
   "cell_type": "markdown",
   "metadata": {},
   "source": [
    "Fitting the model is done in much the same way as we did with the linear model - just have to choose initial coefficeints, different stopping condition, and adjust to the API of the new `gradient_descent` function.\n",
    "\n",
    "This time we stop when the difference in cross entropy between two iterations is smaller than some value ($10^{-4}$)."
   ]
  },
  {
   "cell_type": "code",
   "execution_count": 29,
   "metadata": {},
   "outputs": [],
   "source": [
    "def logistic_model(X, Y, a=(1, 1, 1), iters=10000):\n",
    "    a = np.array(a)\n",
    "    for t in range(iters+1):\n",
    "        coefs = gradient_descent(X, Y, a)\n",
    "        if t % 1000 == 0:\n",
    "            print(\"{}: loss={:.6f}, a={}\".format(t, cross_entropy(X, Y, a), a))\n",
    "    return a"
   ]
  },
  {
   "cell_type": "code",
   "execution_count": 13,
   "metadata": {},
   "outputs": [
    {
     "name": "stdout",
     "output_type": "stream",
     "text": [
      "0: loss=16.424619, a=[0.99910465 0.81814023 0.98525564]\n",
      "1000: loss=0.566328, a=[ 1.62415016  0.02186743 -0.4703587 ]\n",
      "2000: loss=0.484899, a=[ 2.02138068e+00 -5.75467263e-04 -5.46054452e-01]\n",
      "3000: loss=0.479987, a=[ 2.22706976 -0.00313779 -0.57979328]\n",
      "4000: loss=0.478104, a=[ 2.36138952 -0.00329144 -0.60278092]\n",
      "5000: loss=0.477268, a=[ 2.45084731 -0.00336839 -0.61851448]\n",
      "6000: loss=0.476887, a=[ 2.51120755 -0.00340857 -0.62932407]\n",
      "7000: loss=0.476711, a=[ 2.55229332 -0.00343041 -0.63677211]\n",
      "8000: loss=0.476628, a=[ 2.58042642 -0.00344277 -0.64191456]\n",
      "9000: loss=0.476589, a=[ 2.59976883 -0.00345002 -0.64547029]\n",
      "10000: loss=0.476570, a=[ 2.61310454 -0.00345444 -0.6479314 ]\n"
     ]
    }
   ],
   "source": [
    "a = logistic_model(df)"
   ]
  },
  {
   "cell_type": "code",
   "execution_count": 14,
   "metadata": {},
   "outputs": [
    {
     "name": "stdout",
     "output_type": "stream",
     "text": [
      "Odds-ratios:\n",
      "sex \t\tage \t     pclass\n",
      "[13.64133524  0.99655152  0.5231268 ]\n"
     ]
    }
   ],
   "source": [
    "print(\"Odds-ratios:\")\n",
    "print(\"sex \t\tage \t     pclass\")\n",
    "print(np.exp(a))"
   ]
  },
  {
   "cell_type": "markdown",
   "metadata": {},
   "source": [
    "We can interpret these results as follows:\n",
    "- women were much more likely to survive\n",
    "- older passengers were less likely to survive\n",
    "- passengers with expensive tickets were much move likely to survive\n",
    "\n",
    "Of course, some of these features are likely interacting: for example, age and class seem to be correlated:"
   ]
  },
  {
   "cell_type": "code",
   "execution_count": 15,
   "metadata": {},
   "outputs": [
    {
     "data": {
      "image/png": "[encoded data removed]",
      "text/plain": [
       "<Figure size 432x288 with 1 Axes>"
      ]
     },
     "metadata": {
      "image/png": {
       "height": 280,
       "width": 400
      },
      "needs_background": "light"
     },
     "output_type": "display_data"
    }
   ],
   "source": [
    "sns.violinplot(x='Pclass', y='Age', data=df)\n",
    "sns.despine()"
   ]
  },
  {
   "cell_type": "markdown",
   "metadata": {},
   "source": [
    "# Off-the-shelf solutions\n",
    "\n",
    "Of course, we should use solutions that someone else already optimized and debugged.\n",
    "\n",
    "## Scikit-learn\n",
    "\n",
    "[scikit-learn](http://scikit-learn.org/stable/index.html) is an awesone machine learning package will very good documentation.\n",
    "Note that the package name is `sklearn`."
   ]
  },
  {
   "cell_type": "code",
   "execution_count": 31,
   "metadata": {},
   "outputs": [],
   "source": [
    "from sklearn.linear_model import LogisticRegression"
   ]
  },
  {
   "cell_type": "code",
   "execution_count": 32,
   "metadata": {},
   "outputs": [
    {
     "data": {
      "text/plain": [
       "0.7801120448179272"
      ]
     },
     "execution_count": 32,
     "metadata": {},
     "output_type": "execute_result"
    }
   ],
   "source": [
    "model = LogisticRegression(fit_intercept=False)\n",
    "model.fit(X, Y)\n",
    "model.score(X, Y)"
   ]
  },
  {
   "cell_type": "markdown",
   "metadata": {},
   "source": [
    "## statsmodels\n",
    "\n",
    "[statsmodels](http://statsmodels.sourceforge.net/) is also a good package, more oriented to statistics then machine learning.\n",
    "\n",
    "Note that statsmodels uses IRLS to find the maximum likelihood, rather than gradient descent, and therefore it is much faster."
   ]
  },
  {
   "cell_type": "code",
   "execution_count": 34,
   "metadata": {},
   "outputs": [],
   "source": [
    "import statsmodels.api as sm"
   ]
  },
  {
   "cell_type": "code",
   "execution_count": 35,
   "metadata": {},
   "outputs": [
    {
     "name": "stdout",
     "output_type": "stream",
     "text": [
      "Optimization terminated successfully.\n",
      "         Current function value: 0.476553\n",
      "         Iterations 6\n",
      "Accuracy: 0.7801120448179272\n"
     ]
    }
   ],
   "source": [
    "logit = sm.Logit(Y, X)\n",
    "result = logit.fit()\n",
    "predictions = result.predict(X) > 0.5\n",
    "truth = df['Survived'].values\n",
    "print(\"Accuracy: {}\".format((predictions == truth).mean()))"
   ]
  },
  {
   "cell_type": "code",
   "execution_count": 36,
   "metadata": {},
   "outputs": [
    {
     "data": {
      "text/html": [
       "<div>\n",
       "<style scoped>\n",
       "    .dataframe tbody tr th:only-of-type {\n",
       "        vertical-align: middle;\n",
       "    }\n",
       "\n",
       "    .dataframe tbody tr th {\n",
       "        vertical-align: top;\n",
       "    }\n",
       "\n",
       "    .dataframe thead th {\n",
       "        text-align: right;\n",
       "    }\n",
       "</style>\n",
       "<table border=\"1\" class=\"dataframe\">\n",
       "  <thead>\n",
       "    <tr style=\"text-align: right;\">\n",
       "      <th></th>\n",
       "      <th>Odds ratio</th>\n",
       "      <th>95% CI Low</th>\n",
       "      <th>95% CI High</th>\n",
       "      <th>P-value</th>\n",
       "    </tr>\n",
       "  </thead>\n",
       "  <tbody>\n",
       "    <tr>\n",
       "      <th>Sex</th>\n",
       "      <td>14.056245</td>\n",
       "      <td>9.633298</td>\n",
       "      <td>20.509905</td>\n",
       "      <td>8.809118e-43</td>\n",
       "    </tr>\n",
       "    <tr>\n",
       "      <th>Age</th>\n",
       "      <td>0.996543</td>\n",
       "      <td>0.987879</td>\n",
       "      <td>1.005283</td>\n",
       "      <td>4.370385e-01</td>\n",
       "    </tr>\n",
       "    <tr>\n",
       "      <th>Pclass</th>\n",
       "      <td>0.520227</td>\n",
       "      <td>0.451981</td>\n",
       "      <td>0.598779</td>\n",
       "      <td>8.395339e-20</td>\n",
       "    </tr>\n",
       "  </tbody>\n",
       "</table>\n",
       "</div>"
      ],
      "text/plain": [
       "        Odds ratio  95% CI Low  95% CI High       P-value\n",
       "Sex      14.056245    9.633298    20.509905  8.809118e-43\n",
       "Age       0.996543    0.987879     1.005283  4.370385e-01\n",
       "Pclass    0.520227    0.451981     0.598779  8.395339e-20"
      ]
     },
     "execution_count": 36,
     "metadata": {},
     "output_type": "execute_result"
    }
   ],
   "source": [
    "summary = pd.concat([\n",
    "    np.exp(result.params),\n",
    "    np.exp(result.conf_int()),\n",
    "    result.pvalues\n",
    "], axis=1)\n",
    "summary.columns = ['Odds ratio', '95% CI Low', '95% CI High', 'P-value']\n",
    "summary"
   ]
  },
  {
   "cell_type": "markdown",
   "metadata": {},
   "source": [
    "# Exercise: tennis\n",
    "\n",
    "See the [tennis exercise](../exercises/logistic-tennis.ipynb), in which you will try to predict who won a tennis game - player 1 or player 2."
   ]
  },
  {
   "cell_type": "markdown",
   "metadata": {},
   "source": [
    "# References\n",
    "\n",
    "- Pawitan Y, 2001. *In all likelihood: statistical modelling and inference using likelihood*. **Ch. 6.2**.\n",
    "- Cyrille Rossant, 2014. [IPython Interactive Computing and Visualization Cookbook](https://ipython-books.github.io/cookbook/) (a similar Titanic example is shown in chapter \"Predicting who will survive on the Titanic with logistic regression\"). \n",
    "- Scikit-learn documentation has a [tutorial](http://scikit-learn.org/stable/tutorial/statistical_inference/supervised_learning.html#classification) using the classical Iris dataset, with examples for other classification methods other than logistic regression."
   ]
  },
  {
   "cell_type": "markdown",
   "metadata": {},
   "source": [
    "# Colophon\n",
    "This notebook was written by [Yoav Ram](http://python.yoavram.com) and is part of the [_Data Science with Python_](https://python.yoavram.com/Deep4Devs) workshops.\n",
    "\n",
    "The notebook was written using [Python](http://python.org/) 3.6.3, [IPython](http://ipython.org/) 6.2.1, [Jupyter](http://jupyter.org) 5.1.0.\n",
    "\n",
    "This work is licensed under a CC BY-NC-SA 4.0 International License.\n",
    "\n",
    "![Python logo](https://www.python.org/static/community_logos/python-logo.png)"
   ]
  }
 ],
 "metadata": {
  "kernelspec": {
   "display_name": "Python [conda env:DataSciPy]",
   "language": "python",
   "name": "conda-env-DataSciPy-py"
  },
  "language_info": {
   "codemirror_mode": {
    "name": "ipython",
    "version": 3
   },
   "file_extension": ".py",
   "mimetype": "text/x-python",
   "name": "python",
   "nbconvert_exporter": "python",
   "pygments_lexer": "ipython3",
   "version": "3.6.7"
  }
 },
 "nbformat": 4,
 "nbformat_minor": 4
}
