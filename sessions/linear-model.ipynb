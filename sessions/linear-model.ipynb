{
 "cells": [
  {
   "cell_type": "markdown",
   "metadata": {},
   "source": [
    "![Py4Eng](img/logo.png)\n",
    "\n",
    "# Linear Model\n",
    "## Yoav Ram\n",
    "\n",
    "In this session we will understand:\n",
    "- how linear models can be used to predict or interpolate data\n",
    "- how to fit linear models to data using maximum likelihood and gradient descent\n",
    "- how to visualize scatterplots, linear models, and histograms\n",
    "- the basics of pandas, matplotlib, and seaborn\n",
    "- how to download and open zip files"
   ]
  },
  {
   "cell_type": "code",
   "execution_count": 27,
   "metadata": {},
   "outputs": [],
   "source": [
    "import urllib.request\n",
    "import os\n",
    "import zipfile\n",
    "\n",
    "%matplotlib inline\n",
    "import matplotlib.pyplot as plt\n",
    "import numpy as np\n",
    "import pandas as pd\n",
    "import scipy.stats\n",
    "import scipy.optimize\n",
    "import seaborn as sns\n",
    "\n",
    "import warnings\n",
    "warnings.simplefilter('ignore', FutureWarning)\n",
    "warnings.simplefilter('ignore', UserWarning)\n",
    "\n",
    "sns.set(\n",
    "    style='ticks',\n",
    "    context='talk',\n",
    "    palette='Set1'\n",
    ")"
   ]
  },
  {
   "cell_type": "markdown",
   "metadata": {},
   "source": [
    "# Get the data\n",
    "\n",
    "We will use some tennis data so that we can talk about *linear regression*.\n",
    "\n",
    "We start by openning the zip file and print its contents.\n",
    "\n",
    "Note 1: [`zipfile`](https://docs.python.org/3/library/zipfile.html) is part of Python standard library, which also includes modules for [`gzip`](https://docs.python.org/3/library/gzip.html), [`bz2`](https://docs.python.org/3/library/bz2.html) and other compression formats.\n",
    "Note 2: Data from the [IPython Cookbook: example data](https://github.com/ipython-books/cookbook-data) repo."
   ]
  },
  {
   "cell_type": "code",
   "execution_count": 28,
   "metadata": {},
   "outputs": [
    {
     "name": "stdout",
     "output_type": "stream",
     "text": [
      "data/Andy-Murray.csv\n",
      "data/Novak-Djokovic.csv\n",
      "data/Rafael-Nadal.csv\n",
      "data/Roger-Federer.csv\n"
     ]
    }
   ],
   "source": [
    "filename = '../data/tennis.zip'\n",
    "tennis_zip = zipfile.ZipFile(filename)\n",
    "for f in tennis_zip.filelist: \n",
    "    print(f.filename)"
   ]
  },
  {
   "cell_type": "markdown",
   "metadata": {},
   "source": [
    "So we have CSV files for Tennis' [Big Four](https://en.wikipedia.org/wiki/Big_Four_%28tennis%29).\n",
    "\n",
    "We can open CSV files with the standard library's [`csv`](https://docs.python.org/3/library/csv.html) module, but it is much more convinient to use Pandas."
   ]
  },
  {
   "cell_type": "code",
   "execution_count": 29,
   "metadata": {},
   "outputs": [
    {
     "data": {
      "text/html": [
       "<div>\n",
       "<style scoped>\n",
       "    .dataframe tbody tr th:only-of-type {\n",
       "        vertical-align: middle;\n",
       "    }\n",
       "\n",
       "    .dataframe tbody tr th {\n",
       "        vertical-align: top;\n",
       "    }\n",
       "\n",
       "    .dataframe thead th {\n",
       "        text-align: right;\n",
       "    }\n",
       "</style>\n",
       "<table border=\"1\" class=\"dataframe\">\n",
       "  <thead>\n",
       "    <tr style=\"text-align: right;\">\n",
       "      <th></th>\n",
       "      <th>year</th>\n",
       "      <th>tournament</th>\n",
       "      <th>start date</th>\n",
       "      <th>type</th>\n",
       "      <th>surface</th>\n",
       "      <th>draw</th>\n",
       "      <th>atp points</th>\n",
       "      <th>atp ranking</th>\n",
       "      <th>tournament prize money</th>\n",
       "      <th>round</th>\n",
       "      <th>...</th>\n",
       "      <th>player2 2nd serve return points total</th>\n",
       "      <th>player2 break points converted won</th>\n",
       "      <th>player2 break points converted total</th>\n",
       "      <th>player2 return games played</th>\n",
       "      <th>player2 total service points won</th>\n",
       "      <th>player2 total service points total</th>\n",
       "      <th>player2 total return points won</th>\n",
       "      <th>player2 total return points total</th>\n",
       "      <th>player2 total points won</th>\n",
       "      <th>player2 total points total</th>\n",
       "    </tr>\n",
       "  </thead>\n",
       "  <tbody>\n",
       "    <tr>\n",
       "      <th>0</th>\n",
       "      <td>2003</td>\n",
       "      <td>Serbia F6, Beograd</td>\n",
       "      <td>28.07.2003</td>\n",
       "      <td>FU</td>\n",
       "      <td>Outdoor: Clay</td>\n",
       "      <td>Draw: 32</td>\n",
       "      <td>4</td>\n",
       "      <td>709.0</td>\n",
       "      <td>$480</td>\n",
       "      <td>R32</td>\n",
       "      <td>...</td>\n",
       "      <td>NaN</td>\n",
       "      <td>NaN</td>\n",
       "      <td>NaN</td>\n",
       "      <td>NaN</td>\n",
       "      <td>NaN</td>\n",
       "      <td>NaN</td>\n",
       "      <td>NaN</td>\n",
       "      <td>NaN</td>\n",
       "      <td>NaN</td>\n",
       "      <td>NaN</td>\n",
       "    </tr>\n",
       "    <tr>\n",
       "      <th>1</th>\n",
       "      <td>2003</td>\n",
       "      <td>Serbia F6, Beograd</td>\n",
       "      <td>28.07.2003</td>\n",
       "      <td>FU</td>\n",
       "      <td>Outdoor: Clay</td>\n",
       "      <td>Draw: 32</td>\n",
       "      <td>4</td>\n",
       "      <td>709.0</td>\n",
       "      <td>$480</td>\n",
       "      <td>R16</td>\n",
       "      <td>...</td>\n",
       "      <td>NaN</td>\n",
       "      <td>NaN</td>\n",
       "      <td>NaN</td>\n",
       "      <td>NaN</td>\n",
       "      <td>NaN</td>\n",
       "      <td>NaN</td>\n",
       "      <td>NaN</td>\n",
       "      <td>NaN</td>\n",
       "      <td>NaN</td>\n",
       "      <td>NaN</td>\n",
       "    </tr>\n",
       "    <tr>\n",
       "      <th>2</th>\n",
       "      <td>2003</td>\n",
       "      <td>Serbia F6, Beograd</td>\n",
       "      <td>28.07.2003</td>\n",
       "      <td>FU</td>\n",
       "      <td>Outdoor: Clay</td>\n",
       "      <td>Draw: 32</td>\n",
       "      <td>4</td>\n",
       "      <td>709.0</td>\n",
       "      <td>$480</td>\n",
       "      <td>Q</td>\n",
       "      <td>...</td>\n",
       "      <td>NaN</td>\n",
       "      <td>NaN</td>\n",
       "      <td>NaN</td>\n",
       "      <td>NaN</td>\n",
       "      <td>NaN</td>\n",
       "      <td>NaN</td>\n",
       "      <td>NaN</td>\n",
       "      <td>NaN</td>\n",
       "      <td>NaN</td>\n",
       "      <td>NaN</td>\n",
       "    </tr>\n",
       "    <tr>\n",
       "      <th>3</th>\n",
       "      <td>2003</td>\n",
       "      <td>Serbia F6, Beograd</td>\n",
       "      <td>28.07.2003</td>\n",
       "      <td>FU</td>\n",
       "      <td>Outdoor: Clay</td>\n",
       "      <td>Draw: 32</td>\n",
       "      <td>4</td>\n",
       "      <td>709.0</td>\n",
       "      <td>$480</td>\n",
       "      <td>S</td>\n",
       "      <td>...</td>\n",
       "      <td>NaN</td>\n",
       "      <td>NaN</td>\n",
       "      <td>NaN</td>\n",
       "      <td>NaN</td>\n",
       "      <td>NaN</td>\n",
       "      <td>NaN</td>\n",
       "      <td>NaN</td>\n",
       "      <td>NaN</td>\n",
       "      <td>NaN</td>\n",
       "      <td>NaN</td>\n",
       "    </tr>\n",
       "    <tr>\n",
       "      <th>4</th>\n",
       "      <td>2003</td>\n",
       "      <td>Serbia F5, Beograd</td>\n",
       "      <td>21.07.2003</td>\n",
       "      <td>FU</td>\n",
       "      <td>Outdoor: Clay</td>\n",
       "      <td>Draw: 32</td>\n",
       "      <td>NaN</td>\n",
       "      <td>774.0</td>\n",
       "      <td>$118</td>\n",
       "      <td>R32</td>\n",
       "      <td>...</td>\n",
       "      <td>NaN</td>\n",
       "      <td>NaN</td>\n",
       "      <td>NaN</td>\n",
       "      <td>NaN</td>\n",
       "      <td>NaN</td>\n",
       "      <td>NaN</td>\n",
       "      <td>NaN</td>\n",
       "      <td>NaN</td>\n",
       "      <td>NaN</td>\n",
       "      <td>NaN</td>\n",
       "    </tr>\n",
       "  </tbody>\n",
       "</table>\n",
       "<p>5 rows × 70 columns</p>\n",
       "</div>"
      ],
      "text/plain": [
       "   year          tournament  start date type        surface      draw  \\\n",
       "0  2003  Serbia F6, Beograd  28.07.2003   FU  Outdoor: Clay  Draw: 32   \n",
       "1  2003  Serbia F6, Beograd  28.07.2003   FU  Outdoor: Clay  Draw: 32   \n",
       "2  2003  Serbia F6, Beograd  28.07.2003   FU  Outdoor: Clay  Draw: 32   \n",
       "3  2003  Serbia F6, Beograd  28.07.2003   FU  Outdoor: Clay  Draw: 32   \n",
       "4  2003  Serbia F5, Beograd  21.07.2003   FU  Outdoor: Clay  Draw: 32   \n",
       "\n",
       "  atp points  atp ranking tournament prize money round  ...  \\\n",
       "0          4        709.0                   $480   R32  ...   \n",
       "1          4        709.0                   $480   R16  ...   \n",
       "2          4        709.0                   $480     Q  ...   \n",
       "3          4        709.0                   $480     S  ...   \n",
       "4        NaN        774.0                   $118   R32  ...   \n",
       "\n",
       "  player2 2nd serve return points total player2 break points converted won  \\\n",
       "0                                   NaN                                NaN   \n",
       "1                                   NaN                                NaN   \n",
       "2                                   NaN                                NaN   \n",
       "3                                   NaN                                NaN   \n",
       "4                                   NaN                                NaN   \n",
       "\n",
       "  player2 break points converted total player2 return games played  \\\n",
       "0                                  NaN                         NaN   \n",
       "1                                  NaN                         NaN   \n",
       "2                                  NaN                         NaN   \n",
       "3                                  NaN                         NaN   \n",
       "4                                  NaN                         NaN   \n",
       "\n",
       "  player2 total service points won player2 total service points total  \\\n",
       "0                              NaN                                NaN   \n",
       "1                              NaN                                NaN   \n",
       "2                              NaN                                NaN   \n",
       "3                              NaN                                NaN   \n",
       "4                              NaN                                NaN   \n",
       "\n",
       "   player2 total return points won player2 total return points total  \\\n",
       "0                              NaN                               NaN   \n",
       "1                              NaN                               NaN   \n",
       "2                              NaN                               NaN   \n",
       "3                              NaN                               NaN   \n",
       "4                              NaN                               NaN   \n",
       "\n",
       "  player2 total points won player2 total points total  \n",
       "0                      NaN                        NaN  \n",
       "1                      NaN                        NaN  \n",
       "2                      NaN                        NaN  \n",
       "3                      NaN                        NaN  \n",
       "4                      NaN                        NaN  \n",
       "\n",
       "[5 rows x 70 columns]"
      ]
     },
     "execution_count": 29,
     "metadata": {},
     "output_type": "execute_result"
    }
   ],
   "source": [
    "player = 'Novak Djokovic'\n",
    "path = 'data/{}.csv'\n",
    "path = path.format(player.replace(' ', '-'))\n",
    "with tennis_zip.open(path) as f:\n",
    "    df = pd.read_csv(f)\n",
    "df.head()"
   ]
  },
  {
   "cell_type": "markdown",
   "metadata": {},
   "source": [
    "## Exercise: plotting\n",
    "\n",
    "Plotting is done by calling functions from the `plot` attribute of the dataframe, but the underlying mechanism is at work is *matplotlib*, the fundamental Python plotting library.\n",
    "\n",
    "Now let's plot the points won vs points aced to try and see if one can explain the other.\n",
    "\n",
    "Bonus points: `marker` and `alpha` keyword arguments control the marker shape and the transparency, use these arguments to plot with `.` instead of the default `o` and with tranparancy of 3/4.\n",
    "\n",
    "**Reminder**\n",
    "- Edit cell by double clicking\n",
    "- Run cell by pressing _Shift+Enter_\n",
    "- Get autocompletion by pressing _Tab_\n",
    "- Get documentation by pressing _Shift+Tab_"
   ]
  },
  {
   "cell_type": "code",
   "execution_count": null,
   "metadata": {},
   "outputs": [],
   "source": []
  },
  {
   "cell_type": "markdown",
   "metadata": {},
   "source": [
    "# Linear model\n",
    "\n",
    "Can the number of aces by Novak provide a good predictor of the number of points he won?\n",
    "\n",
    "The simplest model for such predictions is the linear model\n",
    "$$\n",
    "\\widehat{y} = ax + b\n",
    "$$\n",
    "where here $x$ is the aces and $y$ is the points won.\n",
    "The model parameters can be interpreted as follows:\n",
    "- the intercept $b$ is the estimate for points won if 0 points were aced, $b = \\widehat{y}(x=0)$, and\n",
    "- the slope $a$ is the estimate for the linear increase in points won for every additional ace, $a = \\widehat{y}(x+1)-\\widehat{y}(x)$.\n",
    "\n",
    "How do we find suitable $a$ and $b$?\n",
    "For a given $a$ and $b$, we mark the real points won as $y$ and calculate the distance between the predictions and the observed values.\n",
    "We plot a histogram of these differences, called [residuals](https://en.wikipedia.org/wiki/Errors_and_residuals).\n",
    "Here, `bins` controls the number (if `int`) or locations (if `list`) of the histogram bins."
   ]
  },
  {
   "cell_type": "code",
   "execution_count": 30,
   "metadata": {},
   "outputs": [
    {
     "data": {
      "image/png": "[encoded data removed]",
      "text/plain": [
       "<Figure size 432x288 with 1 Axes>"
      ]
     },
     "metadata": {},
     "output_type": "display_data"
    }
   ],
   "source": [
    "X = df['player1 aces']\n",
    "Y = df['player1 total points won']\n",
    "\n",
    "a = 1\n",
    "b = np.mean(Y[X==0])\n",
    "\n",
    "Yhat = a * X + b\n",
    "residuals = Y - Yhat\n",
    "\n",
    "residuals.plot.hist(bins=50)\n",
    "plt.axvline(x=0, color='k', ls='--')\n",
    "plt.xlabel('residuals');"
   ]
  },
  {
   "cell_type": "markdown",
   "metadata": {},
   "source": [
    "We can see that the distribution is not really gaussian/normal, we'll get back to that later."
   ]
  },
  {
   "cell_type": "markdown",
   "metadata": {},
   "source": [
    "# Maximum likelihood & least squares\n",
    "\n",
    "In the simplest form of linear modeling, we assume that the residuals (the distance between our prediction and the observed values) has a [normal (or Gaussian) distribution](https://en.wikipedia.org/wiki/Normal_distribution). \n",
    "However, this assumption is not a must, and the framework of [generalized linear models](https://en.wikipedia.org/wiki/Generalized_linear_model) allow us to replace the normal distribution with other distributions such as the binomial distribution (which might be more suitable in this case, in which y values are integers).\n",
    "We'll talk about it again later.\n",
    "\n",
    "Usually, when we speak about probabilities, we ask *\"what is the probability to see this data given this model\"* - when I say \"model\" I mean something like $y=ax+b$ with given values for $a$ and $b$, such as $a=1$ and $b=0$, and a normal distribution of errors, that is, that observed values should be normally distributed around the expected value:\n",
    "$$\n",
    "y \\sim Normal\\big(\\widehat{y}, \\sigma^2\\big)\n",
    "$$\n",
    "where $\\sigma^2$ is the variance of the distribution.\n",
    "\n",
    "That is, we want to say something about expected data given a model.\n",
    "\n",
    "For example, given this model ($y=x$), if $x=5$ then the probability for $y=2$ is:\n",
    "$$\n",
    "P(y=2) = \\frac{1}{\\sqrt{2 \\pi \\sigma^2}} exp\\bigg(-\\frac{(2-5a-b)^2}{2\\sigma^2}\\bigg),\n",
    "$$\n",
    "and in general, the probability for an observation $y$ is\n",
    "$$\n",
    "P(y) = \\frac{1}{\\sqrt{2 \\pi \\sigma^2}} exp\\bigg(-\\frac{(y - \\widehat{y})^2}{2\\sigma^2}\\bigg).\n",
    "$$\n",
    "\n",
    "But in cases where we have data and we try to say something about the expected model given observed data.\n",
    "This is where *likelihood* comes into place, and its definition is straight-forward:\n",
    "The **likelihood of the model** $y \\sim Normal(ax+b, \\sigma^2)$ given observed data $(x, y)$ is the probability of seeing data $(x,y)$ given the model $y \\sim Normal(ax+b, \\sigma^2)$.\n",
    "\n",
    "If we have mutliple data points (we do!) we just multiply all of them under the assumption that each data point (here, game point, so.. confusing) is *independent* (in the probability sense of independence, that is, knowing what happened in one of them doesn't change the probability of the other one occuring).\n",
    "\n",
    "So the likelihood of the model $y \\sim Normal(ax+b, \\sigma^2)$ given data points $(x_i, y_i)$, where $i$ indexes the point, is\n",
    "$$\n",
    "\\mathbf{L}(a,b | x_i, y_i) = (2 \\pi \\sigma^2)^{-n/2} \\prod_{i=1}^{n}{ exp\\bigg(-\\frac{(y_i - ax_i -b)^2}{2\\sigma^2}\\bigg)}\n",
    "$$"
   ]
  },
  {
   "cell_type": "markdown",
   "metadata": {},
   "source": [
    "After establishing what likelihood is, we can ask _what are the parameters $a$ and $b$ that maximize the model likelihood?_. \n",
    "\n",
    "This is akin to asking what are $a$ and $b$ for which the probability of seeing the data we saw is maximized.\n",
    "This approach is called **maximum likelihood**.\n",
    "\n",
    "Now, our likelihood $\\mathbf{L}$ is a product of exponents, so we can take the log-likelihood (literally the log of the likelihood) to get a simpler expression\n",
    "$$\n",
    "\\log\\mathbf{L} = \\\\\n",
    "\\log (2 \\pi \\sigma^2)^{-n/2} + \\log{\\prod_{i=1}^{n}{ exp\\bigg(-\\frac{(y_i - ax_i -b)^2}{2\\sigma^2}\\bigg)}} = \\\\\n",
    "-\\frac{n}{2}\\log{(2 \\pi \\sigma^2)} + \\sum_{i=1}^{n}{-\\frac{(y_i-ax_i-b)^2}{2\\sigma^2}} = \\\\\n",
    "-\\frac{n}{2}\\log{(2 \\pi \\sigma^2)} - \\frac{1}{2\\sigma^2} \\sum_{i=1}^{n}{(y_i-ax_i-b)^2}\n",
    "$$\n",
    "\n",
    "Note that \n",
    "- $\\log{\\mathbf{L}}$ is an increasing function of $\\mathbf{L}$ so maximizing the log-likelihood is equivalent to maximizing the likelihood\n",
    "- $a$ and $b$ only appear in the sum-of-squares, which is prepended by a negative sign, so minimizing the sum-of-squares is equivalent to maximizing the log-likelihood\n",
    "- if we only care about the best estimate of $a$ and $b$ then we don't really care about the variance $\\sigma^2$ (we would care if we wanted to have some statistical measure of precision or confidence)\n",
    "\n",
    "This is where the **least squares** approach comes from: when assuming a model with normal distribution of residuals, maximizing the likelihood is equivalent to minimizing the sum-of-squares of the residials, or the deviances between the model prediction $\\widehat{y}$ and the observed value $y$.\n",
    "\n",
    "Note that this works with non-linear models just the same, as long as the residuals are normally and independently distributed."
   ]
  },
  {
   "cell_type": "markdown",
   "metadata": {},
   "source": [
    "In ths case of a linear model there is a formula to find $a$ and $\\sigma^2$ when $b=0$, but since we will later deal with cases in which there is no formula, let's continue as if there is no formula.\n",
    "\n",
    "Let's calculate the sum-of-squares. \n",
    "Note that Pandas aggregation methods (such as `sum` or `mean`) ignore NaN values, but this is not always the case in other numerical packages."
   ]
  },
  {
   "cell_type": "code",
   "execution_count": 31,
   "metadata": {},
   "outputs": [
    {
     "data": {
      "text/plain": [
       "620817.462603878"
      ]
     },
     "execution_count": 31,
     "metadata": {},
     "output_type": "execute_result"
    }
   ],
   "source": [
    "(residuals**2).sum()"
   ]
  },
  {
   "cell_type": "markdown",
   "metadata": {},
   "source": [
    "## Exercise: sumsquares\n",
    "\n",
    "Write a function that calculates the sum-of-squares for some $a$ and $b$ values and the data $x,y$:"
   ]
  },
  {
   "cell_type": "code",
   "execution_count": 7,
   "metadata": {},
   "outputs": [],
   "source": [
    "def sumsquares(a, b, X, Y):\n",
    "    # your code here"
   ]
  },
  {
   "cell_type": "code",
   "execution_count": 32,
   "metadata": {},
   "outputs": [
    {
     "data": {
      "text/plain": [
       "620817.462603878"
      ]
     },
     "execution_count": 32,
     "metadata": {},
     "output_type": "execute_result"
    }
   ],
   "source": [
    "sumsquares(a, b, X, Y)"
   ]
  },
  {
   "cell_type": "markdown",
   "metadata": {},
   "source": [
    "Now we would like to find $a$ and $b$ that minimize the function `sumsquares`.\n",
    "\n",
    "# Gradient descent\n",
    "\n",
    "One way to do this is with *gradient descent*.\n",
    "This is an iterative algorithm.\n",
    "In each step, we calculate that gradient of the function (sum-squares) with respect to model parameters $a$ and $b$ (the gradient is just the vector of derivatives):\n",
    "$$\n",
    "RSS \\big(a, b, x, y\\big) = \\sum_{i=1}^{n}{(y_i-ax_i-b)^2} \\\\\n",
    "\\frac{\\partial RSS}{\\partial a} = \\sum_{i=1}^{n}{2ax^2 +2bx -2xy} \\\\\n",
    "\\frac{\\partial RSS}{\\partial b} = \\sum_{i=1}^{n}{2ax +2b -2y}\n",
    "$$\n",
    "and \"descend\" (minimize) the function just a tiny bit by updating $a$ and $b$ in the oppositve direction of the gradient:\n",
    "$$\n",
    "a_t = a_{t-1} - \\eta \\frac{\\partial RSS}{\\partial a} \\\\ \n",
    "b_t = b_{t-1} - \\eta \\frac{\\partial RSS}{\\partial b}\n",
    "$$\n",
    "where $\\eta$ is the size of the step we take (the \"tiny bit\"), also sometimes called the *learning rate*. We'll talk later about methods in which this rate can be learned or adjusted over time.\n",
    "\n",
    "Let's try it!\n"
   ]
  },
  {
   "cell_type": "code",
   "execution_count": 33,
   "metadata": {},
   "outputs": [],
   "source": [
    "def gradient_descent(a, b, X, Y, η):\n",
    "    dRSSda = (2*a*X*X + 2*b*X -2*X*Y).sum()\n",
    "    dRSSdb = (2*a*X + 2*b - 2*Y).sum()\n",
    "    return a - η * dRSSda, b - η * dRSSdb"
   ]
  },
  {
   "cell_type": "markdown",
   "metadata": {},
   "source": [
    "The last technical details is the stopping condition.\n",
    "We'll set the gradient descent to stop after 5000 iterations (we can run more afterwards if we want by setting `a` and `b` to start where we left off)."
   ]
  },
  {
   "cell_type": "code",
   "execution_count": 34,
   "metadata": {},
   "outputs": [],
   "source": [
    "def linear_model(X, Y, a=0, b=0, η=0.00001, iters=5000):    \n",
    "    for t in range(iters+1):\n",
    "        a, b = gradient_descent(a, b, X, Y, η)\n",
    "        if t % 500 == 0:            \n",
    "            print(\"{}: RSS={:.4f}, a={:.4f}, b={:.4f}\".format(t, sumsquares(a, b, X, Y), a, b))\n",
    "    return a, b"
   ]
  },
  {
   "cell_type": "code",
   "execution_count": 35,
   "metadata": {},
   "outputs": [
    {
     "name": "stdout",
     "output_type": "stream",
     "text": [
      "0: RSS=1979612.1580, a=5.6627, b=0.9533\n",
      "500: RSS=406387.2995, a=5.0880, b=53.1186\n",
      "1000: RSS=381693.1769, a=3.7785, b=63.1285\n",
      "1500: RSS=380755.2315, a=3.5233, b=65.0793\n",
      "2000: RSS=380719.6059, a=3.4736, b=65.4595\n",
      "2500: RSS=380718.2528, a=3.4639, b=65.5336\n",
      "3000: RSS=380718.2014, a=3.4620, b=65.5481\n",
      "3500: RSS=380718.1994, a=3.4616, b=65.5509\n",
      "4000: RSS=380718.1993, a=3.4615, b=65.5514\n",
      "4500: RSS=380718.1993, a=3.4615, b=65.5516\n",
      "5000: RSS=380718.1993, a=3.4615, b=65.5516\n"
     ]
    }
   ],
   "source": [
    "a, b = linear_model(X, Y)"
   ]
  },
  {
   "cell_type": "markdown",
   "metadata": {},
   "source": [
    "# Plot and interpret a linear model"
   ]
  },
  {
   "cell_type": "markdown",
   "metadata": {},
   "source": [
    "Let's plot the results.\n",
    "We now load the [matplotlib](http://matplotlib.org) library to use it to plot a straight line over the scatterplot. Note that we sort the x values first otherwise the straight line will zigzag over the plot."
   ]
  },
  {
   "cell_type": "code",
   "execution_count": 12,
   "metadata": {},
   "outputs": [
    {
     "name": "stdout",
     "output_type": "stream",
     "text": [
      "a=3.4615302824464615, b=65.55157465351931\n"
     ]
    },
    {
     "data": {
      "image/png": "[encoded data removed]",
      "text/plain": [
       "<Figure size 432x288 with 1 Axes>"
      ]
     },
     "metadata": {
      "needs_background": "light"
     },
     "output_type": "display_data"
    }
   ],
   "source": [
    "def plot_linear_model(a, b, X, Y, **plot_kws):\n",
    "    plt.scatter(X, Y, marker='.', alpha=0.75)\n",
    "    X_ = X.sort_values()\n",
    "    plt.plot(X_, a * X_ + b, '-r', **plot_kws)\n",
    "    plt.xlabel('aces')\n",
    "    plt.ylabel('total points won')\n",
    "    print(\"a={}, b={}\".format(a, b))\n",
    "    \n",
    "plot_linear_model(a, b, X, Y);"
   ]
  },
  {
   "cell_type": "markdown",
   "metadata": {},
   "source": [
    "The results can be interpreted as follows\n",
    "- without any aces, Novak wins ~65 points. \n",
    "- for any additional ace, he wins an additional ~3.5 point (more than the one point given by the ace)\n",
    "\n",
    "This model will probably do a good job at *interpolation*, that is estimating $\\widehat{y}$ for $x$ values that are within the original $x$ values, but not at *extrapolation*.\n",
    "For example, if Novak aces all the points in a game, he can't wint 3.5 times the points he aced!"
   ]
  },
  {
   "cell_type": "markdown",
   "metadata": {},
   "source": [
    "# Off-the-shelf solutions"
   ]
  },
  {
   "cell_type": "markdown",
   "metadata": {},
   "source": [
    "Let's see how we could have done this with Python's packages instead of reinventing the wheel.\n",
    "\n",
    "We'll work with NumPy and SciPy, the numerical and scientific backbone of scientific Python.\n",
    "\n",
    "NumPy and SciPy don't like NaNs, which we have a lot. We can fliter them with `np.isfinite` or just by taking only the non-negative values (NaN are not negative but are also not non-negative)."
   ]
  },
  {
   "cell_type": "code",
   "execution_count": 36,
   "metadata": {},
   "outputs": [],
   "source": [
    "Y = Y[np.isfinite(X)]\n",
    "X = X[np.isfinite(X)]"
   ]
  },
  {
   "cell_type": "markdown",
   "metadata": {},
   "source": [
    "## NumPy\n",
    "\n",
    "First method is NumPy's `polyfit` which fits a polynomial of specified degree to the data; in this case we want degree one. It returns the coefficients of the polynomial, which we could feed to `np.poly1d` to create a callable polynomial object."
   ]
  },
  {
   "cell_type": "code",
   "execution_count": 37,
   "metadata": {},
   "outputs": [
    {
     "name": "stdout",
     "output_type": "stream",
     "text": [
      "3.4615296227204375 65.55157969668237\n"
     ]
    }
   ],
   "source": [
    "a_np, b_np = np.polyfit(X, Y, 1)\n",
    "print(a_np, b_np)"
   ]
  },
  {
   "cell_type": "markdown",
   "metadata": {},
   "source": [
    "Note how much faster NumPy does it.\n",
    "This is because under-the-hood NumPy calls native code (C/Fortran).\n",
    "The main drain of calculation time is probably the `while` loop in `linear_model` as each iteration performs redundent type check etc."
   ]
  },
  {
   "cell_type": "code",
   "execution_count": 23,
   "metadata": {},
   "outputs": [
    {
     "name": "stdout",
     "output_type": "stream",
     "text": [
      "1.35 s ± 0 ns per loop (mean ± std. dev. of 1 run, 1 loop each)\n",
      "162 µs ± 8.99 µs per loop (mean ± std. dev. of 7 runs, 10000 loops each)\n"
     ]
    }
   ],
   "source": [
    "%timeit -n 1 -r 1 linear_model(X, Y)\n",
    "%timeit np.polyfit(X, Y, 1)"
   ]
  },
  {
   "cell_type": "markdown",
   "metadata": {},
   "source": [
    "## SciPy\n",
    "Next is SciPy's statistics package with its linear regression method, which basically uses the same method `polyfit` does (i.e. exact same result) but then also calculates some statistics."
   ]
  },
  {
   "cell_type": "code",
   "execution_count": 38,
   "metadata": {},
   "outputs": [
    {
     "name": "stdout",
     "output_type": "stream",
     "text": [
      "3.461529622720443 65.55157969668232\n"
     ]
    }
   ],
   "source": [
    "res = scipy.stats.linregress(X, Y)\n",
    "print(res.slope, res.intercept)"
   ]
  },
  {
   "cell_type": "markdown",
   "metadata": {},
   "source": [
    "The P-value gives the probability to get this data if the null hypothesis is right; in this case, the null hypothesis is $a=0$.\n",
    "\n",
    "The r-value is the [coefficient of correlation](https://en.wikipedia.org/wiki/Correlation_coefficient)."
   ]
  },
  {
   "cell_type": "code",
   "execution_count": 39,
   "metadata": {},
   "outputs": [
    {
     "name": "stdout",
     "output_type": "stream",
     "text": [
      "r=0.42, P=5.3e-26\n"
     ]
    }
   ],
   "source": [
    "print('r={:.2f}, P={:.2g}'.format(res.rvalue, res.pvalue))"
   ]
  },
  {
   "cell_type": "markdown",
   "metadata": {},
   "source": [
    "# Statsmodels\n",
    "\n",
    "This package focuses on statistical modeling, and as such, provides a full statistical analysis of the linear model.\n",
    "\n",
    "Note that here `Y` comes before `X`."
   ]
  },
  {
   "cell_type": "code",
   "execution_count": 40,
   "metadata": {},
   "outputs": [],
   "source": [
    "import statsmodels.api as sm"
   ]
  },
  {
   "cell_type": "code",
   "execution_count": 41,
   "metadata": {},
   "outputs": [
    {
     "data": {
      "text/html": [
       "<table class=\"simpletable\">\n",
       "<caption>OLS Regression Results</caption>\n",
       "<tr>\n",
       "  <th>Dep. Variable:</th>    <td>player1 total points won</td> <th>  R-squared:         </th> <td>   0.179</td>\n",
       "</tr>\n",
       "<tr>\n",
       "  <th>Model:</th>                       <td>OLS</td>           <th>  Adj. R-squared:    </th> <td>   0.178</td>\n",
       "</tr>\n",
       "<tr>\n",
       "  <th>Method:</th>                 <td>Least Squares</td>      <th>  F-statistic:       </th> <td>   123.1</td>\n",
       "</tr>\n",
       "<tr>\n",
       "  <th>Date:</th>                 <td>Wed, 22 Jan 2020</td>     <th>  Prob (F-statistic):</th> <td>5.28e-26</td>\n",
       "</tr>\n",
       "<tr>\n",
       "  <th>Time:</th>                     <td>14:21:01</td>         <th>  Log-Likelihood:    </th> <td> -2641.6</td>\n",
       "</tr>\n",
       "<tr>\n",
       "  <th>No. Observations:</th>          <td>   565</td>          <th>  AIC:               </th> <td>   5287.</td>\n",
       "</tr>\n",
       "<tr>\n",
       "  <th>Df Residuals:</th>              <td>   563</td>          <th>  BIC:               </th> <td>   5296.</td>\n",
       "</tr>\n",
       "<tr>\n",
       "  <th>Df Model:</th>                  <td>     1</td>          <th>                     </th>     <td> </td>   \n",
       "</tr>\n",
       "<tr>\n",
       "  <th>Covariance Type:</th>          <td>nonrobust</td>        <th>                     </th>     <td> </td>   \n",
       "</tr>\n",
       "</table>\n",
       "<table class=\"simpletable\">\n",
       "<tr>\n",
       "        <td></td>          <th>coef</th>     <th>std err</th>      <th>t</th>      <th>P>|t|</th>  <th>[0.025</th>    <th>0.975]</th>  \n",
       "</tr>\n",
       "<tr>\n",
       "  <th>const</th>        <td>   65.5516</td> <td>    2.018</td> <td>   32.482</td> <td> 0.000</td> <td>   61.588</td> <td>   69.516</td>\n",
       "</tr>\n",
       "<tr>\n",
       "  <th>player1 aces</th> <td>    3.4615</td> <td>    0.312</td> <td>   11.095</td> <td> 0.000</td> <td>    2.849</td> <td>    4.074</td>\n",
       "</tr>\n",
       "</table>\n",
       "<table class=\"simpletable\">\n",
       "<tr>\n",
       "  <th>Omnibus:</th>       <td>91.406</td> <th>  Durbin-Watson:     </th> <td>   1.332</td>\n",
       "</tr>\n",
       "<tr>\n",
       "  <th>Prob(Omnibus):</th> <td> 0.000</td> <th>  Jarque-Bera (JB):  </th> <td> 152.959</td>\n",
       "</tr>\n",
       "<tr>\n",
       "  <th>Skew:</th>          <td> 0.993</td> <th>  Prob(JB):          </th> <td>6.10e-34</td>\n",
       "</tr>\n",
       "<tr>\n",
       "  <th>Kurtosis:</th>      <td> 4.597</td> <th>  Cond. No.          </th> <td>    12.1</td>\n",
       "</tr>\n",
       "</table><br/><br/>Warnings:<br/>[1] Standard Errors assume that the covariance matrix of the errors is correctly specified."
      ],
      "text/plain": [
       "<class 'statsmodels.iolib.summary.Summary'>\n",
       "\"\"\"\n",
       "                               OLS Regression Results                               \n",
       "====================================================================================\n",
       "Dep. Variable:     player1 total points won   R-squared:                       0.179\n",
       "Model:                                  OLS   Adj. R-squared:                  0.178\n",
       "Method:                       Least Squares   F-statistic:                     123.1\n",
       "Date:                      Wed, 22 Jan 2020   Prob (F-statistic):           5.28e-26\n",
       "Time:                              14:21:01   Log-Likelihood:                -2641.6\n",
       "No. Observations:                       565   AIC:                             5287.\n",
       "Df Residuals:                           563   BIC:                             5296.\n",
       "Df Model:                                 1                                         \n",
       "Covariance Type:                  nonrobust                                         \n",
       "================================================================================\n",
       "                   coef    std err          t      P>|t|      [0.025      0.975]\n",
       "--------------------------------------------------------------------------------\n",
       "const           65.5516      2.018     32.482      0.000      61.588      69.516\n",
       "player1 aces     3.4615      0.312     11.095      0.000       2.849       4.074\n",
       "==============================================================================\n",
       "Omnibus:                       91.406   Durbin-Watson:                   1.332\n",
       "Prob(Omnibus):                  0.000   Jarque-Bera (JB):              152.959\n",
       "Skew:                           0.993   Prob(JB):                     6.10e-34\n",
       "Kurtosis:                       4.597   Cond. No.                         12.1\n",
       "==============================================================================\n",
       "\n",
       "Warnings:\n",
       "[1] Standard Errors assume that the covariance matrix of the errors is correctly specified.\n",
       "\"\"\""
      ]
     },
     "execution_count": 41,
     "metadata": {},
     "output_type": "execute_result"
    }
   ],
   "source": [
    "X_ = sm.add_constant(X) # for intercept\n",
    "results = sm.OLS(Y, X_).fit()\n",
    "results.summary()"
   ]
  },
  {
   "cell_type": "code",
   "execution_count": 42,
   "metadata": {},
   "outputs": [
    {
     "data": {
      "image/png": "[encoded data removed]",
      "text/plain": [
       "<Figure size 864x288 with 2 Axes>"
      ]
     },
     "metadata": {},
     "output_type": "display_data"
    }
   ],
   "source": [
    "fig, axes = plt.subplots(1, 2, figsize=(12, 4))\n",
    "\n",
    "ax = axes[0]\n",
    "idx = X.argsort()\n",
    "X_ = sm.add_constant(X.iloc[idx])\n",
    "Y_ = Y.iloc[idx]\n",
    "Yhat = results.predict(X_)\n",
    "residuals = Y_ - Yhat\n",
    "\n",
    "sns.distplot(residuals, 20, kde=False, fit=scipy.stats.norm, ax=ax)\n",
    "ax.set_xlabel('Residuals')\n",
    "ax.set_ylabel('Frequency')\n",
    "\n",
    "ax = axes[1]\n",
    "\n",
    "sm.graphics.qqplot(residuals, color='k', line='s', ax=ax)\n",
    "sns.despine()"
   ]
  },
  {
   "cell_type": "markdown",
   "metadata": {},
   "source": [
    "# GLM\n",
    "\n",
    "With `statsmodels` it is easy to use [generalized linear models](http://www.statsmodels.org/stable/glm.html) (GLM) to change the probability distribution.\n",
    "\n",
    "For example, since `y` is an integer, it might be better to use the **Poisson distribution**."
   ]
  },
  {
   "cell_type": "code",
   "execution_count": 43,
   "metadata": {},
   "outputs": [
    {
     "data": {
      "text/html": [
       "<table class=\"simpletable\">\n",
       "<caption>Generalized Linear Model Regression Results</caption>\n",
       "<tr>\n",
       "  <th>Dep. Variable:</th>   <td>player1 total points won</td> <th>  No. Observations:  </th>  <td>   565</td> \n",
       "</tr>\n",
       "<tr>\n",
       "  <th>Model:</th>                      <td>GLM</td>           <th>  Df Residuals:      </th>  <td>   563</td> \n",
       "</tr>\n",
       "<tr>\n",
       "  <th>Model Family:</th>             <td>Poisson</td>         <th>  Df Model:          </th>  <td>     1</td> \n",
       "</tr>\n",
       "<tr>\n",
       "  <th>Link Function:</th>              <td>log</td>           <th>  Scale:             </th> <td>  1.0000</td>\n",
       "</tr>\n",
       "<tr>\n",
       "  <th>Method:</th>                    <td>IRLS</td>           <th>  Log-Likelihood:    </th> <td> -3869.1</td>\n",
       "</tr>\n",
       "<tr>\n",
       "  <th>Date:</th>                <td>Wed, 22 Jan 2020</td>     <th>  Deviance:          </th> <td>  4223.3</td>\n",
       "</tr>\n",
       "<tr>\n",
       "  <th>Time:</th>                    <td>14:21:05</td>         <th>  Pearson chi2:      </th> <td>4.43e+03</td>\n",
       "</tr>\n",
       "<tr>\n",
       "  <th>No. Iterations:</th>              <td>4</td>            <th>                     </th>     <td> </td>   \n",
       "</tr>\n",
       "<tr>\n",
       "  <th>Covariance Type:</th>         <td>nonrobust</td>        <th>                     </th>     <td> </td>   \n",
       "</tr>\n",
       "</table>\n",
       "<table class=\"simpletable\">\n",
       "<tr>\n",
       "        <td></td>          <th>coef</th>     <th>std err</th>      <th>z</th>      <th>P>|z|</th>  <th>[0.025</th>    <th>0.975]</th>  \n",
       "</tr>\n",
       "<tr>\n",
       "  <th>const</th>        <td>    4.2160</td> <td>    0.009</td> <td>  489.118</td> <td> 0.000</td> <td>    4.199</td> <td>    4.233</td>\n",
       "</tr>\n",
       "<tr>\n",
       "  <th>player1 aces</th> <td>    0.0386</td> <td>    0.001</td> <td>   31.381</td> <td> 0.000</td> <td>    0.036</td> <td>    0.041</td>\n",
       "</tr>\n",
       "</table>"
      ],
      "text/plain": [
       "<class 'statsmodels.iolib.summary.Summary'>\n",
       "\"\"\"\n",
       "                    Generalized Linear Model Regression Results                     \n",
       "====================================================================================\n",
       "Dep. Variable:     player1 total points won   No. Observations:                  565\n",
       "Model:                                  GLM   Df Residuals:                      563\n",
       "Model Family:                       Poisson   Df Model:                            1\n",
       "Link Function:                          log   Scale:                          1.0000\n",
       "Method:                                IRLS   Log-Likelihood:                -3869.1\n",
       "Date:                      Wed, 22 Jan 2020   Deviance:                       4223.3\n",
       "Time:                              14:21:05   Pearson chi2:                 4.43e+03\n",
       "No. Iterations:                           4                                         \n",
       "Covariance Type:                  nonrobust                                         \n",
       "================================================================================\n",
       "                   coef    std err          z      P>|z|      [0.025      0.975]\n",
       "--------------------------------------------------------------------------------\n",
       "const            4.2160      0.009    489.118      0.000       4.199       4.233\n",
       "player1 aces     0.0386      0.001     31.381      0.000       0.036       0.041\n",
       "================================================================================\n",
       "\"\"\""
      ]
     },
     "execution_count": 43,
     "metadata": {},
     "output_type": "execute_result"
    }
   ],
   "source": [
    "X_ = sm.add_constant(X) # for intercept\n",
    "results_poi = sm.GLM(Y, X_, family=sm.families.Poisson()).fit()\n",
    "results_poi.summary()"
   ]
  },
  {
   "cell_type": "markdown",
   "metadata": {},
   "source": [
    "The coefficients are on a different scale because when using the Poisson distribution we assumed that $\\log(y) = ax + b$ rather than $y=ax+b$; here the $\\log$ function is the *link function*.\n",
    "\n",
    "The model parameters can be interpreted as follows:\n",
    "- $e^b$ is the estimate for points won if 0 points were aced, $e^b = \\widehat{y}(x=0)$, and\n",
    "- $e^a$ is the estimate for the multiplicative increase in points won for every additional ace, $e^a = \\frac{\\widehat{y}(x+1)}{\\widehat{y}(x)}$.\n",
    "\n"
   ]
  },
  {
   "cell_type": "code",
   "execution_count": 47,
   "metadata": {},
   "outputs": [
    {
     "name": "stdout",
     "output_type": "stream",
     "text": [
      "Normal:\n",
      "  additive effect of aces=3.462\n",
      "  without aces=65.552\n",
      "Poisson:\n",
      "  multiplicative effect of aces=1.039\n",
      "  without aces=67.759\n"
     ]
    },
    {
     "data": {
      "image/png": "[encoded data removed]",
      "text/plain": [
       "<Figure size 576x432 with 1 Axes>"
      ]
     },
     "metadata": {},
     "output_type": "display_data"
    }
   ],
   "source": [
    "fig, ax =plt.subplots(figsize=(8, 6))\n",
    "\n",
    "ax.plot(X, Y, '.k', alpha=0.5, label='Data')\n",
    "X_sorted = X.sort_values()\n",
    "X_ = sm.add_constant(X_sorted)\n",
    "\n",
    "b, a = results.params\n",
    "Yhat = results.predict(X_)\n",
    "ax.plot(X_sorted, Yhat, '-r', label='Normal')\n",
    "print(\"Normal:\\n  additive effect of aces={:.3f}\\n  without aces={:.3f}\".format(a, b))\n",
    "\n",
    "b_poi, a_poi = results_poi.params\n",
    "Yhat_poi = results_poi.predict(X_)\n",
    "ax.plot(X_sorted, Yhat_poi, '-g', label='Poisson')\n",
    "ax.set_xlabel('aces')\n",
    "ax.set_ylabel('total points won')\n",
    "print(\"Poisson:\\n  multiplicative effect of aces={:.3f}\\n  without aces={:.3f}\".format(np.exp(a_poi), np.exp(b_poi)))\n",
    "\n",
    "ax.legend(loc='upper left')\n",
    "sns.despine()"
   ]
  },
  {
   "cell_type": "markdown",
   "metadata": {},
   "source": [
    "There are many more twists to add, such as regularization, outlier detection, and linking functions - we'll do the latter in the next session when we deal with the classical classification method, *logistic regression*."
   ]
  },
  {
   "cell_type": "markdown",
   "metadata": {},
   "source": [
    "# References\n",
    "\n",
    "- Pawitan Y, 2001. *In all likelihood: statistical modelling and inference using likelihood*. **Ch. 6.1**.\n",
    "- Allen B. Downey, 2014. [Think Stats: Probability and Statistics for Programmers.](http://www.greenteapress.com/thinkstats2/index.html) (Available for free online).\n",
    "- Cyrille Rossant, 2014. [IPython Interactive Computing and Visualization Cookbook](https://ipython-books.github.io/cookbook/) (the Tennis data is borrowed from there).\n",
    "- Illustrate distributions using the [Seeing Theory](http://students.brown.edu/seeing-theory/probability-distributions/index.html#section2) webpage.\n",
    "- Explore how regression is affected by outliers using the [Seeing Theory](http://students.brown.edu/seeing-theory/regression-analysis/index.html#section1) webpage."
   ]
  },
  {
   "cell_type": "markdown",
   "metadata": {},
   "source": [
    "# Colophon\n",
    "This notebook was written by [Yoav Ram](http://python.yoavram.com) and is part of the [_Data Science with Python_](https://python.yoavram.com/Deep4Devs) workshops.\n",
    "\n",
    "The notebook was written using [Python](http://python.org/) 3.6.3, [IPython](http://ipython.org/) 6.2.1, [Jupyter](http://jupyter.org) 5.1.0.\n",
    "\n",
    "This work is licensed under a CC BY-NC-SA 4.0 International License.\n",
    "\n",
    "![Python logo](https://www.python.org/static/community_logos/python-logo.png)"
   ]
  }
 ],
 "metadata": {
  "kernelspec": {
   "display_name": "Python [conda env:DataSciPy]",
   "language": "python",
   "name": "conda-env-DataSciPy-py"
  },
  "language_info": {
   "codemirror_mode": {
    "name": "ipython",
    "version": 3
   },
   "file_extension": ".py",
   "mimetype": "text/x-python",
   "name": "python",
   "nbconvert_exporter": "python",
   "pygments_lexer": "ipython3",
   "version": "3.6.7"
  }
 },
 "nbformat": 4,
 "nbformat_minor": 4
}
