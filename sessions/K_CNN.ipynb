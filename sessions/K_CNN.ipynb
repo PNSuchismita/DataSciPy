{
 "cells": [
  {
   "cell_type": "markdown",
   "metadata": {},
   "source": [
    "![Py4Eng](img/logo.png)\n",
    "\n",
    "# Convolutional Neural Networks with Keras\n",
    "## Yoav Ram\n",
    "\n",
    "In this session we will understand:\n",
    "- how convolutional neural networks work and how they differ from feed forward networks\n",
    "- how to use Keras as a high-level neural networks library"
   ]
  },
  {
   "cell_type": "code",
   "execution_count": 23,
   "metadata": {},
   "outputs": [
    {
     "name": "stdout",
     "output_type": "stream",
     "text": [
      "Keras 2.2.4-tf\n",
      "GPU: True\n",
      "/device:GPU:0\n"
     ]
    }
   ],
   "source": [
    "%matplotlib inline\n",
    "import matplotlib.pyplot as plt\n",
    "import numpy as np\n",
    "import seaborn as sns\n",
    "import pickle\n",
    "import tensorflow as tf\n",
    "try:\n",
    "    import keras\n",
    "except ModuleNotFoundError:\n",
    "    from tensorflow import keras\n",
    "print('Keras', keras.__version__)\n",
    "print('GPU:', tf.test.is_gpu_available())\n",
    "print(tf.test.gpu_device_name())\n",
    "\n",
    "sns.set(\n",
    "    style='ticks',\n",
    "    context='talk',\n",
    "    palette='Set1'\n",
    ")"
   ]
  },
  {
   "cell_type": "markdown",
   "metadata": {},
   "source": [
    "# Multilayer Convolutional Network\n",
    "\n",
    "We build a multilayer convolutional neuron network.\n",
    "\n",
    "In a convolutional neural network we replace some of the fully-connected layers with convolutional layers in which we apply several convolutional filters to the input.\n",
    "\n",
    "See this [animation of convolutions](http://cs231n.github.io/assets/conv-demo/index.html).\n",
    "\n",
    "A convolution is very efficient because parameters of the convolution are shared among all pixels, and the convolution is robust to the position of a feature inside the image.\n",
    "\n",
    "We'll start by implementing a two-layer network in which the first layer is a convolutional layer and the second layer is a fully-connected softmax layer:\n",
    "$$\n",
    "\\mathbf{Z_1} = \\mathbf{X_1} \\ast \\mathbf{W_1} + b_1 \\\\\n",
    "\\mathbf{X_2} = pool({ReLU{(\\mathbf{Z_1})}}) $$\n",
    "\n",
    "$$\n",
    "\\mathbf{Z_2} = \\mathbf{X_2} \\ast \\mathbf{W_2} + b_2 \\\\\n",
    "\\mathbf{X_3} = pool({ReLU{(\\mathbf{Z_2})}}) $$\n",
    "\n",
    "$$\n",
    "\\mathbf{Z_3} = \\mathbf{X_3} \\cdot \\mathbf{W_3} + b_3 \\\\\n",
    "\\mathbf{X_4} = ReLU(\\mathbf{Z_3}) $$\n",
    "\n",
    "$$\n",
    "\\mathbf{Z_4} = \\mathbf{X_4} \\cdot \\mathbf{W_4} + b_4 \\\\\n",
    "\\mathbf{\\widehat Y} = softmax(\\mathbf{Z_4})\n",
    "$$\n",
    "\n",
    "![](http://deeplearning.net/tutorial/_images/mylenet.png)"
   ]
  },
  {
   "cell_type": "markdown",
   "metadata": {},
   "source": [
    "# Keras\n",
    "\n",
    "[Keras](https://keras.io/) is a high-level neural networks API, written in Python and capable of running on top of TensorFlow, [CNTK](https://docs.microsoft.com/en-us/cognitive-toolkit/) (MS deep learning package), or [Theano](http://www.deeplearning.net/software/theano/).\n",
    "\n",
    "The main benefit is that it *allows for easy and fast prototyping*.\n",
    "\n",
    "We'll use the Keras that is installed with TensorFlow; for a more updated version we could install with `conda install keras`."
   ]
  },
  {
   "cell_type": "markdown",
   "metadata": {},
   "source": [
    "## Get the data\n",
    "\n",
    "We use Keras' datasets module to load the data:"
   ]
  },
  {
   "cell_type": "code",
   "execution_count": 3,
   "metadata": {},
   "outputs": [],
   "source": [
    "(X_train, Y_train), (X_test, Y_test) = keras.datasets.mnist.load_data()\n",
    "nsamples, width, height = X_train.shape\n",
    "nfeatures = width * height\n",
    "X_train = X_train/255\n",
    "X_test = X_test/255"
   ]
  },
  {
   "cell_type": "markdown",
   "metadata": {},
   "source": [
    "That last step of normalizing the data to be floats between 0 and 1 (it's originally betweeen 0 and 255 in integers) is crucial, although you could probably instead just change how the weights of the network are initialized.\n",
    "\n",
    "Now let's do one-hot encoding of the labels:"
   ]
  },
  {
   "cell_type": "code",
   "execution_count": 4,
   "metadata": {},
   "outputs": [],
   "source": [
    "Y_train = keras.utils.to_categorical(Y_train)\n",
    "Y_test = keras.utils.to_categorical(Y_test)\n",
    "ncats = Y_test.shape[1]"
   ]
  },
  {
   "cell_type": "markdown",
   "metadata": {},
   "source": [
    "The images are 1D arrays of length 28x28=784; the labels are one-hot encodes numbers between 0 and 9:"
   ]
  },
  {
   "cell_type": "code",
   "execution_count": 5,
   "metadata": {},
   "outputs": [
    {
     "data": {
      "image/png": "[encoded data removed]",
      "text/plain": [
       "<Figure size 432x288 with 1 Axes>"
      ]
     },
     "metadata": {
      "image/png": {
       "height": 235,
       "width": 235
      }
     },
     "output_type": "display_data"
    }
   ],
   "source": [
    "def display_image(im):\n",
    "    plt.imshow(im, cmap='gray_r')\n",
    "    plt.xticks([])\n",
    "    plt.yticks([])\n",
    "    \n",
    "display_image(X_train[4])"
   ]
  },
  {
   "cell_type": "markdown",
   "metadata": {},
   "source": [
    "## Keras model\n",
    "\n",
    "We start by creating a Keras model, the neural network, to which we will add the different layers.\n",
    "This model is a `Sequential` model, that is, data flows sequentially from one layer to the next."
   ]
  },
  {
   "cell_type": "code",
   "execution_count": 6,
   "metadata": {},
   "outputs": [],
   "source": [
    "model = keras.models.Sequential()"
   ]
  },
  {
   "cell_type": "markdown",
   "metadata": {},
   "source": [
    "## Input layer"
   ]
  },
  {
   "cell_type": "markdown",
   "metadata": {},
   "source": [
    "In the CNN model our data (the layers) is no longer 2D (`(nsamples, nfeatures)`).\n",
    "It is now a 4D tensor with shape `(nsamples, width, height, nchannels)`, where `nchannels` can be, for example, 3 for a color image, or 10 for the output of 10 filters.\n",
    "\n",
    "Note that the first layer in any model must have the `input_shape` parameter that defines the shape of a single input sample. \n",
    "Other layers can infer their shape from the previous layers (sequential model!)\n",
    "\n",
    "The data arrives with just `(nsamples, width, height)` so we have to reshape it to `(nsamples, width, height, 1)` for a single channel (greyscale)."
   ]
  },
  {
   "cell_type": "code",
   "execution_count": 7,
   "metadata": {},
   "outputs": [],
   "source": [
    "model.add(\n",
    "    keras.layers.Reshape(target_shape=(width, height, 1), \n",
    "                         input_shape=(width, height)))"
   ]
  },
  {
   "cell_type": "markdown",
   "metadata": {},
   "source": [
    "## First convolutional layer\n",
    "\n",
    "The first convolutional layer is generated by a convolution with 1 input channel, 32 output channgels, and 5x5 kernels.\n",
    "\n",
    "The convolution computes 32 features of 5x5 patches; it returns a tensor with shape `(-1, 24, 24, 32)`; 2 pixels are lost from the boundaries.\n",
    "\n",
    "See this [animation of convolutions](http://cs231n.github.io/assets/conv-demo/index.html).\n",
    "\n",
    "We then apply a ReLu activation function ($f(x)=max(0,x)$)."
   ]
  },
  {
   "cell_type": "code",
   "execution_count": 8,
   "metadata": {},
   "outputs": [],
   "source": [
    "model.add(\n",
    "    keras.layers.Conv2D(32, (5, 5), activation='relu'))"
   ]
  },
  {
   "cell_type": "markdown",
   "metadata": {},
   "source": [
    "## Pooling\n",
    "\n",
    "The new element here is the $pool$ function, which applies **pooling** - the combination of several neurons/pixels into a single one.\n",
    "\n",
    "We will use a common pooling approach called *2x2 max pooling* in which every 2x2 square of pixels is replaced by its maximal value.\n",
    "\n",
    "![](https://upload.wikimedia.org/wikipedia/commons/e/e9/Max_pooling.png)\n",
    "\n",
    "Pooling adds another non-linear component, reduces the size of the layers, and thus the number of paramters, and reduces over-fitting by approximating the location of feautures.\n",
    "\n",
    "Since thd activation function operates element-wise without impacting the shape, the output of the activation and pooling has shape `(-1, 12, 12, 32)`."
   ]
  },
  {
   "cell_type": "code",
   "execution_count": 9,
   "metadata": {},
   "outputs": [],
   "source": [
    "model.add(\n",
    "    keras.layers.MaxPool2D())"
   ]
  },
  {
   "cell_type": "markdown",
   "metadata": {},
   "source": [
    "## Second convolutional layer\n",
    "\n",
    "We add another convolution + pooling layer, the 2nd layer will have 64 features. The input has 32 channels (from the previous 32 features) but the data arrays are smaller (12x12) due to the previous pooling:"
   ]
  },
  {
   "cell_type": "code",
   "execution_count": 10,
   "metadata": {},
   "outputs": [],
   "source": [
    "model.add(\n",
    "    keras.layers.Conv2D(64, (5, 5), activation='relu'))\n",
    "model.add(\n",
    "    keras.layers.MaxPool2D())"
   ]
  },
  {
   "cell_type": "markdown",
   "metadata": {},
   "source": [
    "The data is now is shape `(-1, 4, 4, 64)`."
   ]
  },
  {
   "cell_type": "markdown",
   "metadata": {},
   "source": [
    "## Fully connected layer\n",
    "\n",
    "Now we add a fully-connected layer.\n",
    "This is done by matrix multiplication with a weight matrix, just like we did with FFN.\n",
    "\n",
    "But first we need to flatten the input from 4x4x64 to 1,024; then we create a dense layer that connets these 1,024 neurons to the next 1,024 neurons."
   ]
  },
  {
   "cell_type": "code",
   "execution_count": 11,
   "metadata": {},
   "outputs": [],
   "source": [
    "model.add(\n",
    "    keras.layers.Flatten())\n",
    "model.add(\n",
    "    keras.layers.Dense(1024, activation='relu'))"
   ]
  },
  {
   "cell_type": "markdown",
   "metadata": {},
   "source": [
    "## Dropout layer\n",
    "\n",
    "We apply a dropout to reduce overfitting: the dropout stochasticly removes neurons (outputs of the previous layer) and automatically scales the neurons it retained so that their expected sum remains unchanged."
   ]
  },
  {
   "cell_type": "code",
   "execution_count": 12,
   "metadata": {},
   "outputs": [],
   "source": [
    "model.add(\n",
    "    keras.layers.Dropout(rate=0.5))"
   ]
  },
  {
   "cell_type": "markdown",
   "metadata": {},
   "source": [
    "## Readout layer\n",
    "\n",
    "We add a Softmax regression layer, similar to the previous, simpler example, by adding a dense layer with softmax activation."
   ]
  },
  {
   "cell_type": "code",
   "execution_count": 14,
   "metadata": {},
   "outputs": [],
   "source": [
    "model.add(\n",
    "    keras.layers.Dense(ncats, activation='softmax'))"
   ]
  },
  {
   "cell_type": "code",
   "execution_count": 15,
   "metadata": {},
   "outputs": [
    {
     "name": "stdout",
     "output_type": "stream",
     "text": [
      "Model: \"sequential\"\n",
      "_________________________________________________________________\n",
      "Layer (type)                 Output Shape              Param #   \n",
      "=================================================================\n",
      "reshape (Reshape)            (None, 28, 28, 1)         0         \n",
      "_________________________________________________________________\n",
      "conv2d (Conv2D)              (None, 24, 24, 32)        832       \n",
      "_________________________________________________________________\n",
      "max_pooling2d (MaxPooling2D) (None, 12, 12, 32)        0         \n",
      "_________________________________________________________________\n",
      "conv2d_1 (Conv2D)            (None, 8, 8, 64)          51264     \n",
      "_________________________________________________________________\n",
      "max_pooling2d_1 (MaxPooling2 (None, 4, 4, 64)          0         \n",
      "_________________________________________________________________\n",
      "flatten (Flatten)            (None, 1024)              0         \n",
      "_________________________________________________________________\n",
      "dense (Dense)                (None, 1024)              1049600   \n",
      "_________________________________________________________________\n",
      "dropout (Dropout)            (None, 1024)              0         \n",
      "_________________________________________________________________\n",
      "dense_1 (Dense)              (None, 10)                10250     \n",
      "=================================================================\n",
      "Total params: 1,111,946\n",
      "Trainable params: 1,111,946\n",
      "Non-trainable params: 0\n",
      "_________________________________________________________________\n"
     ]
    }
   ],
   "source": [
    "model.summary()"
   ]
  },
  {
   "cell_type": "markdown",
   "metadata": {},
   "source": [
    "## Training\n",
    "\n",
    "To train the model we need to define the loss function. We'll use the same cross entropy function as before. We also use the same measure for accuracy - we predict the most likelihood class and check that it is the correct label.\n",
    "\n",
    "We use the [Adam optimizer](http://arxiv.org/pdf/1412.6980.pdf), an algorithm for stochastic gradient descent based on adaptive estimates of first and second moments."
   ]
  },
  {
   "cell_type": "code",
   "execution_count": 16,
   "metadata": {},
   "outputs": [],
   "source": [
    "model.compile(\n",
    "    loss='categorical_crossentropy', \n",
    "    optimizer='adam', \n",
    "    metrics=['accuracy']\n",
    ")"
   ]
  },
  {
   "cell_type": "markdown",
   "metadata": {},
   "source": [
    "The actual training takes about 6-7 mins on a MacBook Pro 13\" 2016 with max specs, reaching accuracy >99% on the validation set."
   ]
  },
  {
   "cell_type": "code",
   "execution_count": 50,
   "metadata": {},
   "outputs": [
    {
     "name": "stdout",
     "output_type": "stream",
     "text": [
      "Train on 60000 samples, validate on 10000 samples\n",
      "Epoch 1/10\n",
      "60000/60000 [==============================] - 74s 1ms/step - loss: 0.1323 - acc: 0.9583 - val_loss: 0.0380 - val_acc: 0.9876\n",
      "Epoch 2/10\n",
      "60000/60000 [==============================] - 80s 1ms/step - loss: 0.0444 - acc: 0.9866 - val_loss: 0.0331 - val_acc: 0.9896\n",
      "Epoch 3/10\n",
      "60000/60000 [==============================] - 85s 1ms/step - loss: 0.0310 - acc: 0.9903 - val_loss: 0.0267 - val_acc: 0.9924\n",
      "Epoch 4/10\n",
      "60000/60000 [==============================] - 89s 1ms/step - loss: 0.0238 - acc: 0.9927 - val_loss: 0.0310 - val_acc: 0.9904\n",
      "Epoch 5/10\n",
      "60000/60000 [==============================] - 87s 1ms/step - loss: 0.0208 - acc: 0.9935 - val_loss: 0.0313 - val_acc: 0.9916\n",
      "Epoch 6/10\n",
      "60000/60000 [==============================] - 86s 1ms/step - loss: 0.0182 - acc: 0.9944 - val_loss: 0.0217 - val_acc: 0.9932\n",
      "Epoch 7/10\n",
      "60000/60000 [==============================] - 87s 1ms/step - loss: 0.0145 - acc: 0.9953 - val_loss: 0.0320 - val_acc: 0.9914\n",
      "Epoch 8/10\n",
      "60000/60000 [==============================] - 84s 1ms/step - loss: 0.0122 - acc: 0.9959 - val_loss: 0.0281 - val_acc: 0.9932\n",
      "Epoch 9/10\n",
      "60000/60000 [==============================] - 77s 1ms/step - loss: 0.0126 - acc: 0.9960 - val_loss: 0.0285 - val_acc: 0.9934\n",
      "Epoch 10/10\n",
      "60000/60000 [==============================] - 78s 1ms/step - loss: 0.0087 - acc: 0.9974 - val_loss: 0.0369 - val_acc: 0.9913\n"
     ]
    }
   ],
   "source": [
    "history = model.fit(x=X_train, y=Y_train, batch_size=50, epochs=10, \n",
    "    validation_data=(X_test, Y_test),\n",
    ").history"
   ]
  },
  {
   "cell_type": "markdown",
   "metadata": {},
   "source": [
    "The same process take about 30 seconds on my Titan V GPU workstation, or about 1 min on AWS g3.4xlarge virtual machine with Tesla M60 GPU."
   ]
  },
  {
   "cell_type": "code",
   "execution_count": 17,
   "metadata": {},
   "outputs": [
    {
     "name": "stdout",
     "output_type": "stream",
     "text": [
      "Train on 60000 samples, validate on 10000 samples\n",
      "Epoch 1/10\n",
      "60000/60000 [==============================] - 6s 105us/sample - loss: 0.1250 - accuracy: 0.9610 - val_loss: 0.0316 - val_accuracy: 0.9894\n",
      "Epoch 2/10\n",
      "60000/60000 [==============================] - 3s 56us/sample - loss: 0.0422 - accuracy: 0.9870 - val_loss: 0.0322 - val_accuracy: 0.9905\n",
      "Epoch 3/10\n",
      "60000/60000 [==============================] - 3s 56us/sample - loss: 0.0315 - accuracy: 0.9903 - val_loss: 0.0289 - val_accuracy: 0.9904\n",
      "Epoch 4/10\n",
      "60000/60000 [==============================] - 3s 55us/sample - loss: 0.0235 - accuracy: 0.9924 - val_loss: 0.0272 - val_accuracy: 0.9917\n",
      "Epoch 5/10\n",
      "60000/60000 [==============================] - 3s 54us/sample - loss: 0.0208 - accuracy: 0.9934 - val_loss: 0.0286 - val_accuracy: 0.9913\n",
      "Epoch 6/10\n",
      "60000/60000 [==============================] - 3s 58us/sample - loss: 0.0173 - accuracy: 0.9946 - val_loss: 0.0247 - val_accuracy: 0.9926\n",
      "Epoch 7/10\n",
      "60000/60000 [==============================] - 3s 53us/sample - loss: 0.0141 - accuracy: 0.9953 - val_loss: 0.0307 - val_accuracy: 0.9911\n",
      "Epoch 8/10\n",
      "60000/60000 [==============================] - 3s 52us/sample - loss: 0.0114 - accuracy: 0.9966 - val_loss: 0.0350 - val_accuracy: 0.9909\n",
      "Epoch 9/10\n",
      "60000/60000 [==============================] - 3s 54us/sample - loss: 0.0118 - accuracy: 0.9962 - val_loss: 0.0384 - val_accuracy: 0.9911\n",
      "Epoch 10/10\n",
      "60000/60000 [==============================] - 3s 56us/sample - loss: 0.0101 - accuracy: 0.9968 - val_loss: 0.0300 - val_accuracy: 0.9931\n"
     ]
    }
   ],
   "source": [
    "# history = model.fit(x=X_train, y=Y_train, batch_size=50, epochs=10, \n",
    "#     validation_data=(X_test, Y_test),\n",
    "# ).history"
   ]
  },
  {
   "cell_type": "markdown",
   "metadata": {},
   "source": [
    "Interestingly, the neural network very quickly achieves a better accuracy than the previous approach - after one epoch the validation accuracy is > 0.98.\n",
    "The validation accuracy then fluctuates for a long time around 0.99."
   ]
  },
  {
   "cell_type": "markdown",
   "metadata": {},
   "source": [
    "Save the model and the history:"
   ]
  },
  {
   "cell_type": "code",
   "execution_count": 18,
   "metadata": {},
   "outputs": [],
   "source": [
    "model.save('../data/keras_cnn_model.h5')\n",
    "with open(\"../data/keras_cnn_history.p\", \"wb\") as f:\n",
    "    pickle.dump(history, f)"
   ]
  },
  {
   "cell_type": "markdown",
   "metadata": {},
   "source": [
    "Load model and history:"
   ]
  },
  {
   "cell_type": "code",
   "execution_count": 19,
   "metadata": {},
   "outputs": [],
   "source": [
    "model = keras.models.load_model('../data/keras_cnn_model.h5')\n",
    "with open(\"../data/keras_cnn_history.p\", \"rb\") as f:\n",
    "    history = pickle.load(f)"
   ]
  },
  {
   "cell_type": "markdown",
   "metadata": {},
   "source": [
    "Plot history:"
   ]
  },
  {
   "cell_type": "code",
   "execution_count": 24,
   "metadata": {},
   "outputs": [
    {
     "data": {
      "image/png": "[encoded data removed]",
      "text/plain": [
       "<Figure size 864x288 with 2 Axes>"
      ]
     },
     "metadata": {
      "image/png": {
       "height": 264,
       "width": 838
      }
     },
     "output_type": "display_data"
    }
   ],
   "source": [
    "fig, axes = plt.subplots(1, 2, figsize=(12, 4), sharex=True)\n",
    "\n",
    "ax = axes[0]\n",
    "ax.plot(history['accuracy'], label='Train')\n",
    "ax.plot(history['val_accuracy'], label='Test')\n",
    "ax.set(ylabel='Accuracy', xlabel='Epochs')\n",
    "ax.legend()\n",
    "\n",
    "ax = axes[1]\n",
    "ax.plot(history['loss'], label='Train')\n",
    "ax.plot(history['val_loss'], label='Test')\n",
    "ax.set(ylabel='Loss', xlabel='Epochs')\n",
    "ax.legend()\n",
    "fig.tight_layout()"
   ]
  },
  {
   "cell_type": "markdown",
   "metadata": {},
   "source": [
    "# References\n",
    "\n",
    "- Keras [examples](https://github.com/keras-team/keras/tree/master/examples).\n",
    "- [Fashion-MNIST CNN exercise](../exercises/CNN.ipynb).\n",
    "- [Quiver](https://keplr-io.github.io/quiver/) can visualize the network weights."
   ]
  },
  {
   "cell_type": "markdown",
   "metadata": {},
   "source": [
    "# Colophon\n",
    "This notebook was written by [Yoav Ram](http://python.yoavram.com).\n",
    "\n",
    "The notebook was written using [Python](http://python.org/) 3.7.\n",
    "\n",
    "This work is licensed under a CC BY-NC-SA 4.0 International License.\n",
    "\n",
    "![Python logo](https://www.python.org/static/community_logos/python-logo.png)"
   ]
  }
 ],
 "metadata": {
  "kernelspec": {
   "display_name": "Python [conda env:tf]",
   "language": "python",
   "name": "conda-env-tf-py"
  },
  "language_info": {
   "codemirror_mode": {
    "name": "ipython",
    "version": 3
   },
   "file_extension": ".py",
   "mimetype": "text/x-python",
   "name": "python",
   "nbconvert_exporter": "python",
   "pygments_lexer": "ipython3",
   "version": "3.7.6"
  }
 },
 "nbformat": 4,
 "nbformat_minor": 4
}
