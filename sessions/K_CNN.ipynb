{
 "cells": [
  {
   "cell_type": "markdown",
   "metadata": {},
   "source": [
    "![Py4Eng](img/logo.png)\n",
    "\n",
    "# Convolutional Neural Networks with Keras\n",
    "## Yoav Ram\n",
    "\n",
    "In this session we will understand:\n",
    "- how to use Keras as a high-level neural networks library"
   ]
  },
  {
   "cell_type": "code",
   "execution_count": 1,
   "metadata": {},
   "outputs": [
    {
     "name": "stdout",
     "output_type": "stream",
     "text": [
      "Keras 2.1.6-tf\n"
     ]
    }
   ],
   "source": [
    "%matplotlib inline\n",
    "import matplotlib.pyplot as plt\n",
    "import numpy as np\n",
    "import seaborn as sns\n",
    "import pickle\n",
    "\n",
    "from tensorflow import keras\n",
    "print('Keras', keras.__version__)"
   ]
  },
  {
   "cell_type": "markdown",
   "metadata": {},
   "source": [
    "# Multilayer Convolutional Network\n",
    "\n",
    "We build a multilayer convolutional neuron network.\n",
    "\n",
    "This includes applying convolution filters on the images, pooling, and then applying softmax regression in the readout layer.\n",
    "We also use dropout to reduce over-fitting.\n",
    "\n",
    "For details on the operations see the [FFN session](FFN.ipynb) and the [CNN session](CNN.ipynb).\n",
    "\n",
    "**Note** Training this model may take SOME TIME!!"
   ]
  },
  {
   "cell_type": "markdown",
   "metadata": {},
   "source": [
    "# Keras\n",
    "\n",
    "[Keras](https://keras.io/) is a high-level neural networks API, written in Python and capable of running on top of TensorFlow, [CNTK](https://docs.microsoft.com/en-us/cognitive-toolkit/) (MS deep learning package), or [Theano](http://www.deeplearning.net/software/theano/).\n",
    "\n",
    "The main benefit is that it *allows for easy and fast prototyping*.\n",
    "\n",
    "We'll use the Keras that is installed with TensorFlow; for a more updated version we could install with `conda install -c conda-forge keras`."
   ]
  },
  {
   "cell_type": "markdown",
   "metadata": {},
   "source": [
    "## Get the data\n",
    "\n",
    "We use Keras' datasets module to load the data:"
   ]
  },
  {
   "cell_type": "code",
   "execution_count": 3,
   "metadata": {},
   "outputs": [],
   "source": [
    "(X_train, Y_train), (X_test, Y_test) = keras.datasets.mnist.load_data()\n",
    "nsamples, width, height = X_train.shape\n",
    "nfeatures = width * height\n",
    "X_train = X_train/255\n",
    "X_test = X_test/255"
   ]
  },
  {
   "cell_type": "markdown",
   "metadata": {},
   "source": [
    "That last step of normalizing the data to be floats between 0 and 1 (it's originally betweeen 0 and 255 in integers) is crucial, although you could probably instead just change how the weights of the network are initialized.\n",
    "\n",
    "Now let's do one-hot encoding of the labels:"
   ]
  },
  {
   "cell_type": "code",
   "execution_count": 4,
   "metadata": {},
   "outputs": [],
   "source": [
    "Y_train = keras.utils.to_categorical(Y_train)\n",
    "Y_test = keras.utils.to_categorical(Y_test)\n",
    "ncats = Y_test.shape[1]"
   ]
  },
  {
   "cell_type": "markdown",
   "metadata": {},
   "source": [
    "The images are 1D arrays of length 28x28=784; the labels are one-hot encodes numbers between 0 and 9:"
   ]
  },
  {
   "cell_type": "code",
   "execution_count": 5,
   "metadata": {},
   "outputs": [
    {
     "data": {
      "image/png": "[encoded data removed]",
      "text/plain": [
       "<Figure size 432x288 with 1 Axes>"
      ]
     },
     "metadata": {
      "image/png": {
       "height": 235,
       "width": 235
      }
     },
     "output_type": "display_data"
    }
   ],
   "source": [
    "def display_image(im):\n",
    "    plt.imshow(im, cmap='gray_r')\n",
    "    plt.xticks([])\n",
    "    plt.yticks([])\n",
    "    \n",
    "display_image(X_train[4])"
   ]
  },
  {
   "cell_type": "markdown",
   "metadata": {},
   "source": [
    "## Keras model\n",
    "\n",
    "We start by creating a Keras model, the neural network, to which we will add the different layers.\n",
    "This model is a `Sequential` model, that is, data flows sequentially from one layer to the next.\n",
    "\n",
    "The first layer has to reshape the data from width-by-height to width-by-height-by-channels, because 2D convolutions expect their input to be 3D (think color images, in which the channels are RGB).\n",
    "\n",
    "Note that the first layer in any model must have the `input_shape` parameter that defines the shape of a single input sample. \n",
    "Other layers can infer their shape from the previous layers (sequential model!)"
   ]
  },
  {
   "cell_type": "code",
   "execution_count": 6,
   "metadata": {},
   "outputs": [],
   "source": [
    "model = keras.models.Sequential()\n",
    "model.add(\n",
    "    keras.layers.Reshape((width, height, 1), input_shape=(width, height)))"
   ]
  },
  {
   "cell_type": "markdown",
   "metadata": {},
   "source": [
    "## First convolutional layer\n",
    "\n",
    "The first layer has a convolution followed by max pooling.\n",
    "\n",
    "The convolution computes 32 features of 5x5 patches; given a 4D input tensor of shape `[batch=-1, in_height=28, in_width=28, in_channels=1]` and a 4D filter / kernel tensor of shape `[filter_height=5, filter_width=5, in_channels=1, out_channels=32]`, the convolution:\n",
    "\n",
    "1. Flattens the filter to a 2-D matrix with shape\n",
    "   `[filter_height * filter_width * in_channels = 5*5*1, out_channels=32]`.\n",
    "2. Extracts image patches from the input tensor to form a *virtual*\n",
    "   tensor of shape `[batch=-1, out_height=28, out_width=28, filter_height * filter_width * in_channels = 5*5*1]`.\n",
    "3. For each patch, right-multiplies the filter matrix and the image patch\n",
    "   vector.\n",
    "   \n",
    "So the convolution accepts `batches x 28 x 28 x 1` data shape and returns `batches x 28 x 28 x 32`.\n",
    "   \n",
    "We then add the bias vector and apply a ReLu activation function ($f(x)=max(0,x)$).\n",
    "\n",
    "The pooling computes the max of every 2x2 patch, thus reducing the data shape to `batches x 14 x 14 x 32`."
   ]
  },
  {
   "cell_type": "code",
   "execution_count": 7,
   "metadata": {},
   "outputs": [],
   "source": [
    "model.add(\n",
    "    keras.layers.Conv2D(32, (5, 5), activation='relu'))\n",
    "model.add(\n",
    "    keras.layers.MaxPool2D())"
   ]
  },
  {
   "cell_type": "markdown",
   "metadata": {},
   "source": [
    "## Second convolutional layer\n",
    "\n",
    "We add another convolution + pooling layer, the 2nd layer will have 64 features. The input has 32 channels (from the previous 32 features) but he data arrays are smaller (14x14) due to the previous pooling:"
   ]
  },
  {
   "cell_type": "code",
   "execution_count": 8,
   "metadata": {},
   "outputs": [],
   "source": [
    "model.add(\n",
    "    keras.layers.Conv2D(64, (5, 5), activation='relu'))\n",
    "model.add(\n",
    "    keras.layers.MaxPool2D())"
   ]
  },
  {
   "cell_type": "markdown",
   "metadata": {},
   "source": [
    "The data is now is shape `batchesx7x7x64`."
   ]
  },
  {
   "cell_type": "markdown",
   "metadata": {},
   "source": [
    "## Fully connected layer\n",
    "\n",
    "Now we add a fully-connected layer with 1024 neurons. This is done by matrix multiplication with a 7x7x64-by-1024 weight matrix. \n",
    "But first we need to flatten the input from 7x7x64 to 3136."
   ]
  },
  {
   "cell_type": "code",
   "execution_count": 10,
   "metadata": {},
   "outputs": [],
   "source": [
    "model.add(\n",
    "    keras.layers.Flatten())\n",
    "model.add(\n",
    "    keras.layers.Dense(1024, activation='relu'))"
   ]
  },
  {
   "cell_type": "markdown",
   "metadata": {},
   "source": [
    "## Dropout layer\n",
    "\n",
    "We apply a dropout to reduce overfitting: the dropout stochasticly removes neurons (outputs of the previous layer) and automatically scales the neurons it retained so that their expected sum remains unchanged. `dropout` accepts a `keep_prob` argument which defines the probability that a neuron is kept. We provide this probability as a `placeholder` to that dropout can be turned on (during training) and off (during testing / predicting)."
   ]
  },
  {
   "cell_type": "code",
   "execution_count": 11,
   "metadata": {},
   "outputs": [],
   "source": [
    "model.add(\n",
    "    keras.layers.Dropout(0.5))"
   ]
  },
  {
   "cell_type": "markdown",
   "metadata": {},
   "source": [
    "## Readout layer\n",
    "\n",
    "We add a Softmax regression layer, similar to the previous, simpler example, including the regression coefficients, bias, and the softmax function:"
   ]
  },
  {
   "cell_type": "code",
   "execution_count": 12,
   "metadata": {},
   "outputs": [],
   "source": [
    "model.add(\n",
    "    keras.layers.Dense(ncats, activation='softmax'))"
   ]
  },
  {
   "cell_type": "markdown",
   "metadata": {},
   "source": [
    "Now let's visualize the model:"
   ]
  },
  {
   "cell_type": "code",
   "execution_count": null,
   "metadata": {},
   "outputs": [],
   "source": [
    "keras.utils.plot_model(model, to_file='tmp.png')\n",
    "keras.preprocessing.image.load_img('tmp.png')"
   ]
  },
  {
   "cell_type": "markdown",
   "metadata": {},
   "source": [
    "## Training\n",
    "\n",
    "To train the model we need to define the loss function. We'll use the same cross entropy function as before. We also use the same measure for accuracy - we predict the most likelihood class and check that it is the correct label.\n",
    "\n",
    "We use the [Adam optimizer](http://arxiv.org/pdf/1412.6980.pdf), an algorithm for stochastic gradient descent based on adaptive estimates of first and second moments."
   ]
  },
  {
   "cell_type": "code",
   "execution_count": 14,
   "metadata": {},
   "outputs": [],
   "source": [
    "model.compile(\n",
    "    loss='categorical_crossentropy', \n",
    "    optimizer='adam', \n",
    "    metrics=['accuracy']\n",
    ")"
   ]
  },
  {
   "cell_type": "markdown",
   "metadata": {},
   "source": [
    "The actual training takes about 15-20 mins on a MacBook Pro 13\" 2016 with max specs, reaching accuracy >99% on the validation set."
   ]
  },
  {
   "cell_type": "code",
   "execution_count": null,
   "metadata": {},
   "outputs": [
    {
     "name": "stdout",
     "output_type": "stream",
     "text": [
      "Train on 60000 samples, validate on 10000 samples\n",
      "Epoch 1/20\n",
      "60000/60000 [==============================] - 69s 1ms/step - loss: 0.1323 - acc: 0.9586 - val_loss: 0.0439 - val_acc: 0.9866\n",
      "Epoch 2/20\n",
      " 1150/60000 [..............................] - ETA: 55s - loss: 0.0383 - acc: 0.9878"
     ]
    }
   ],
   "source": [
    "history = model.fit(x=X_train, y=Y_train, batch_size=50, epochs=20, \n",
    "    validation_data=(X_test, Y_test),\n",
    ").history"
   ]
  },
  {
   "cell_type": "markdown",
   "metadata": {},
   "source": [
    "Interestingly, the neural network very quickly achieves a better accuracy than the previous approach - after 300 steps the accuracy is > 0.94. It then fluctuates for a long time between 0.96 and 1. After 20000 steps the accuracy is 0.9925, a >99% accuracy."
   ]
  },
  {
   "cell_type": "markdown",
   "metadata": {},
   "source": [
    "Save the model and the history:"
   ]
  },
  {
   "cell_type": "code",
   "execution_count": 19,
   "metadata": {},
   "outputs": [],
   "source": [
    "model.save('../data/keras_cnn_model.h5')\n",
    "with open(\"../data/keras_cnn_history.p\", \"wb\") as f:\n",
    "    pickle.dump(history, f)"
   ]
  },
  {
   "cell_type": "markdown",
   "metadata": {},
   "source": [
    "Load model and history:"
   ]
  },
  {
   "cell_type": "code",
   "execution_count": 22,
   "metadata": {},
   "outputs": [],
   "source": [
    "model = keras.models.load_model('../data/keras_cnn_model.h5')\n",
    "with open(\"../data/keras_cnn_history.p\", \"rb\") as f:\n",
    "    history = pickle.load(f)"
   ]
  },
  {
   "cell_type": "markdown",
   "metadata": {},
   "source": [
    "Plot history:"
   ]
  },
  {
   "cell_type": "code",
   "execution_count": 23,
   "metadata": {},
   "outputs": [
    {
     "data": {
      "image/png": "[encoded data removed]",
      "text/plain": [
       "<matplotlib.figure.Figure at 0x1821583ba8>"
      ]
     },
     "metadata": {
      "image/png": {
       "height": 279,
       "width": 856
      }
     },
     "output_type": "display_data"
    }
   ],
   "source": [
    "fig, axes = plt.subplots(1, 2, figsize=(12, 4), sharex=True)\n",
    "\n",
    "ax = axes[0]\n",
    "ax.plot(history['acc'], label='train')\n",
    "ax.plot(history['val_acc'], label='test')\n",
    "ax.set(\n",
    "    title='model accuracy',\n",
    "    ylabel='accuracy',\n",
    "    xlabel='epoch',\n",
    "    xticks=np.arange(0, 21, 5)\n",
    ")\n",
    "ax.legend()\n",
    "\n",
    "ax = axes[1]\n",
    "ax.plot(history['loss'], label='train')\n",
    "ax.plot(history['val_loss'], label='test')\n",
    "ax.set(\n",
    "    title='model loss',\n",
    "    ylabel='loss',\n",
    "    xlabel='epoch',\n",
    "    xticks=np.arange(0, 21, 5)\n",
    ")\n",
    "ax.legend()\n",
    "    \n",
    "fig.tight_layout()"
   ]
  },
  {
   "cell_type": "markdown",
   "metadata": {},
   "source": [
    "We can also visualize the network weights using [Quiver](https://keplr-io.github.io/quiver/)."
   ]
  },
  {
   "cell_type": "markdown",
   "metadata": {},
   "source": [
    "# References\n",
    "\n",
    "- Keras [examples](https://github.com/keras-team/keras/tree/master/examples)\n",
    "- [Fashion-MNIST CNN exercise](../exercises/CNN.ipynb)"
   ]
  },
  {
   "cell_type": "markdown",
   "metadata": {},
   "source": [
    "# Colophon\n",
    "This notebook was written by [Yoav Ram](http://python.yoavram.com) and is part of the [_Deep Learning for Software Developers_](https://python.yoavram.com/Deep4Devs) course.\n",
    "\n",
    "The notebook was written using [Python](http://python.org/) 3.6.3, [IPython](http://ipython.org/) 6.2.1, [Jupyter](http://jupyter.org) 5.1.0.\n",
    "\n",
    "This work is licensed under a CC BY-NC-SA 4.0 International License.\n",
    "\n",
    "![Python logo](https://www.python.org/static/community_logos/python-logo.png)"
   ]
  }
 ],
 "metadata": {
  "kernelspec": {
   "display_name": "Python [conda env:SciComPy]",
   "language": "python",
   "name": "conda-env-SciComPy-py"
  },
  "language_info": {
   "codemirror_mode": {
    "name": "ipython",
    "version": 3
   },
   "file_extension": ".py",
   "mimetype": "text/x-python",
   "name": "python",
   "nbconvert_exporter": "python",
   "pygments_lexer": "ipython3",
   "version": "3.6.6"
  }
 },
 "nbformat": 4,
 "nbformat_minor": 2
}
