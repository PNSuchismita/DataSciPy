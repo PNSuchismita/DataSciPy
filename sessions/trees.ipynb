{
 "cells": [
  {
   "cell_type": "code",
   "execution_count": 1,
   "metadata": {},
   "outputs": [],
   "source": [
    "%matplotlib inline\n",
    "import matplotlib.pyplot as plt\n",
    "import numpy as np\n",
    "import pandas as pd\n",
    "import seaborn as sns\n",
    "\n",
    "from sklearn.model_selection import train_test_split\n",
    "from sklearn.tree import DecisionTreeClassifier as SKDecisionTreeClassifier\n",
    "from sklearn.ensemble import BaggingClassifier\n",
    "from sklearn.ensemble import RandomForestClassifier as SKRandomForestClassifier\n",
    "from sklearn.metrics import accuracy_score"
   ]
  },
  {
   "cell_type": "markdown",
   "metadata": {},
   "source": [
    "# Decision Tree Classifier from Scratch\n",
    "\n",
    "Influenced by [blog post in Curiousily](https://www.curiousily.com/posts/build-a-decision-tree-from-scratch-in-python/).\n",
    "For simplicity, we focus on binomial classification, but everything easily extends to multinomial classification.\n",
    "\n",
    "The decision tree is a binary tree.\n",
    "Each branching node $n$ specifies a specific feature $j_n$ and a split value $x_n$.\n",
    "Each leaf $l$ specifies a classification prediction $p_l$, i.e. the probability that the correct class if \"1\".\n",
    "\n",
    "When the decision tree is used for prediciton, we start we a set of feature values $X=(x_1, \\ldots, x_M)$ at the root of the tree, so we start at node $n=0$.\n",
    "We then iteratively traverse the tree until we reach a leaf by choosing the left branch if the value of this node's feature is less than this node's split value:\n",
    "$$\n",
    "x_{j_n} < x_n,\n",
    "$$\n",
    "and otherwise we choose the right branch.\n",
    "When we find a leaf $l$, we use that leaf's classification prediction $p_l$."
   ]
  },
  {
   "cell_type": "markdown",
   "metadata": {},
   "source": [
    "How is the tree constructed?\n",
    "We present a simple algorithm, but more sophisticated ones exist.\n",
    "\n",
    "We start with the root branch, $n=0$ with all our examples $i=1,2,\\ldots,N$.\n",
    "\n",
    "We want to choose a feautre $j_n$ and split value $x_n$ that, if we branch with this feaure and split value, we will minimize some loss function. This loss function is computed on both branches, and we use the  weighted average of the losses on both branches. We will discuss the specific loss function later.\n",
    "\n",
    "To do this, we iterate over all $M$ features, and for every feature, on all $Nn$ samples, and for each sample $i$ of each feature $j$, we branch the set of examples, compute the loss for each branch, and compute the average loss.\n",
    "We choose the feature and split value that gave the minimal loss, and set them as the feautre $j_n$ and spit value $x_n$ of this node.\n",
    "\n",
    "Then we branch the examples to those below and those above the split value, and we create two new nodes $n_L$ and $n_R$, the left node $n_L$ for the \"below\" values, and the right node $n_R$ for the \"above\" value.\n",
    "We then repeat the whole process for both nodes.\n",
    "So this is a greedy recursive algorithm (and we can probably make it more efficient or at least parallelize it).\n",
    "\n",
    "Like any recursion we must have a stop condition. When do we stop? When the number of examples in a node raches some minimial value `min_leaf`, we call that node a leaf.\n",
    "\n",
    "Thats it. We implement this in the `Node` class."
   ]
  },
  {
   "cell_type": "code",
   "execution_count": 2,
   "metadata": {},
   "outputs": [],
   "source": [
    "class Node:\n",
    "    def __init__(self, x, y, loss_func, min_leaf=5):\n",
    "        ''' x: data, rows for samples, columns for features\n",
    "            y: labels, rows for samples\n",
    "            min_leaf: number of samples in node to make it a leaf\n",
    "        '''\n",
    "        # it is a leaf unless we decide otherwise\n",
    "        self.is_leaf = True\n",
    "        # set the value to average y / fraction of 1s in y, in case this is a leaf\n",
    "        self.value = y.mean()\n",
    "        \n",
    "        # look for the feature (column or j) and split value that give the lowest loss\n",
    "        best_j, best_split, best_loss = 0, np.inf, np.inf\n",
    "        # iterate over columns looking for a good feature\n",
    "        for j in range(x.shape[1]):\n",
    "            xj = x[:, j]\n",
    "            # iterate over rows looking for a good split - this can be parallelized\n",
    "            for xij in xj:\n",
    "                left_idx = xj <= xij\n",
    "                right_idx = ~left_idx # rhs = not lhs\n",
    "                # if either side is too small, go to next split\n",
    "                if left_idx.sum() < min_leaf:\n",
    "                    continue\n",
    "                if right_idx.sum() < min_leaf:\n",
    "                    continue\n",
    "                # compute score\n",
    "                loss_ij = loss_func(y[left_idx], y[right_idx])\n",
    "                # if this is the lowest loss so far, save it\n",
    "                if loss_ij < best_loss:\n",
    "                    best_loss = loss_ij\n",
    "                    best_split = xij\n",
    "                    best_j = j\n",
    "        # no loss found, its a leaf, finish \n",
    "        if np.isinf(best_loss):\n",
    "            return\n",
    "        # loss was found, save to attributes\n",
    "        self.is_leaf = False\n",
    "        self.feature = best_j\n",
    "        self.split = best_split\n",
    "        \n",
    "        # prepare to branch the tree\n",
    "        xj = x[:, best_j]\n",
    "        lhs = np.nonzero(xj <= best_split)[0]\n",
    "        rhs = np.nonzero(xj > best_split)[0]\n",
    "        # branch the tree to left and right\n",
    "        self.left = Node(x[lhs, :], y[lhs], loss_func, min_leaf)\n",
    "        self.right = Node(x[rhs, :], y[rhs], loss_func, min_leaf)\n",
    "    \n",
    "    \n",
    "    def predict(self, x):\n",
    "        if self.is_leaf:\n",
    "            return self.value\n",
    "        \n",
    "        if x[self.feature] <= self.split:\n",
    "            return self.left.predict(x)\n",
    "        else:\n",
    "            return self.right.predict(x)"
   ]
  },
  {
   "cell_type": "markdown",
   "metadata": {},
   "source": [
    "The loss function we will use is called [Gini impurity](https://en.wikipedia.org/wiki/Decision_tree_learning#Gini_impurity). \n",
    "\n",
    "For simiplicity, let's assume binomial classifcation, i.e. only two possible class (this can easily be extended to more then two classes).\n",
    "Gini impurity attempts to estimate the probability to make a classificaion error.\n",
    "We assume set of $n$ elements, of which $p_0$ are of class \"0\" (e.g. fail) and $p_1$ are of class \"1\" (e.g. success).\n",
    "Without any other information, we have a $p_0$ chance to say that a random element is \"0\" and $p_1$ chance to say it is \"1\". \n",
    "So the Gini impurity is\n",
    "\n",
    "$$\n",
    "\\text{gini} = P(\\text{draw}\\; 0, \\text{say}\\; 1) + P(\\text{draw}\\; 1, \\text{say}\\; 0) = \\\\\n",
    "p_0 p_1 + p_1 p_0 = p_0 (1-p_0) + p_1 (1-p_1) = p_0 + p_1 - p_0^2 - p_1^2 = \\\\\n",
    "1 - (p_0^2 +p_1^2)\n",
    "$$"
   ]
  },
  {
   "cell_type": "code",
   "execution_count": 3,
   "metadata": {},
   "outputs": [],
   "source": [
    "def gini(y_left, y_right):\n",
    "    p1_left = y_left.mean() # frequency of 1s\n",
    "    p0_left = 1 - p1_left # frequency of 0s\n",
    "    gini_left = (1 - (p0_left * p0_left + p1_left * p1_left))\n",
    "    p1_right = y_right.mean()\n",
    "    p0_right = 1 - p1_right\n",
    "    gini_right = (1 - (p0_right * p0_right + p1_right * p1_right))\n",
    "    return gini_left * len(y_left) + gini_right * len(y_right)"
   ]
  },
  {
   "cell_type": "markdown",
   "metadata": {},
   "source": [
    "We now wrap the whole thing in a Scikit-learn-like classifier object that has a constructor method `__init__`, a `fit` method, and a `predict` method."
   ]
  },
  {
   "cell_type": "code",
   "execution_count": 14,
   "metadata": {},
   "outputs": [],
   "source": [
    "class DecisionTreeClassifier:\n",
    "    def __init__(self, min_leaf=5):\n",
    "        self.min_leaf = min_leaf\n",
    "        \n",
    "    def fit(self, X, y):\n",
    "        self.threshold = y.mean()\n",
    "        self.root = Node(X, y, loss_func=gini, min_leaf=self.min_leaf)\n",
    "        return self\n",
    "    \n",
    "    def predict(self, X):\n",
    "        return np.array([\n",
    "            self.root\n",
    "            .predict(x) > self.threshold \n",
    "            for x in X\n",
    "        ])"
   ]
  },
  {
   "cell_type": "code",
   "execution_count": 15,
   "metadata": {},
   "outputs": [
    {
     "data": {
      "text/html": [
       "<div>\n",
       "<style scoped>\n",
       "    .dataframe tbody tr th:only-of-type {\n",
       "        vertical-align: middle;\n",
       "    }\n",
       "\n",
       "    .dataframe tbody tr th {\n",
       "        vertical-align: top;\n",
       "    }\n",
       "\n",
       "    .dataframe thead th {\n",
       "        text-align: right;\n",
       "    }\n",
       "</style>\n",
       "<table border=\"1\" class=\"dataframe\">\n",
       "  <thead>\n",
       "    <tr style=\"text-align: right;\">\n",
       "      <th></th>\n",
       "      <th>Pregnancies</th>\n",
       "      <th>Glucose</th>\n",
       "      <th>BloodPressure</th>\n",
       "      <th>SkinThickness</th>\n",
       "      <th>Insulin</th>\n",
       "      <th>BMI</th>\n",
       "      <th>DiabetesPedigreeFunction</th>\n",
       "      <th>Age</th>\n",
       "      <th>Outcome</th>\n",
       "    </tr>\n",
       "  </thead>\n",
       "  <tbody>\n",
       "    <tr>\n",
       "      <th>0</th>\n",
       "      <td>6</td>\n",
       "      <td>148</td>\n",
       "      <td>72</td>\n",
       "      <td>35</td>\n",
       "      <td>0</td>\n",
       "      <td>33.6</td>\n",
       "      <td>0.627</td>\n",
       "      <td>50</td>\n",
       "      <td>1</td>\n",
       "    </tr>\n",
       "    <tr>\n",
       "      <th>1</th>\n",
       "      <td>1</td>\n",
       "      <td>85</td>\n",
       "      <td>66</td>\n",
       "      <td>29</td>\n",
       "      <td>0</td>\n",
       "      <td>26.6</td>\n",
       "      <td>0.351</td>\n",
       "      <td>31</td>\n",
       "      <td>0</td>\n",
       "    </tr>\n",
       "    <tr>\n",
       "      <th>2</th>\n",
       "      <td>8</td>\n",
       "      <td>183</td>\n",
       "      <td>64</td>\n",
       "      <td>0</td>\n",
       "      <td>0</td>\n",
       "      <td>23.3</td>\n",
       "      <td>0.672</td>\n",
       "      <td>32</td>\n",
       "      <td>1</td>\n",
       "    </tr>\n",
       "    <tr>\n",
       "      <th>3</th>\n",
       "      <td>1</td>\n",
       "      <td>89</td>\n",
       "      <td>66</td>\n",
       "      <td>23</td>\n",
       "      <td>94</td>\n",
       "      <td>28.1</td>\n",
       "      <td>0.167</td>\n",
       "      <td>21</td>\n",
       "      <td>0</td>\n",
       "    </tr>\n",
       "    <tr>\n",
       "      <th>4</th>\n",
       "      <td>0</td>\n",
       "      <td>137</td>\n",
       "      <td>40</td>\n",
       "      <td>35</td>\n",
       "      <td>168</td>\n",
       "      <td>43.1</td>\n",
       "      <td>2.288</td>\n",
       "      <td>33</td>\n",
       "      <td>1</td>\n",
       "    </tr>\n",
       "    <tr>\n",
       "      <th>...</th>\n",
       "      <td>...</td>\n",
       "      <td>...</td>\n",
       "      <td>...</td>\n",
       "      <td>...</td>\n",
       "      <td>...</td>\n",
       "      <td>...</td>\n",
       "      <td>...</td>\n",
       "      <td>...</td>\n",
       "      <td>...</td>\n",
       "    </tr>\n",
       "    <tr>\n",
       "      <th>763</th>\n",
       "      <td>10</td>\n",
       "      <td>101</td>\n",
       "      <td>76</td>\n",
       "      <td>48</td>\n",
       "      <td>180</td>\n",
       "      <td>32.9</td>\n",
       "      <td>0.171</td>\n",
       "      <td>63</td>\n",
       "      <td>0</td>\n",
       "    </tr>\n",
       "    <tr>\n",
       "      <th>764</th>\n",
       "      <td>2</td>\n",
       "      <td>122</td>\n",
       "      <td>70</td>\n",
       "      <td>27</td>\n",
       "      <td>0</td>\n",
       "      <td>36.8</td>\n",
       "      <td>0.340</td>\n",
       "      <td>27</td>\n",
       "      <td>0</td>\n",
       "    </tr>\n",
       "    <tr>\n",
       "      <th>765</th>\n",
       "      <td>5</td>\n",
       "      <td>121</td>\n",
       "      <td>72</td>\n",
       "      <td>23</td>\n",
       "      <td>112</td>\n",
       "      <td>26.2</td>\n",
       "      <td>0.245</td>\n",
       "      <td>30</td>\n",
       "      <td>0</td>\n",
       "    </tr>\n",
       "    <tr>\n",
       "      <th>766</th>\n",
       "      <td>1</td>\n",
       "      <td>126</td>\n",
       "      <td>60</td>\n",
       "      <td>0</td>\n",
       "      <td>0</td>\n",
       "      <td>30.1</td>\n",
       "      <td>0.349</td>\n",
       "      <td>47</td>\n",
       "      <td>1</td>\n",
       "    </tr>\n",
       "    <tr>\n",
       "      <th>767</th>\n",
       "      <td>1</td>\n",
       "      <td>93</td>\n",
       "      <td>70</td>\n",
       "      <td>31</td>\n",
       "      <td>0</td>\n",
       "      <td>30.4</td>\n",
       "      <td>0.315</td>\n",
       "      <td>23</td>\n",
       "      <td>0</td>\n",
       "    </tr>\n",
       "  </tbody>\n",
       "</table>\n",
       "<p>768 rows × 9 columns</p>\n",
       "</div>"
      ],
      "text/plain": [
       "     Pregnancies  Glucose  BloodPressure  SkinThickness  Insulin   BMI  \\\n",
       "0              6      148             72             35        0  33.6   \n",
       "1              1       85             66             29        0  26.6   \n",
       "2              8      183             64              0        0  23.3   \n",
       "3              1       89             66             23       94  28.1   \n",
       "4              0      137             40             35      168  43.1   \n",
       "..           ...      ...            ...            ...      ...   ...   \n",
       "763           10      101             76             48      180  32.9   \n",
       "764            2      122             70             27        0  36.8   \n",
       "765            5      121             72             23      112  26.2   \n",
       "766            1      126             60              0        0  30.1   \n",
       "767            1       93             70             31        0  30.4   \n",
       "\n",
       "     DiabetesPedigreeFunction  Age  Outcome  \n",
       "0                       0.627   50        1  \n",
       "1                       0.351   31        0  \n",
       "2                       0.672   32        1  \n",
       "3                       0.167   21        0  \n",
       "4                       2.288   33        1  \n",
       "..                        ...  ...      ...  \n",
       "763                     0.171   63        0  \n",
       "764                     0.340   27        0  \n",
       "765                     0.245   30        0  \n",
       "766                     0.349   47        1  \n",
       "767                     0.315   23        0  \n",
       "\n",
       "[768 rows x 9 columns]"
      ]
     },
     "execution_count": 15,
     "metadata": {},
     "output_type": "execute_result"
    }
   ],
   "source": [
    "df = pd.read_csv(\"../data/pima-indians-diabetes.csv\")\n",
    "df"
   ]
  },
  {
   "cell_type": "code",
   "execution_count": 16,
   "metadata": {},
   "outputs": [],
   "source": [
    "feature_cols = ['Pregnancies', 'Insulin', 'BMI', 'Age','Glucose','BloodPressure','DiabetesPedigreeFunction']\n",
    "X = df[feature_cols].values # Features\n",
    "y = df['Outcome'].values # Target variable"
   ]
  },
  {
   "cell_type": "code",
   "execution_count": 17,
   "metadata": {},
   "outputs": [],
   "source": [
    "X_train, X_test, y_train, y_test = train_test_split(X, y, test_size=0.3, random_state=1) # 70% training and 30% test"
   ]
  },
  {
   "cell_type": "code",
   "execution_count": 18,
   "metadata": {},
   "outputs": [
    {
     "name": "stdout",
     "output_type": "stream",
     "text": [
      "Accuracy: 0.7229437229437229\n"
     ]
    }
   ],
   "source": [
    "classifier = DecisionTreeClassifier()\n",
    "\n",
    "classifier.fit(X_train, y_train)\n",
    "\n",
    "y_pred = classifier.predict(X_test)\n",
    "print(\"Accuracy:\", accuracy_score(y_test, y_pred))"
   ]
  },
  {
   "cell_type": "code",
   "execution_count": 19,
   "metadata": {},
   "outputs": [
    {
     "name": "stdout",
     "output_type": "stream",
     "text": [
      "Accuracy: 0.6883116883116883\n"
     ]
    }
   ],
   "source": [
    "skclassifier = SKDecisionTreeClassifier()\n",
    "\n",
    "skclassifier.fit(X_train, y_train)\n",
    "\n",
    "y_pred = skclassifier.predict(X_test)\n",
    "print(\"Accuracy:\", accuracy_score(y_test, y_pred))"
   ]
  },
  {
   "cell_type": "markdown",
   "metadata": {},
   "source": [
    "# Random Forest Classifier from Scratch"
   ]
  },
  {
   "cell_type": "code",
   "execution_count": 20,
   "metadata": {},
   "outputs": [],
   "source": [
    "class RandomForestClassifier:\n",
    "    def __init__(self, n_trees=10, min_leaf=5):\n",
    "        self.n_trees = n_trees\n",
    "        self.min_leaf = min_leaf\n",
    "        self.trees = [DecisionTreeClassifier() for i in range(n_trees)]\n",
    "        \n",
    "    def fit(self, X, y):\n",
    "        for i in range(self.n_trees): # this can be parallelized\n",
    "            n = X_train.shape[0]\n",
    "            idx = np.random.choice(n, n, replace=True)\n",
    "            X_, y_ = X_train[idx], y_train[idx]        \n",
    "            self.trees[i].fit(X_, y_)\n",
    "        return self\n",
    "    \n",
    "    def predict(self, X):\n",
    "        pred = np.array([tree.predict(X) for tree in self.trees])\n",
    "        values, counts = np.unique(pred, return_counts=True, axis=0)\n",
    "        ind = np.argmax(counts)\n",
    "        return values[ind]  "
   ]
  },
  {
   "cell_type": "code",
   "execution_count": 21,
   "metadata": {},
   "outputs": [
    {
     "name": "stdout",
     "output_type": "stream",
     "text": [
      "Accuracy: 0.7489177489177489\n"
     ]
    }
   ],
   "source": [
    "classifier = RandomForestClassifier(10)\n",
    "\n",
    "classifier.fit(X_train, y_train)\n",
    "\n",
    "y_pred = classifier.predict(X_test)\n",
    "print(\"Accuracy:\", accuracy_score(y_test, y_pred))"
   ]
  },
  {
   "cell_type": "code",
   "execution_count": 22,
   "metadata": {},
   "outputs": [
    {
     "name": "stdout",
     "output_type": "stream",
     "text": [
      "Accuracy: 0.7532467532467533\n"
     ]
    }
   ],
   "source": [
    "skclassifier = SKRandomForestClassifier(10)\n",
    "\n",
    "skclassifier.fit(X_train, y_train)\n",
    "\n",
    "y_pred = skclassifier.predict(X_test)\n",
    "print(\"Accuracy:\", accuracy_score(y_test, y_pred))"
   ]
  },
  {
   "cell_type": "markdown",
   "metadata": {},
   "source": [
    "# Decision Tree Regressor"
   ]
  },
  {
   "cell_type": "code",
   "execution_count": 55,
   "metadata": {},
   "outputs": [],
   "source": [
    "from sklearn.datasets import load_diabetes"
   ]
  },
  {
   "cell_type": "code",
   "execution_count": 56,
   "metadata": {},
   "outputs": [],
   "source": [
    "X, y = load_diabetes(return_X_y=True)\n",
    "X_train, X_test, y_train, y_test = train_test_split(X, y, test_size=0.3)"
   ]
  },
  {
   "cell_type": "code",
   "execution_count": 57,
   "metadata": {},
   "outputs": [],
   "source": [
    "def rmse(y_left, y_right):\n",
    "    # minimizing weighted averages of the standard deviations is equivalent to minimizing RMSE\n",
    "    return y_left.std() * len(y_left) + y_right.std() * len(y_right)\n",
    "\n",
    "class DecisionTreeRegressor:\n",
    "    def fit(self, X, y, min_leaf=5):\n",
    "        self.dtree = Node(X, y, loss_func=rmse, min_leaf=min_leaf)\n",
    "        return self\n",
    "    \n",
    "    def predict(self, X):\n",
    "        return np.array([self.dtree.predict(x) for x in X])"
   ]
  },
  {
   "cell_type": "code",
   "execution_count": 58,
   "metadata": {},
   "outputs": [
    {
     "data": {
      "text/plain": [
       "4584.771419364738"
      ]
     },
     "execution_count": 58,
     "metadata": {},
     "output_type": "execute_result"
    }
   ],
   "source": [
    "regressor = DecisionTreeRegressor()\n",
    "regressor.fit(X_train, y_train)\n",
    "y_hat = regressor.predict(X_test)\n",
    "((y_hat - y_test)**2).mean()"
   ]
  },
  {
   "cell_type": "code",
   "execution_count": 59,
   "metadata": {},
   "outputs": [
    {
     "data": {
      "image/png": "[encoded data removed]",
      "text/plain": [
       "<Figure size 432x288 with 1 Axes>"
      ]
     },
     "metadata": {
      "image/png": {
       "height": 248,
       "width": 375
      },
      "needs_background": "light"
     },
     "output_type": "display_data"
    }
   ],
   "source": [
    "plt.plot(y_hat, y_test, 'o')\n",
    "plt.plot(y_hat, y_hat, '--k');"
   ]
  },
  {
   "cell_type": "code",
   "execution_count": null,
   "metadata": {},
   "outputs": [],
   "source": []
  }
 ],
 "metadata": {
  "kernelspec": {
   "display_name": "Python [conda env:DataSciPy]",
   "language": "python",
   "name": "conda-env-DataSciPy-py"
  },
  "language_info": {
   "codemirror_mode": {
    "name": "ipython",
    "version": 3
   },
   "file_extension": ".py",
   "mimetype": "text/x-python",
   "name": "python",
   "nbconvert_exporter": "python",
   "pygments_lexer": "ipython3",
   "version": "3.6.7"
  }
 },
 "nbformat": 4,
 "nbformat_minor": 4
}
