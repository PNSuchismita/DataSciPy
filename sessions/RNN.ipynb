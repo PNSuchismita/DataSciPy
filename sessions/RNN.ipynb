{
 "cells": [
  {
   "cell_type": "markdown",
   "metadata": {},
   "source": [
    "![Py4Eng](img/logo.png)\n",
    "\n",
    "# Recurrent Neural Networks\n",
    "## Yoav Ram\n",
    "\n",
    "In this session we will understand:\n",
    "- what recurrent neural network and how they work, and\n",
    "- how memory and state can be implemented in neural networks\n",
    "\n",
    "This session uses Keras.\n",
    "You can also view a [NumPy implementation](RNN_np.ipynb), including code for feed forward and back propagation,"
   ]
  },
  {
   "cell_type": "code",
   "execution_count": 1,
   "metadata": {},
   "outputs": [
    {
     "name": "stderr",
     "output_type": "stream",
     "text": [
      "Using TensorFlow backend.\n"
     ]
    },
    {
     "name": "stdout",
     "output_type": "stream",
     "text": [
      "Keras 2.2.4\n",
      "GPU: []\n"
     ]
    }
   ],
   "source": [
    "%matplotlib inline\n",
    "import matplotlib.pyplot as plt\n",
    "import numpy as np\n",
    "from collections import Counter\n",
    "from random import uniform\n",
    "\n",
    "import keras\n",
    "print('Keras', keras.__version__)\n",
    "from keras import backend as K\n",
    "print('GPU:', K.tensorflow_backend._get_available_gpus())"
   ]
  },
  {
   "cell_type": "markdown",
   "metadata": {},
   "source": [
    "In developing this RNN we will follow [Andrej Karpathy](http://cs.stanford.edu/people/karpathy/)'s [blogpost about RNNs](http://karpathy.github.io/2015/05/21/rnn-effectiveness) ([original code gist](https://gist.github.com/karpathy/d4dee566867f8291f086) with BSD License).\n",
    "\n",
    "The data is just text data, in this case Shakespear's writing."
   ]
  },
  {
   "cell_type": "code",
   "execution_count": 2,
   "metadata": {},
   "outputs": [
    {
     "name": "stdout",
     "output_type": "stream",
     "text": [
      "Number of characters: 99993\n",
      "Number of unique characters: 62\n",
      "Number of lines: 3298\n",
      "Number of words: 15893\n",
      "\n",
      "Excerpt:\n",
      "********\n",
      "That, poor contempt, or claim'd thou slept so faithful,\n",
      "I may contrive our father; and, in their defeated queen,\n",
      "Her flesh broke me and puttance of expedition house,\n",
      "And in that same that ever I lament this stomach,\n",
      "And he, nor Butly and my fury, knowing everything\n",
      "Grew daily ever, his great strength and thought\n",
      "The bright buds of mine own.\n",
      "\n",
      "BIONDELLO:\n",
      "Marry, that it may not pray their patience.'\n",
      "\n",
      "KING LEAR:\n",
      "The instant common maid, as we may less be\n",
      "a brave gentleman and joiner: he that finds u\n"
     ]
    }
   ],
   "source": [
    "filename = '../data/shakespear.txt'\n",
    "text = open(filename, 'rt').read()\n",
    "print(\"Number of characters: {}\".format(len(text)))\n",
    "print(\"Number of unique characters: {}\".format(len(set(text))))\n",
    "print(\"Number of lines: {}\".format(text.count('\\n')))\n",
    "print(\"Number of words: {}\".format(text.count(' ')))\n",
    "print()\n",
    "print(\"Excerpt:\")\n",
    "print(\"*\" * len(\"Excerpt:\"))\n",
    "print(text[:500])"
   ]
  },
  {
   "cell_type": "markdown",
   "metadata": {},
   "source": [
    "# Preparations\n",
    "\n",
    "We start by creating \n",
    "- a list `chars` of the unique characters\n",
    "- `data_size` the number of total characters\n",
    "- `vocab_size` the number of unique characters\n",
    "- `idx_to_char` a dictionary from index to char\n",
    "- `char_to_idx` a dictionary from char to index\n",
    "and then we convert `data` from a string to a NumPy array integers representing the chars via their indexes."
   ]
  },
  {
   "cell_type": "code",
   "execution_count": 3,
   "metadata": {},
   "outputs": [],
   "source": [
    "chars = list(set(text))\n",
    "data_size, vocab_size = len(text), len(chars)\n",
    "\n",
    "id_to_char = dict(enumerate(chars)) # { i: ch for i,ch in enumerate(chars) }\n",
    "char_to_id = dict(zip(id_to_char.values(), id_to_char.keys())) # { ch: i for i,ch in enumerate(chars) }\n",
    "data = np.array([char_to_id[c] for c in text], dtype=int)"
   ]
  },
  {
   "cell_type": "markdown",
   "metadata": {},
   "source": [
    "We segment the text to semi-redundant (i.e. overlapping) sequences of `seq_length` characters."
   ]
  },
  {
   "cell_type": "code",
   "execution_count": 4,
   "metadata": {},
   "outputs": [
    {
     "name": "stdout",
     "output_type": "stream",
     "text": [
      "# sequences: 33318\n",
      "That, poor contempt, or claim'd thou sle -> p\n"
     ]
    }
   ],
   "source": [
    "seq_length = 40\n",
    "step = 3\n",
    "sequences = []\n",
    "next_chars = []\n",
    "for i in range(0, len(text) - seq_length, step):\n",
    "    sequences.append(text[i: i + seq_length])\n",
    "    next_chars.append(text[i + seq_length])\n",
    "n_sequences = len(sequences)\n",
    "print('# sequences:', n_sequences)\n",
    "print(sequences[0], '->', next_chars[0])"
   ]
  },
  {
   "cell_type": "markdown",
   "metadata": {},
   "source": [
    "We now convert the strings data to numerical data using one-hot encoding.\n",
    "\n",
    "Shapes:\n",
    "- `X` is `(n_sequences, seq_length, vocab_size)`\n",
    "- `Y` is `(n_sequences, vocab_size)`"
   ]
  },
  {
   "cell_type": "code",
   "execution_count": 5,
   "metadata": {},
   "outputs": [],
   "source": [
    "X = np.zeros((n_sequences, seq_length, vocab_size), dtype=np.bool)\n",
    "Y = np.zeros((n_sequences, vocab_size), dtype=np.bool)\n",
    "\n",
    "for i, seq in enumerate(sequences):\n",
    "    for t, char in enumerate(seq):\n",
    "        X[i, t, char_to_id[char]] = 1\n",
    "    Y[i, char_to_id[next_chars[i]]] = 1"
   ]
  },
  {
   "cell_type": "markdown",
   "metadata": {},
   "source": [
    "# RNN model\n",
    "\n",
    "- $x(t)$ is the $t$ character, one-hot encoded and a 1D array of length `vocab_size`.\n",
    "- $h(t)$ is the state of the hidden memory layer after seeing $t$ characters, encoded as a 1D array of numbers (neurons...)\n",
    "- $\\widehat y(t)$ is the prediction of the network after seeing $t$ characters, encoded as a 1D array of probabilities of length `vocab_size`\n",
    "\n",
    "The model is then written as:\n",
    "\n",
    "$$\n",
    "h(t) = \\tanh{\\big(x(t) \\cdot W_x^h + h(t-1) \\cdot W_h^h + b_h\\big)} \\\\\n",
    "\\widehat y(t) = softmax\\big(h(t) \\cdot W_h^y\\big)\n",
    "$$\n",
    "\n",
    "and we set $h(0) = (0, \\ldots, 0)$."
   ]
  },
  {
   "cell_type": "markdown",
   "metadata": {},
   "source": [
    "# Back propagation and \"unrolling\" the network\n",
    "\n",
    "Back propagation works, as before, using the chain rule. \n",
    "It is similar to the [FFN example](FFN.ipynb), except that the $h$ layer adds a bit of complexity, but not much.\n",
    "\n",
    "The details of the gradient calculation can be found in Stanford's [\"Convolutional Neural Networks for Visual Recognition\" course](http://cs231n.github.io/neural-networks-case-study/#grad).\n",
    "\n",
    "What's important to discuss is that instead of back propagating a single step of the network $t$, we back propagate over a sequence of steps, that is over $x=(x_1, \\ldots, x_k)$ for some arbitrary $k$.\n",
    "\n",
    "![rolled RNN](img/rolled_rnn.png)\n",
    "\n",
    "How? By \"unrolling\" the network.\n",
    "\n",
    "![Unrolled RNN](img/unrolled_rnn.png)\n",
    "\n",
    "For example, for $k=3$, the input is $x=[x(1), x(2), x(3)]$, and we can write\n",
    "\n",
    "$$\n",
    "h(1) = \\tanh{\\big(x(1) \\cdot W_x^h + h(0) \\cdot W_h^h + b_h\\big)} \\\\\n",
    "\\widehat y(1) = softmax\\big(h(1) \\cdot W_h^y\\big) \\\\\n",
    "h(2) = \\tanh{\\big(x(2) \\cdot W_x^h + h(1) \\cdot W_h^h + b_h\\big)} \\\\\n",
    "\\widehat y(2) = softmax\\big(h(2) \\cdot W_h^y\\big) \\\\\n",
    "h(3) = \\tanh{\\big(x(3) \\cdot W_x^h + h(2) \\cdot W_h^h + b_h\\big)} \\\\\n",
    "\\widehat y(3) = softmax\\big(h(3) \\cdot W_h^y\\big)\n",
    "$$\n",
    "\n",
    "The loss is computed by summing over all $\\widehat y(t)$ together, and then the gradient is computed for this loss with respect to the various $W$ and $b$ parameters."
   ]
  },
  {
   "cell_type": "markdown",
   "metadata": {},
   "source": [
    "# Sampling from the network\n",
    "\n",
    "Finally, to sample from the network, we need the parameters $W$s and $b$s, a seed char, and a state for the hidden layer.\n",
    "We can then produce a sample of text from the network.\n",
    "\n",
    "It does so by using the seed as $x(1)$ and drawing $x(t)$ for $t>1$ from the distribution given by $\\widehat y(t)$.\n",
    "\n",
    "![](img/sampling_rnn.png)"
   ]
  },
  {
   "cell_type": "code",
   "execution_count": 24,
   "metadata": {},
   "outputs": [],
   "source": [
    "def example(epoch, *args):\n",
    "    if epoch % 10 != 0: return\n",
    "    # get random sequence from text\n",
    "    start = np.random.randint(0, data_size - seq_length - 1)\n",
    "    seq = text[start:start + seq_length]\n",
    "    # one-hot encode\n",
    "    x = np.zeros((1, seq_length, vocab_size), dtype=float)\n",
    "    for t, char in enumerate(seq):\n",
    "        x[0, t, char_to_id[char]] = 1\n",
    "    print(f'----- Generating text after Epoch {epoch} with seed: {seq}')\n",
    "    \n",
    "    for i in range(300):\n",
    "        # predict char distribution\n",
    "        pred = model.predict(x).squeeze() # returns 2D array\n",
    "        # sample char\n",
    "        char_id = np.random.multinomial(1, pred).argmax()\n",
    "        next_char = id_to_char[char_id]\n",
    "        print(next_char, end='')\n",
    "        \n",
    "        # update x\n",
    "        x[0, :-1, :] = x[0, 1:, :]\n",
    "        x[0, -1, 0] = 0\n",
    "        x[0, -1, char_id] = 1\n",
    "        \n",
    "    print('', flush=True) # flush makes sure that print doenst wait for buffer to be full"
   ]
  },
  {
   "cell_type": "markdown",
   "metadata": {},
   "source": [
    "# Building the model"
   ]
  },
  {
   "cell_type": "code",
   "execution_count": 21,
   "metadata": {},
   "outputs": [
    {
     "name": "stdout",
     "output_type": "stream",
     "text": [
      "_________________________________________________________________\n",
      "Layer (type)                 Output Shape              Param #   \n",
      "=================================================================\n",
      "simple_rnn_4 (SimpleRNN)     (None, 128)               24448     \n",
      "_________________________________________________________________\n",
      "dense_4 (Dense)              (None, 62)                7998      \n",
      "=================================================================\n",
      "Total params: 32,446\n",
      "Trainable params: 32,446\n",
      "Non-trainable params: 0\n",
      "_________________________________________________________________\n"
     ]
    }
   ],
   "source": [
    "h_size = 128 # number of units in hidden layer\n",
    "\n",
    "layers = [\n",
    "    keras.layers.SimpleRNN(h_size, input_shape=(None, vocab_size)), # None let's us use variable sequence length; in the same batch we must have the same shape, though\n",
    "    keras.layers.Dense(vocab_size, activation='softmax')\n",
    "    \n",
    "]\n",
    "model = keras.models.Sequential(layers)\n",
    "model.summary()"
   ]
  },
  {
   "cell_type": "code",
   "execution_count": 22,
   "metadata": {},
   "outputs": [],
   "source": [
    "model.compile(loss=keras.losses.categorical_crossentropy, \n",
    "              optimizer=keras.optimizers.Adam(), \n",
    "              metrics=[keras.metrics.categorical_accuracy])"
   ]
  },
  {
   "cell_type": "markdown",
   "metadata": {},
   "source": [
    "# Training the network\n"
   ]
  },
  {
   "cell_type": "markdown",
   "metadata": {},
   "source": [
    "On my laptop, a single epoch takes 4-5 seconds."
   ]
  },
  {
   "cell_type": "code",
   "execution_count": 23,
   "metadata": {},
   "outputs": [
    {
     "name": "stdout",
     "output_type": "stream",
     "text": [
      "Train on 29986 samples, validate on 3332 samples\n",
      "Epoch 1/1\n",
      "29986/29986 [==============================] - 10s 333us/step - loss: 3.1133 - categorical_accuracy: 0.2025 - val_loss: 2.7937 - val_categorical_accuracy: 0.2725\n",
      "----- Generating text after Epoch 0 with seed: on, we are for death:\n",
      "Marry, there was f\n",
      "nrrX  nmtl hh-de, e  o \n",
      "ii.   r ,  s    rrf       e l   \n",
      "  c u r  ua  .ay n r lc ev   rcar ,h,    tr       ar n d s  ,      t ma     e      ,   cg l ea   g     , d  ,  \n",
      "  oa e      \n",
      "      r,  o ,   a h h     d sr\n",
      "   \n",
      "      '  sr dl,      , Ba,orr\n",
      " \n",
      "   \n",
      "  w    s   d    a, e \n",
      "   l     ,, l  a ees\n",
      " r  \n"
     ]
    }
   ],
   "source": [
    "history = model.fit(X, Y, \n",
    "          batch_size=128, \n",
    "          epochs=100,\n",
    "          validation_split=0.1, \n",
    "          callbacks=[keras.callbacks.LambdaCallback(on_epoch_end=example)]).history"
   ]
  },
  {
   "cell_type": "code",
   "execution_count": 35,
   "metadata": {},
   "outputs": [
    {
     "data": {
      "image/png": "[encoded data removed]",
      "text/plain": [
       "<Figure size 432x288 with 1 Axes>"
      ]
     },
     "metadata": {
      "image/png": {
       "height": 263,
       "width": 393
      },
      "needs_background": "light"
     },
     "output_type": "display_data"
    }
   ],
   "source": [
    "for k, v in history.items():\n",
    "    if 'acc' in k:\n",
    "        plt.plot(v, label=k)\n",
    "plt.xlabel('epoch')\n",
    "plt.ylabel('accuracy')\n",
    "plt.legend();"
   ]
  },
  {
   "cell_type": "markdown",
   "metadata": {},
   "source": [
    "# References\n",
    "\n",
    "- [NumPy implementation](RNN_np.ipynb) of this same task.\n",
    "- TensorFlow [RNN tutorial](https://www.tensorflow.org/tutorials/recurrent)\n",
    "- Andrej Karpathy's [The Unreasonable Effectiveness of Recurrent Neural Networks](http://karpathy.github.io/2015/05/21/rnn-effectiveness/) blogpost\n",
    "- [Obama-RNN](https://medium.com/@samim/obama-rnn-machine-generated-political-speeches-c8abd18a2ea0) by samim.\n",
    "- [Gradient checking and advanced optimization](http://ufldl.stanford.edu/wiki/index.php/Gradient_checking_and_advanced_optimization) on Stanford's \"Unsupervised Feature Learning and Deep Learning\" tutorial\n",
    "- [Making a Predictive Keyboard using Recurrent Neural Networks](http://curiousily.com/data-science/2017/05/23/tensorflow-for-hackers-part-5.html) by Venelin Valkov"
   ]
  },
  {
   "cell_type": "markdown",
   "metadata": {},
   "source": [
    "# Colophon\n",
    "This notebook was written by [Yoav Ram](http://python.yoavram.com) and is part of the [_Data Science with Python_](https://github.com/yoavram/DataSciPy) workshop.\n",
    "\n",
    "The notebook was written using [Python](http://python.org/) 3.6.5.\n",
    "\n",
    "This work is licensed under a [CC BY-SA 4.0](https://creativecommons.org/licenses/by-sa/4.0/) International License.\n",
    "\n",
    "![Python logo](https://www.python.org/static/community_logos/python-logo.png)"
   ]
  }
 ],
 "metadata": {
  "kernelspec": {
   "display_name": "Python [conda env:DataSciPy]",
   "language": "python",
   "name": "conda-env-DataSciPy-py"
  },
  "language_info": {
   "codemirror_mode": {
    "name": "ipython",
    "version": 3
   },
   "file_extension": ".py",
   "mimetype": "text/x-python",
   "name": "python",
   "nbconvert_exporter": "python",
   "pygments_lexer": "ipython3",
   "version": "3.6.6"
  }
 },
 "nbformat": 4,
 "nbformat_minor": 2
}
