{
 "cells": [
  {
   "cell_type": "markdown",
   "metadata": {},
   "source": [
    "![Py4Eng](img/logo.png)\n",
    "\n",
    "# Softmax Model\n",
    "## Yoav Ram\n",
    "\n",
    "In this session we will understand:\n",
    "- how to use multinomial logistic regression to classify samples to multiple categories\n",
    "- why sometimes linear models like logistic regression are not enough\n",
    "- first steps in working with images\n",
    "- first steps with generator functions\n",
    "- polynoimal fitting and polynomial features"
   ]
  },
  {
   "cell_type": "code",
   "execution_count": 1,
   "metadata": {},
   "outputs": [],
   "source": [
    "%matplotlib inline\n",
    "import matplotlib.pyplot as plt\n",
    "import numpy as np\n",
    "import pandas as pd\n",
    "import scipy.stats\n",
    "import scipy.optimize\n",
    "from scipy.special import expit\n",
    "import scipy.misc\n",
    "from scipy import ndimage\n",
    "from sklearn.linear_model import LogisticRegression\n",
    "import seaborn as sns\n",
    "sns.set(\n",
    "    style='ticks',\n",
    "    context='talk'\n",
    ")\n",
    "from ipywidgets import interact"
   ]
  },
  {
   "cell_type": "markdown",
   "metadata": {},
   "source": [
    "# Image classification: MNIST dataset\n",
    "\n",
    "We continue with classification, this time we want to classify an image. \n",
    "\n",
    "We'll use a classical image classification problem, the [MNIST](https://en.wikipedia.org/wiki/MNIST_database) dataset of  handwritten digits. \n",
    "Since we will use Keras later anyway, we can get the images from the `keras.datasets` module which is distributed with Keras, which, in turn, is distributed with TensorFlow since version 1.4, which is distributed with Anaconda.\n",
    "\n",
    "If you got an `ImportError`, just open a terminal and run `conda install keras`.\n",
    "\n",
    "First we read the data sets:"
   ]
  },
  {
   "cell_type": "code",
   "execution_count": 2,
   "metadata": {},
   "outputs": [
    {
     "name": "stderr",
     "output_type": "stream",
     "text": [
      "Using TensorFlow backend.\n"
     ]
    }
   ],
   "source": [
    "import keras\n",
    "(X_train, Y_train), (X_test, Y_test) = keras.datasets.mnist.load_data()"
   ]
  },
  {
   "cell_type": "markdown",
   "metadata": {},
   "source": [
    "Then we pull the images, which are our *features* for this problem, the independent variables.\n",
    "The images are already divided to training and test images, and they are 28x28 pixels each (for a total of 784 features per sample!).\n",
    "\n",
    "So `X_train` and `X_test` are arrays of shape (nsamples, 28, 28)."
   ]
  },
  {
   "cell_type": "code",
   "execution_count": 3,
   "metadata": {},
   "outputs": [
    {
     "name": "stdout",
     "output_type": "stream",
     "text": [
      "[[  0   0   0   0   0   0   0   0   0   0   0   0   0   0   0   0   0   0\n",
      "    0   0   0   0   0   0   0   0   0   0]\n",
      " [  0   0   0   0   0   0   0   0   0   0   0   0   0   0   0   0   0   0\n",
      "    0   0   0   0   0   0   0   0   0   0]\n",
      " [  0   0   0   0   0   0   0   0   0   0   0   0   0   0   0   0   0   0\n",
      "    0   0   0   0   0   0   0   0   0   0]\n",
      " [  0   0   0   0   0   0   0   0   0   0   0   0   0   0   0   0   0   0\n",
      "    0   0   0   0   0   0   0   0   0   0]\n",
      " [  0   0   0   0   0   0   0   0   0   0   0   0   0   0   0   0   0   0\n",
      "    0   0   0   0   0   0   0   0   0   0]\n",
      " [  0   0   0   0   0   0   0   0   0   0   0   0   0   0   0   0   0   0\n",
      "    0   0   0   0   0   0   0   0   0   0]\n",
      " [  0   0   0   0   0   0   0   0   0   0   0   0   0   0   0   0   0   0\n",
      "    0   0   0   0   0   0   0   0   0   0]\n",
      " [  0   0   0   0   0   0  84 185 159 151  60  36   0   0   0   0   0   0\n",
      "    0   0   0   0   0   0   0   0   0   0]\n",
      " [  0   0   0   0   0   0 222 254 254 254 254 241 198 198 198 198 198 198\n",
      "  198 198 170  52   0   0   0   0   0   0]\n",
      " [  0   0   0   0   0   0  67 114  72 114 163 227 254 225 254 254 254 250\n",
      "  229 254 254 140   0   0   0   0   0   0]\n",
      " [  0   0   0   0   0   0   0   0   0   0   0  17  66  14  67  67  67  59\n",
      "   21 236 254 106   0   0   0   0   0   0]\n",
      " [  0   0   0   0   0   0   0   0   0   0   0   0   0   0   0   0   0   0\n",
      "   83 253 209  18   0   0   0   0   0   0]\n",
      " [  0   0   0   0   0   0   0   0   0   0   0   0   0   0   0   0   0  22\n",
      "  233 255  83   0   0   0   0   0   0   0]\n",
      " [  0   0   0   0   0   0   0   0   0   0   0   0   0   0   0   0   0 129\n",
      "  254 238  44   0   0   0   0   0   0   0]\n",
      " [  0   0   0   0   0   0   0   0   0   0   0   0   0   0   0   0  59 249\n",
      "  254  62   0   0   0   0   0   0   0   0]\n",
      " [  0   0   0   0   0   0   0   0   0   0   0   0   0   0   0   0 133 254\n",
      "  187   5   0   0   0   0   0   0   0   0]\n",
      " [  0   0   0   0   0   0   0   0   0   0   0   0   0   0   0   9 205 248\n",
      "   58   0   0   0   0   0   0   0   0   0]\n",
      " [  0   0   0   0   0   0   0   0   0   0   0   0   0   0   0 126 254 182\n",
      "    0   0   0   0   0   0   0   0   0   0]\n",
      " [  0   0   0   0   0   0   0   0   0   0   0   0   0   0  75 251 240  57\n",
      "    0   0   0   0   0   0   0   0   0   0]\n",
      " [  0   0   0   0   0   0   0   0   0   0   0   0   0  19 221 254 166   0\n",
      "    0   0   0   0   0   0   0   0   0   0]\n",
      " [  0   0   0   0   0   0   0   0   0   0   0   0   3 203 254 219  35   0\n",
      "    0   0   0   0   0   0   0   0   0   0]\n",
      " [  0   0   0   0   0   0   0   0   0   0   0   0  38 254 254  77   0   0\n",
      "    0   0   0   0   0   0   0   0   0   0]\n",
      " [  0   0   0   0   0   0   0   0   0   0   0  31 224 254 115   1   0   0\n",
      "    0   0   0   0   0   0   0   0   0   0]\n",
      " [  0   0   0   0   0   0   0   0   0   0   0 133 254 254  52   0   0   0\n",
      "    0   0   0   0   0   0   0   0   0   0]\n",
      " [  0   0   0   0   0   0   0   0   0   0  61 242 254 254  52   0   0   0\n",
      "    0   0   0   0   0   0   0   0   0   0]\n",
      " [  0   0   0   0   0   0   0   0   0   0 121 254 254 219  40   0   0   0\n",
      "    0   0   0   0   0   0   0   0   0   0]\n",
      " [  0   0   0   0   0   0   0   0   0   0 121 254 207  18   0   0   0   0\n",
      "    0   0   0   0   0   0   0   0   0   0]\n",
      " [  0   0   0   0   0   0   0   0   0   0   0   0   0   0   0   0   0   0\n",
      "    0   0   0   0   0   0   0   0   0   0]]\n"
     ]
    }
   ],
   "source": [
    "nsamples, width, height = X_train.shape\n",
    "nfeatures = width * height\n",
    "\n",
    "print(X_test[0])"
   ]
  },
  {
   "cell_type": "markdown",
   "metadata": {},
   "source": [
    "Images are just matrices, as you can see.\n",
    "Matplotlib has two functions to plot matrices - `matshow` and `imshow`, where the main difference is that `imshow` is designed for images and does interpolation."
   ]
  },
  {
   "cell_type": "code",
   "execution_count": 4,
   "metadata": {
    "scrolled": true
   },
   "outputs": [
    {
     "data": {
      "image/png": "[encoded data removed]",
      "text/plain": [
       "<Figure size 432x288 with 1 Axes>"
      ]
     },
     "metadata": {
      "image/png": {
       "height": 240,
       "width": 240
      }
     },
     "output_type": "display_data"
    }
   ],
   "source": [
    "def display_image(im):\n",
    "    plt.imshow(im, cmap='gray_r')\n",
    "    plt.xticks([])\n",
    "    plt.yticks([])\n",
    "    \n",
    "display_image(X_test[50, :, :])"
   ]
  },
  {
   "cell_type": "markdown",
   "metadata": {},
   "source": [
    "# Multinomial logistic regression\n",
    "\n",
    "The target labels are encoded as a nubmer `n` between 0 and 9:"
   ]
  },
  {
   "cell_type": "code",
   "execution_count": 5,
   "metadata": {},
   "outputs": [
    {
     "data": {
      "text/plain": [
       "array([0, 1, 2, 3, 4, 5, 6, 7, 8, 9], dtype=uint8)"
      ]
     },
     "execution_count": 5,
     "metadata": {},
     "output_type": "execute_result"
    }
   ],
   "source": [
    "np.unique(Y_train)"
   ]
  },
  {
   "cell_type": "markdown",
   "metadata": {},
   "source": [
    "But these are categories, not really numbers. \n",
    "We know how to do logistic regression for two categories using a single boolean, and the extension of this idea to $n>2$ categories is called [*multinomial logistic regression*](https://en.wikipedia.org/wiki/Multinomial_logistic_regression) or *softmax regression* (not *multiple*, which means multiple features).\n",
    "In this framework, we try to predict the log odds ratio $z_k$ that a specific sample or example (a set of feature values $x$) is from category $k$ out of $n$ categories.\n",
    "So instead of each $x_j$ affecting just a single $z$ via a coefficient $a_j$, we have each $x_j$ affecting each log-odds $z_k$ via a coefficient $a_{k,j}$\n",
    "\n",
    "$$\n",
    "z_{k} = \\sum_{j=1}^m{a_{k,j} x_j}\n",
    "$$\n",
    "\n",
    "If we take the n-by-m matrix $\\mathbf{W}$ to have the entries $a_{k,j}$ at row $k$ and column $j$, and $\\mathbf{x}$ to be the feautres vector in which $x_{j}$ is the $j$-th feature of the sample, then we can write the same equation using matrix multiplication\n",
    "\n",
    "$$\n",
    "\\mathbf{z} = \\mathbf{W}\\mathbf{x}\n",
    "$$\n",
    "\n",
    "The probability that the sample is from category $k$ is the result of the [*softmax function*](https://en.wikipedia.org/wiki/Softmax_function), an extension of the logistic function for multiple values\n",
    "\n",
    "$$\n",
    "\\widehat y_k = P(y=k \\mid \\mathbf{x}) = \\frac{e^{z_k}}{\\sum_{j=1}^n{e^{z_j}}}\n",
    "$$\n",
    "\n",
    "Note that now $y$, the true label, has to be converted to a vector $\\mathbf{y}$ of length $n$ with 1 in one of the positions and 0 everywhere else, so that it would be comparable to $\\mathbf{\\widehat y}$ which is a probability vector that we get from the log-odds vector $\\mathbf{z}$.\n",
    "The conversion of $y$ from a number between $0$ and $n$ to a vector of length $n$ is called [*one-hot encoding*](https://en.wikipedia.org/wiki/One-hot).\n",
    "Let's write a function for this conversion:"
   ]
  },
  {
   "cell_type": "code",
   "execution_count": 6,
   "metadata": {},
   "outputs": [],
   "source": [
    "def onehot(labels):\n",
    "    \"\"\"0 -> [1,0,0,...,0]\n",
    "       1 -> [0,1,0,...,0]\n",
    "       9 -> [0,0,...,0,1]\n",
    "    \"\"\"\n",
    "    nsamples = len(labels)\n",
    "    Y = np.zeros((nsamples, len(np.unique(labels))))\n",
    "    Y[np.arange(nsamples), labels] = 1\n",
    "    return Y"
   ]
  },
  {
   "cell_type": "markdown",
   "metadata": {},
   "source": [
    "And apply it to our target data:"
   ]
  },
  {
   "cell_type": "code",
   "execution_count": 7,
   "metadata": {},
   "outputs": [],
   "source": [
    "Y_train = onehot(Y_train)\n",
    "Y_test = onehot(Y_test)\n",
    "ncats = Y_test.shape[1]"
   ]
  },
  {
   "cell_type": "markdown",
   "metadata": {},
   "source": [
    "Note that we could also use `keras.utils.to_categorical` to do the same job.\n",
    "\n",
    "We can use `ipywidgets.interact` (install with `conda install ipywidgets`) to add a slider that allows us to browse through the images.\n",
    "The [ipywidgets](http://ipywidgets.readthedocs.io) pacakge has many other widget controls that allow you to interact with the notebook and create small GUI and dashboards. There are also other projects for developing [dashboards](http://jupyter-dashboards-layout.readthedocs.io/en/latest/) and [RESTful servers](http://jupyter-kernel-gateway.readthedocs.io/en/latest/) in the notebook."
   ]
  },
  {
   "cell_type": "code",
   "execution_count": 8,
   "metadata": {},
   "outputs": [
    {
     "data": {
      "application/vnd.jupyter.widget-view+json": {
       "model_id": "764ec0ca275d49fab4b7da0d90ea11f7",
       "version_major": 2,
       "version_minor": 0
      },
      "text/plain": [
       "interactive(children=(IntSlider(value=0, description='idx', max=0, step=59999), Output()), _dom_classes=('widg…"
      ]
     },
     "metadata": {},
     "output_type": "display_data"
    }
   ],
   "source": [
    "@interact(idx=(0, 0, X_train.shape[0]-1))\n",
    "def browse_train_images(idx):\n",
    "    display_image(X_train[idx, :, :])\n",
    "    print(Y_train[idx].argmax())\n",
    "    print(Y_train[idx].astype(int))"
   ]
  },
  {
   "cell_type": "markdown",
   "metadata": {},
   "source": [
    "Another issue is that our linear model can't handle 2D arrays (images) so we have to reshape our `X`s so that they will be of shape `(nsamples, nfeatures)`."
   ]
  },
  {
   "cell_type": "code",
   "execution_count": 9,
   "metadata": {},
   "outputs": [],
   "source": [
    "X_train = X_train.reshape(-1, 28*28)\n",
    "X_test = X_test.reshape(-1, 28*28)"
   ]
  },
  {
   "cell_type": "markdown",
   "metadata": {},
   "source": [
    "So Let's start with the multinomial logistic or softmax model.\n",
    "The model is specified by\n",
    "\n",
    "$$\n",
    "\\mathbf{\\widehat y} = softmax(\\mathbf{W} \\mathbf{x})\n",
    "$$\n",
    "\n",
    "where $\\widehat y_k$ is the predicted probability of the sample being in class $k$ just as with the logistic model (here $(\\mathbf{W} \\mathbf{x})_k$ is the log-odds for the sample being vs. not being in class $k$).\n",
    "\n",
    "Let's write a function that creates $\\mathbf{W}$ and initilize it to some random values; the specific random distribution we chose is called [*Glorot uniform*](http://proceedings.mlr.press/v9/glorot10a/glorot10a.pdf) and is commonly used in deep learning algorithms."
   ]
  },
  {
   "cell_type": "code",
   "execution_count": 10,
   "metadata": {},
   "outputs": [],
   "source": [
    "def random_matrix(ninputs, noutputs):\n",
    "    boundary = np.sqrt(6 / (ninputs + noutputs))\n",
    "    return np.random.uniform(-boundary, boundary, size=(ninputs, noutputs))"
   ]
  },
  {
   "cell_type": "markdown",
   "metadata": {},
   "source": [
    "We now write the softmax function.\n",
    "We change it a bit to avoid numerical issues of overflow by substracting the largest $z_k$ from the other $z_j$s, so that we deal with exponents of negative numbers, which are easier to compute with high precision.\n",
    "\n",
    "$$\n",
    "z_M = max_k{z_k},\n",
    "$$\n",
    "$$\n",
    "\\frac{e^{z_k}}{\\sum_{j=1}^n{e^{z_j}}} = \\frac{e^{z_k - z_M}}{\\sum_{j=1}^n{e^{z_j - z_M}}}\n",
    "$$\n",
    "\n",
    "We also write the function so that it would work on a matrix in which each rows are samples and columns are categories, so `max` and `sum` are taken over rows (`axis=1`).\n",
    "`keepdims` prevents the aggregation matrices from reducing the number of dimensions which would screw our calculations later on."
   ]
  },
  {
   "cell_type": "code",
   "execution_count": 11,
   "metadata": {},
   "outputs": [],
   "source": [
    "def softmax(x):\n",
    "    expx = np.exp(x - x.max(axis=1, keepdims=True))\n",
    "    return expx / expx.sum(axis=1, keepdims=True)"
   ]
  },
  {
   "cell_type": "markdown",
   "metadata": {},
   "source": [
    "# Exercise: predict\n",
    "\n",
    "Implement a prediction function, that accepts an array `W` and array `X` and outputs an array `Yhat`.\n",
    "For each row in `X` have a row in `Yhat` with 10 elements corresponding to the probabilities for that row being in each of the 10 categories (digits)\n",
    "\n",
    "Tip: The `@` operator performs matrix multiplication in Python."
   ]
  },
  {
   "cell_type": "code",
   "execution_count": 12,
   "metadata": {},
   "outputs": [],
   "source": [
    "def predict(W, X):\n",
    "    # Your code here\n",
    "    return np.ones(10)/10"
   ]
  },
  {
   "cell_type": "code",
   "execution_count": 13,
   "metadata": {},
   "outputs": [
    {
     "name": "stdout",
     "output_type": "stream",
     "text": [
      "truth: 7\n",
      "prediction: 9\n"
     ]
    }
   ],
   "source": [
    "%run ../solutions/softmax-model.py\n",
    "W = random_matrix(nfeatures, ncats)\n",
    "yhat = predict(W, X_test[0,:])\n",
    "print('truth:', Y_test[0,:].argmax())\n",
    "print('prediction:', yhat.argmax())"
   ]
  },
  {
   "cell_type": "markdown",
   "metadata": {},
   "source": [
    "# Cross entropy and accuracy\n",
    "\n",
    "The softmax model uses the same cross entropy function as the logistic model, but with an additional step of averaging not just over samples but also over categories."
   ]
  },
  {
   "cell_type": "code",
   "execution_count": 14,
   "metadata": {},
   "outputs": [],
   "source": [
    "def cross_entropy(Yhat, Y):\n",
    "    ylogy = Y * np.log(Yhat)\n",
    "    return -ylogy.mean()"
   ]
  },
  {
   "cell_type": "markdown",
   "metadata": {},
   "source": [
    "Accuracy is calculated by comparing the `argmax` of $\\mathbf{y}$, the position at which there is a `1` which gives the correct label (so basically reversing the one-hot encoding...), and the argmax of $\\mathbf{\\widehat y}$, which is the position or category with the highest probability. The `argmax` is taken over rows - samples - using `axis=1`.\n",
    "\n",
    "Here, the `==` opertor returns an array of booleans, which are sub-types of integers, and `mean` calculates their average, which is the fraction of samples with the correct prediction."
   ]
  },
  {
   "cell_type": "code",
   "execution_count": 15,
   "metadata": {},
   "outputs": [],
   "source": [
    "def accuracy(Yhat, Y):\n",
    "    return (Yhat.argmax(axis=1) == Y.argmax(axis=1)).mean()"
   ]
  },
  {
   "cell_type": "code",
   "execution_count": 18,
   "metadata": {},
   "outputs": [
    {
     "name": "stdout",
     "output_type": "stream",
     "text": [
      "Accuracy: 0.0906\n"
     ]
    }
   ],
   "source": [
    "W = random_matrix(nfeatures, ncats)\n",
    "t = 0\n",
    "print(\"Accuracy:\", accuracy(predict(W, X_test), Y_test))"
   ]
  },
  {
   "cell_type": "markdown",
   "metadata": {},
   "source": [
    "This seems about right, as a random model ($\\mathbf{W}$) should be expected to be correct at about 10% of the test samples - We didn't fit the model yet!"
   ]
  },
  {
   "cell_type": "markdown",
   "metadata": {},
   "source": [
    "# Gradient descent\n",
    "\n",
    "Let's fit the model now.\n",
    "First we write the function that calculates the gradient.\n",
    "This is similar to gradient calculation we wrote for logistic regression, but there is some difference.\n",
    "\n",
    "With [logistic regression](solutions/logistic-model.py) we effectively had the following code, with $\\mathbf{X}$ a matrix with rows for samples and columns for features, $\\mathbf{Y}$ a vector with one entry per sample, and $\\mathbf{W}$ a vector with one entry per feature.\n",
    "\n",
    "```py\n",
    "def gradient(X, Y, W):\n",
    "    Yhat = expit((X * W).sum())\n",
    "    δ = Yhat - Y\n",
    "    dW = X.T @ δ / nsamples\n",
    "    return dW\n",
    "```"
   ]
  },
  {
   "cell_type": "markdown",
   "metadata": {},
   "source": [
    "This worked well because \n",
    "`X` was 2D `(nsamples, nfeatures)`, `W` was 1D array `(nfeatures)` and `Y` was 1D `(nsamples)`.\n",
    "Multiplying `X * W` caused *broadcasting*, such that `W` was automatically reshaped to `(1, nfeatures)` and then to `(nsamples, nfeatures)`. Then the multiplycation worked elementwise $\\mathbf{X}_{k,j} \\cdot \\mathbf{W}_{k,j}$.\n",
    "\n",
    "This wouldn't work now because `X` is 2D with shape `(nsamples, nfeatures)`, `W` is 2D with shape `(nfeatures, ncats)` and `Y` and `Yhat` are 2D with shape `(nsamples, ncats)`.\n",
    "So elementwise multiplycation of `X * W` doesn't have a meaning and cannot be broadcasted.\n",
    "\n",
    "However, if we use matrix multiplication then `X @ W` is 2D `(nsamples, ncats)` as we require from `Yhat` (`expit` doesn't change the shape as it works elementwise).\n",
    "\n",
    "The matrix multiplication of `X` and `δ` works fine, as broadcasting works just as we want it to, as long as we take the transpose of `X`.\n",
    "\n",
    "After multiplication we average over the first axis (`nsamples`) so that we get a 2D `(nfeatures, ncats)` array, the same shape as `W`.\n",
    "\n",
    "This clever design is worth it, because in Python *no loops = efficeint computation*."
   ]
  },
  {
   "cell_type": "code",
   "execution_count": 19,
   "metadata": {},
   "outputs": [],
   "source": [
    "def gradient(W, X, Y):\n",
    "    if X.ndim == 1: \n",
    "        # if we got a single sample, so X is 1D we convert X to 2D with just one row\n",
    "        # to be consistent with cases in which we get multiple samples (rows)\n",
    "        X = np.expand_dims(X, 0)\n",
    "    nsamples = X.shape[0]\n",
    "    assert Y.shape[0] == nsamples, \"First dimension of X and Y must match\"\n",
    "    # forward\n",
    "    Z = X @ W\n",
    "    Yhat = softmax(Z)    \n",
    "    # backward    \n",
    "    δ = Yhat - Y\n",
    "    dW = X.T @ δ / nsamples\n",
    "\n",
    "    assert dW.shape == W.shape, (dW.shape, W.shape)\n",
    "    return dW"
   ]
  },
  {
   "cell_type": "markdown",
   "metadata": {},
   "source": [
    "# Training\n",
    "\n",
    "We encapsulate the gradient descent training process in a `trainer` class.\n",
    "At every training step, the trainer calculates the gradients and updates the coeffieint matrix $\\mathbf{W}$. It returns the number of iterations already performed.\n",
    "\n",
    "This `trainer` doesn't use all the images at each update but rather just a batch of 50 images.\n",
    "This is called [stochastic gradient descent](https://en.wikipedia.org/wiki/Stochastic_gradient_descent) because we try to estimate the gradient from a sample of the data rather the entire data.\n",
    "It works well because (i) it's more efficeint in terms of memory to use 50 images at a time; and (ii) it helps to prevent over-fitting and escaping from local minima (of the cross entropy function) because at each stage we use a different set of images."
   ]
  },
  {
   "cell_type": "code",
   "execution_count": 26,
   "metadata": {},
   "outputs": [],
   "source": [
    "class Trainer:\n",
    "    def __init__(self, X, Y, batch_size=50, η=0.001):\n",
    "        self.X = X\n",
    "        self.Y = Y\n",
    "        self.epochs = 0\n",
    "        self.batches = 0\n",
    "        self.batch_size = batch_size\n",
    "        self.η = η\n",
    "        self.nsamples = X.shape[0]\n",
    "\n",
    "        \n",
    "    def train(self, W):\n",
    "        self.batches += 1\n",
    "        self.epochs = self.batches * self.batch_size // self.nsamples\n",
    "\n",
    "        # get next batch\n",
    "        start = (self.batches * self.batch_size) % self.nsamples\n",
    "        stop = start + self.batch_size\n",
    "        batch_idx = range(start, stop)\n",
    "        X_, Y_ = self.X[batch_idx, :], self.Y[batch_idx, :]\n",
    "        \n",
    "        # calculate gradients\n",
    "        dW = gradient(W, X_, Y_)\n",
    "        \n",
    "        # calculate updates\n",
    "        ΔW = -self.η * dW\n",
    "        \n",
    "        # apply updates in place\n",
    "        W += ΔW\n",
    "        \n",
    "        # print once every epoch\n",
    "        if self.batches * self.batch_size % self.nsamples == 0:\n",
    "            acc = accuracy(predict(W, X_test), Y_test)\n",
    "            print(\"Epoch {}, test accuracy: {}\".format(self.epochs, acc))"
   ]
  },
  {
   "cell_type": "markdown",
   "metadata": {},
   "source": [
    "We have 60,000 images, and work with batches of 50, so it takes 1,200 batches to go over the entire dataset.\n",
    "This is called an _epoch_.\n",
    "Let's train for 10 epochs."
   ]
  },
  {
   "cell_type": "code",
   "execution_count": 29,
   "metadata": {},
   "outputs": [
    {
     "name": "stdout",
     "output_type": "stream",
     "text": [
      "Accuracy: 0.0679\n"
     ]
    }
   ],
   "source": [
    "W = random_matrix(nfeatures, ncats)\n",
    "t = 0\n",
    "print(\"Accuracy:\", accuracy(predict(W, X_test), Y_test))"
   ]
  },
  {
   "cell_type": "code",
   "execution_count": 30,
   "metadata": {},
   "outputs": [
    {
     "name": "stdout",
     "output_type": "stream",
     "text": [
      "Epoch 1, test accuracy: 0.8507\n",
      "Epoch 2, test accuracy: 0.8599\n",
      "Epoch 3, test accuracy: 0.854\n",
      "Epoch 4, test accuracy: 0.8659\n",
      "Epoch 5, test accuracy: 0.88\n",
      "Epoch 6, test accuracy: 0.8725\n",
      "Epoch 7, test accuracy: 0.8823\n",
      "Epoch 8, test accuracy: 0.8462\n",
      "Epoch 9, test accuracy: 0.8658\n",
      "Epoch 10, test accuracy: 0.8665\n"
     ]
    }
   ],
   "source": [
    "trainer = Trainer(X_train, Y_train)\n",
    "while trainer.epochs < 10:\n",
    "    trainer.train(W)"
   ]
  },
  {
   "cell_type": "markdown",
   "metadata": {},
   "source": [
    "Nice, with 10 epochs we get an accuracy of 86%-89%."
   ]
  },
  {
   "cell_type": "code",
   "execution_count": 31,
   "metadata": {},
   "outputs": [],
   "source": [
    "def display_prediction(idx):\n",
    "    print(predict(W, X_test[idx, :]).argmax())\n",
    "    return display_image(X_test[idx].reshape(28, 28))"
   ]
  },
  {
   "cell_type": "code",
   "execution_count": 32,
   "metadata": {},
   "outputs": [
    {
     "name": "stdout",
     "output_type": "stream",
     "text": [
      "0\n"
     ]
    },
    {
     "data": {
      "image/png": "[encoded data removed]",
      "text/plain": [
       "<Figure size 432x288 with 1 Axes>"
      ]
     },
     "metadata": {
      "image/png": {
       "height": 240,
       "width": 240
      }
     },
     "output_type": "display_data"
    }
   ],
   "source": [
    "display_prediction(55)"
   ]
  },
  {
   "cell_type": "markdown",
   "metadata": {},
   "source": [
    "# How does it work?\n",
    "\n",
    "Let's look at the values of `W`, where blue is for positive values and red for negative values:"
   ]
  },
  {
   "cell_type": "code",
   "execution_count": 33,
   "metadata": {},
   "outputs": [
    {
     "data": {
      "image/png": "[encoded data removed]",
      "text/plain": [
       "<Figure size 864x432 with 10 Axes>"
      ]
     },
     "metadata": {
      "image/png": {
       "height": 391,
       "width": 847
      }
     },
     "output_type": "display_data"
    }
   ],
   "source": [
    "import matplotlib as mpl\n",
    "\n",
    "W_ = W.reshape(width, height, ncats)\n",
    "\n",
    "fig, axes = plt.subplots(2, 5, figsize=(12, 6), sharex=True, sharey=True)\n",
    "for i, ax in enumerate(axes.flat):\n",
    "    W_slice = W_[:, :, i]\n",
    "    im = ax.imshow(np.exp(W_slice), cmap='RdBu', vmin=0.6, vmax=1.4)\n",
    "    ax.set_title(i)\n",
    "ax.set(xticks=[], yticks=[])\n",
    "fig.tight_layout()\n",
    "sns.despine(bottom=True, left=True)"
   ]
  },
  {
   "cell_type": "markdown",
   "metadata": {},
   "source": [
    "So for each digit we got a map of which pixels increase (blue) the log-odds when they are black and which decrease  (red) the log-odds when they are black."
   ]
  },
  {
   "cell_type": "markdown",
   "metadata": {},
   "source": [
    "# Saving the fitted model\n",
    "\n",
    "NumPy has special pickling functions for arrays, and in this case all the model information is in the `W` array.\n",
    "\n",
    "I like to save it compressed to `.npz` but there are [other options]."
   ]
  },
  {
   "cell_type": "code",
   "execution_count": 34,
   "metadata": {},
   "outputs": [],
   "source": [
    "np.savez_compressed('../data/softmax_reg_model.npz', W=W)\n",
    "del W"
   ]
  },
  {
   "cell_type": "markdown",
   "metadata": {},
   "source": [
    "Loading is easy:"
   ]
  },
  {
   "cell_type": "code",
   "execution_count": 35,
   "metadata": {},
   "outputs": [],
   "source": [
    "with np.load('../data/softmax_reg_model.npz') as npz:\n",
    "    W = npz['W']"
   ]
  },
  {
   "cell_type": "markdown",
   "metadata": {},
   "source": [
    "and we can use it again."
   ]
  },
  {
   "cell_type": "code",
   "execution_count": 36,
   "metadata": {},
   "outputs": [
    {
     "name": "stdout",
     "output_type": "stream",
     "text": [
      "5\n"
     ]
    },
    {
     "data": {
      "image/png": "[encoded data removed]",
      "text/plain": [
       "<Figure size 432x288 with 1 Axes>"
      ]
     },
     "metadata": {
      "image/png": {
       "height": 240,
       "width": 240
      }
     },
     "output_type": "display_data"
    }
   ],
   "source": [
    "display_prediction(23)"
   ]
  },
  {
   "cell_type": "markdown",
   "metadata": {},
   "source": [
    "# Exercise: scikit-learn\n",
    "\n",
    "We can use [scikit-learn to fit a multinomial regression model](http://scikit-learn.org/stable/modules/generated/sklearn.linear_model.LogisticRegression.html#sklearn.linear_model.LogisticRegression.fit) to the data.\n",
    "\n",
    "Implement the following function that trains a softmax model on the data using scikit-leanr's `LogisticRegression` class.\n",
    "\n",
    "Notes:\n",
    "- scikit-learn does the one-hot encoding on its own so it expects `Y` to be 1D.\n",
    "- We can use the `n_jobs` argument to run the fitting in parallel (think about how the fitting process can be parallelized across threads/cpus/machines). This is useful because we have lots of images.\n",
    "- We can change which solver is used (different approaches to gradient descent).\n",
    "- Check the role of the `multi_class` argument."
   ]
  },
  {
   "cell_type": "code",
   "execution_count": 37,
   "metadata": {},
   "outputs": [],
   "source": [
    "def sklearn_softmax_model(X, Y):\n",
    "    pass"
   ]
  },
  {
   "cell_type": "code",
   "execution_count": 10,
   "metadata": {},
   "outputs": [
    {
     "data": {
      "text/plain": [
       "<Figure size 432x288 with 0 Axes>"
      ]
     },
     "metadata": {},
     "output_type": "display_data"
    }
   ],
   "source": [
    "%run ../solutions/softmax-model.py\n",
    "model = sklearn_softmax_model(X_train, Y_train)"
   ]
  },
  {
   "cell_type": "code",
   "execution_count": 11,
   "metadata": {},
   "outputs": [
    {
     "data": {
      "text/plain": [
       "0.9243"
      ]
     },
     "execution_count": 11,
     "metadata": {},
     "output_type": "execute_result"
    }
   ],
   "source": [
    "model.score(X_test, Y_test.argmax(axis=1))"
   ]
  },
  {
   "cell_type": "markdown",
   "metadata": {},
   "source": [
    "# Problem\n",
    "\n",
    "The major assumption of the softmax model is the linear relationship between the features $x_j$ and the log-odds $z_k$, which translates to a logistic relationship between the features and the probabilityies $\\widehat y_k$.\n",
    "\n",
    "But what can we do if the relationship is not linear, or worse, not even monotonic?"
   ]
  },
  {
   "cell_type": "markdown",
   "metadata": {},
   "source": [
    "The neural network solution: instead of just looking for the values of $W$ that would make the model fit the data, we can use a stack a bunch of linear models:\n",
    "$$\n",
    "\\mathbf{X_2} = f_1(\\mathbf{X_1} \\mathbf{W_1}) \\\\\n",
    "\\mathbf{X_3} = f_2(\\mathbf{X_2} \\mathbf{W_2}) \\\\\n",
    "\\ldots \\\\\n",
    "\\mathbf{\\widehat Y} = softmax(\\mathbf{X_n} \\mathbf{W_n})\n",
    "$$\n",
    "and fit this model to the data by looking for $\\mathbf{W_1}, \\ldots, \\mathbf{W_n}$ that give us a good prediction.\n",
    "\n",
    "Note that all of the mathematical details are the same: we can still use gradient descent to fit the model, and we can still calculate the gradients using the chain rule.\n",
    "The additional power of the model comes from adding multiple *layers* of linear models; the *simplicity* fo the model is maintained because we are adding linear models, which we already know how to handle, rather than adding arbitray models.\n",
    "Interestingly, if we add just a bit of non-linerity (we'll see what that means) we can approximate a very wide range of relationships between $x$ and $P(y=k)$, without engineering features on our own.\n",
    "\n",
    "The downside is that we are fitting many more *model parameters* ($W_k$), which involves longer computation and requires more sophisticated strategies for gradient descent.\n",
    "These issues are the subject of [intense research](https://arxiv.org/list/cs.NE/recent) both in Academia and in Industry.\n",
    "\n",
    "So this was the motivation for our next session on [feed forward networks](FFN.ipynb)."
   ]
  },
  {
   "cell_type": "markdown",
   "metadata": {},
   "source": [
    "# Colophon\n",
    "This notebook was written by [Yoav Ram](http://python.yoavram.com) and is part of the [_Data Science with Python_](https://python.yoavram.com/Deep4Devs) workshops.\n",
    "\n",
    "The notebook was written using [Python](http://python.org/) 3.6.3, [IPython](http://ipython.org/) 6.2.1, [Jupyter](http://jupyter.org) 5.1.0.\n",
    "\n",
    "This work is licensed under a CC BY-NC-SA 4.0 International License.\n",
    "\n",
    "![Python logo](https://www.python.org/static/community_logos/python-logo.png)"
   ]
  }
 ],
 "metadata": {
  "kernelspec": {
   "display_name": "Python [conda env:DataSciPy]",
   "language": "python",
   "name": "conda-env-DataSciPy-py"
  },
  "language_info": {
   "codemirror_mode": {
    "name": "ipython",
    "version": 3
   },
   "file_extension": ".py",
   "mimetype": "text/x-python",
   "name": "python",
   "nbconvert_exporter": "python",
   "pygments_lexer": "ipython3",
   "version": "3.6.7"
  }
 },
 "nbformat": 4,
 "nbformat_minor": 4
}
