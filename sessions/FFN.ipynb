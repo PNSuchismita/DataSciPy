{
 "cells": [
  {
   "cell_type": "markdown",
   "metadata": {},
   "source": [
    "![Py4Eng](img/logo.png)\n",
    "\n",
    "# Feed Forward Network\n",
    "## Yoav Ram\n",
    "\n",
    "In this session we will understand:\n",
    "- what feed forward networks are and how they work,\n",
    "- how to back-propagate gradients in a multi-layer network\n",
    "- how to efficiently fit multi-layer networks using adaptive gradient descent techniques\n",
    "- how to feed backwards to generate instead of classify"
   ]
  },
  {
   "cell_type": "code",
   "execution_count": 8,
   "metadata": {},
   "outputs": [],
   "source": [
    "%matplotlib inline\n",
    "import matplotlib.pyplot as plt\n",
    "import numpy as np\n",
    "import pandas as pd\n",
    "import scipy.optimize\n",
    "from scipy.special import expit\n",
    "import scipy.misc\n",
    "import seaborn as sns\n",
    "sns.set(\n",
    "    style='ticks'\n",
    ")\n",
    "from ipywidgets import interact # if this import fail, just continue without it"
   ]
  },
  {
   "cell_type": "markdown",
   "metadata": {},
   "source": [
    "We start by loading the MNIST digits data we used in the [softmax model session](softmax-model.ipynb)."
   ]
  },
  {
   "cell_type": "code",
   "execution_count": 9,
   "metadata": {},
   "outputs": [],
   "source": [
    "import keras\n",
    "(X_train, Y_train), (X_test, Y_test) = keras.datasets.mnist.load_data()"
   ]
  },
  {
   "cell_type": "code",
   "execution_count": 10,
   "metadata": {},
   "outputs": [],
   "source": [
    "nsamples, width, height = X_train.shape\n",
    "nfeatures = width * height\n",
    "# reshape and normalize to (0, 1)\n",
    "X_train = X_train.reshape(nsamples, nfeatures) / 255 \n",
    "X_test = X_test.reshape(-1, nfeatures) / 255"
   ]
  },
  {
   "cell_type": "code",
   "execution_count": 11,
   "metadata": {},
   "outputs": [],
   "source": [
    "# if we are already using keras, we can use it for one-hot encoding, too\n",
    "Y_train = keras.utils.to_categorical(Y_train)\n",
    "Y_test = keras.utils.to_categorical(Y_test)\n",
    "ncats = Y_test.shape[1]"
   ]
  },
  {
   "cell_type": "code",
   "execution_count": 12,
   "metadata": {},
   "outputs": [
    {
     "data": {
      "image/png": "[encoded data removed]",
      "text/plain": [
       "<Figure size 432x288 with 1 Axes>"
      ]
     },
     "metadata": {
      "image/png": {
       "height": 237,
       "width": 237
      }
     },
     "output_type": "display_data"
    }
   ],
   "source": [
    "def display_image(im):\n",
    "    plt.imshow(im.reshape((28, 28)), cmap='gray_r')\n",
    "    plt.xticks([])\n",
    "    plt.yticks([])\n",
    "    \n",
    "display_image(X_train[4])"
   ]
  },
  {
   "cell_type": "markdown",
   "metadata": {},
   "source": [
    "With softmax regression we got accuracy of ~87% (or even up to 92% if we run it longer, see the scikit-learn example).\n",
    "But we talked about the problems with logistic models and that it might be that the relationship between pixels and categories is not linear or even monotone.\n",
    "We also discussed a way to overcome this issue - polynomial features.\n",
    "\n",
    "Here we will use another solution - the layering or composition of several linear models.\n",
    "\n",
    "The idea is that for an input (features) $\\mathbf{X_1}$, the model we will use is:\n",
    "\n",
    "$$\n",
    "\\mathbf{X_2} = f_1(\\mathbf{X_1} \\cdot  \\mathbf{W_1}) \\\\\n",
    "\\mathbf{X_3} = f_2(\\mathbf{X_2} \\cdot  \\mathbf{W_2}) \\\\\n",
    "\\ldots \\\\\n",
    "\\mathbf{\\widehat Y} = f_{n}(\\mathbf{X_n})\n",
    "$$\n",
    "\n",
    "We will fit this model to the data by looking for $\\mathbf{W_1}, \\ldots, \\mathbf{W_n}$ that give us a good prediction.\n",
    "\n",
    "This kind of model is called a **feed forward network**."
   ]
  },
  {
   "cell_type": "markdown",
   "metadata": {},
   "source": [
    "# Two layers FFN\n",
    "\n",
    "We start with two layers - the readout layer is the softmax regression layer, and before that we will have a hidden layer that transforms the input features $\\mathbf{X_1}$ into complex features $\\mathbf{X_2}$: each feature in $\\mathbf{X_2}$ is a combination of all features in $\\mathbf{X_1}$.\n",
    "\n",
    "We already implemented these functions in the previous session:"
   ]
  },
  {
   "cell_type": "code",
   "execution_count": 13,
   "metadata": {},
   "outputs": [],
   "source": [
    "def random_matrix(ninputs, noutputs):\n",
    "    boundary = np.sqrt(6 / (ninputs + noutputs))\n",
    "    return np.random.uniform(-boundary, boundary, size=(ninputs, noutputs))\n",
    "\n",
    "def softmax(x):\n",
    "    expx = np.exp(x - x.max(axis=1, keepdims=True))\n",
    "    return expx / expx.sum(axis=1, keepdims=True)\n",
    "\n",
    "def accuracy(Yhat, Y):\n",
    "    return (Yhat.argmax(axis=1) == Y.argmax(axis=1)).mean()\n",
    "\n",
    "def cross_entropy(Yhat, Y):\n",
    "    ylogy = Y * np.log(Yhat)\n",
    "    return -ylogy.sum()"
   ]
  },
  {
   "cell_type": "markdown",
   "metadata": {},
   "source": [
    "# Exercise: ReLU\n",
    "The readout layer uses the softmax function $f_2(z)=softmax(z)$.\n",
    "What about $f_1(z)$?\n",
    "\n",
    "To add some non-linearity to the model, we want to use a non-linear function, usually called [*activation function*](https://en.wikipedia.org/wiki/Activation_function).\n",
    "For ease of use, we want a differentiable function that's easy and efficient to compute.\n",
    "\n",
    "There are several options we can use, and a common choise is the rectifier, or [*ReLU*](https://en.wikipedia.org/wiki/Rectifier_%28neural_networks%29) function:\n",
    "\n",
    "$$\n",
    "ReLU(x) = \\cases{x, & if x>0 \\\\ 0, & if x < 0}\n",
    "$$\n",
    "\n",
    "with a derivative\n",
    "\n",
    "$$\n",
    "ReLU'(x) = \\cases{1, & if x>0 \\\\ 0, & if x < 0}\n",
    "$$\n",
    "\n",
    "Implement these functions.\n",
    "\n",
    "**Reminder**\n",
    "- Edit cell by double clicking\n",
    "- Run cell by pressing _Shift+Enter_\n",
    "- Get autocompletion by pressing _Tab_\n",
    "- Get documentation by pressing _Shift+Tab_"
   ]
  },
  {
   "cell_type": "code",
   "execution_count": 14,
   "metadata": {},
   "outputs": [],
   "source": [
    "def ReLU(X):\n",
    "    return np.maximum(x, 0)\n",
    "\n",
    "def dReLU(X):\n",
    "    return (X > 0).astype(float)"
   ]
  },
  {
   "cell_type": "markdown",
   "metadata": {},
   "source": [
    "**Remember to remove the line starting with `%run...` otherwise you are running the official solution rather than yours.**"
   ]
  },
  {
   "cell_type": "code",
   "execution_count": 15,
   "metadata": {},
   "outputs": [
    {
     "data": {
      "text/plain": [
       "array([3.68548143, 0.        , 9.99110391, 4.56204203, 0.        ])"
      ]
     },
     "execution_count": 15,
     "metadata": {},
     "output_type": "execute_result"
    },
    {
     "data": {
      "text/plain": [
       "<Figure size 432x288 with 0 Axes>"
      ]
     },
     "metadata": {},
     "output_type": "display_data"
    }
   ],
   "source": [
    "%run -i ../solutions/FFN.py\n",
    "\n",
    "ReLU(np.random.uniform(-10, 10, 5))"
   ]
  },
  {
   "cell_type": "code",
   "execution_count": 16,
   "metadata": {},
   "outputs": [
    {
     "name": "stdout",
     "output_type": "stream",
     "text": [
      "[4.48387061 4.3825201  3.2253316  0.         0.94771922]\n",
      "[1. 1. 1. 0. 1.]\n"
     ]
    }
   ],
   "source": [
    "arr = np.random.uniform(-10, 10, 5)\n",
    "print(ReLU(arr))\n",
    "print(dReLU(arr))"
   ]
  },
  {
   "cell_type": "markdown",
   "metadata": {},
   "source": [
    "# Dropout\n",
    "\n",
    "A simple way to avoid overfitting is to use [*dropout*](https://www.cs.toronto.edu/~hinton/absps/JMLRdropout.pdf): randomly ignoring some elements of every layer during training (but not during prediction)."
   ]
  },
  {
   "cell_type": "code",
   "execution_count": 17,
   "metadata": {},
   "outputs": [],
   "source": [
    "def drop(X, keep_prob=1):\n",
    "    if keep_prob < 1:\n",
    "        X = X.copy() # we don't want to change X\n",
    "        keeps = np.random.rand(X.shape[1]) < keep_prob\n",
    "        # X.shape is (nsamples, nfeatures)\n",
    "        X[:, ~keeps] = 0 # ignore\n",
    "        X[:, keeps] *= (1/keep_prob) # normalize\n",
    "    return X"
   ]
  },
  {
   "cell_type": "markdown",
   "metadata": {},
   "source": [
    "# Feed Forward\n",
    "\n",
    "Next, we want to write a function that for given input $\\mathbf{X_1}$ calculates $\\mathbf{\\widehat Y}$.\n",
    "But we also want to get all the intermediate layers, not just the final layer (the output, result of the readout layer).\n",
    "The reason will become clear soon, when we write the back-propagation.\n",
    "\n",
    "Prediction is then done by taking the last layer."
   ]
  },
  {
   "cell_type": "code",
   "execution_count": 18,
   "metadata": {},
   "outputs": [],
   "source": [
    "def feed_forward(Ws, X, keep_prob=1):\n",
    "    X1 = X\n",
    "    W1, W2 = Ws\n",
    "    \n",
    "    # hidden layer\n",
    "    Z1 = X1 @ W1 \n",
    "    Z1 = drop(Z1, keep_prob=keep_prob)\n",
    "    X2 = ReLU(Z1) \n",
    "    \n",
    "    # readout layer\n",
    "    Z2 = X2 @ W2 \n",
    "    Yhat = softmax(Z2) \n",
    "    return [X1, Z1, X2, Z2, Yhat]\n",
    "\n",
    "def predict(Ws, X):\n",
    "    if X.ndim == 1:\n",
    "        X = X.reshape((1, -1))\n",
    "    return feed_forward(Ws, X, keep_prob=1)[-1]\n",
    "\n",
    "def display_prediction(idx):\n",
    "    prediction = predict(Ws, X_test[idx, :]).argmax()\n",
    "    print(prediction)\n",
    "    return display_image(X_test[idx])"
   ]
  },
  {
   "cell_type": "code",
   "execution_count": 19,
   "metadata": {},
   "outputs": [
    {
     "name": "stdout",
     "output_type": "stream",
     "text": [
      "1\n"
     ]
    },
    {
     "data": {
      "image/png": "[encoded data removed]",
      "text/plain": [
       "<Figure size 432x288 with 1 Axes>"
      ]
     },
     "metadata": {
      "image/png": {
       "height": 237,
       "width": 237
      }
     },
     "output_type": "display_data"
    }
   ],
   "source": [
    "nhidden = 100\n",
    "W1 = random_matrix(nfeatures, nhidden)\n",
    "W2 = random_matrix(nhidden, ncats)\n",
    "Ws = [W1, W2]\n",
    "\n",
    "display_prediction(0)"
   ]
  },
  {
   "cell_type": "markdown",
   "metadata": {},
   "source": [
    "# Exercise: feed-forward\n",
    "\n",
    "Rewrite `feed_forward` using a `for` loop so that it would work for any number of hidden layers."
   ]
  },
  {
   "cell_type": "code",
   "execution_count": 20,
   "metadata": {},
   "outputs": [],
   "source": [
    "def feed_forward(Ws, X, keep_prob=1):\n",
    "    pass"
   ]
  },
  {
   "cell_type": "code",
   "execution_count": 21,
   "metadata": {},
   "outputs": [
    {
     "name": "stdout",
     "output_type": "stream",
     "text": [
      "8\n"
     ]
    },
    {
     "data": {
      "image/png": "[encoded data removed]",
      "text/plain": [
       "<Figure size 432x288 with 1 Axes>"
      ]
     },
     "metadata": {
      "image/png": {
       "height": 237,
       "width": 237
      }
     },
     "output_type": "display_data"
    }
   ],
   "source": [
    "%run -i ../solutions/FFN.py\n",
    "\n",
    "nhidden = 100\n",
    "W1 = random_matrix(nfeatures, nhidden)\n",
    "W2 = random_matrix(nhidden, ncats)\n",
    "Ws = [W1, W2]\n",
    "\n",
    "display_prediction(0)"
   ]
  },
  {
   "cell_type": "markdown",
   "metadata": {},
   "source": [
    "# Back propagation\n",
    "\n",
    "We now arrive at the most complicated and important part: the calculation of the gradeints of the loss function with respect to the $\\mathbf{W_k}$ matrices - the model parameters, the weights of the network.\n",
    "\n",
    "Since we use the softmax function, the loss function is still the cross-entropy function $\\mathbf{J}(\\mathbf{W_1}, \\ldots, \\mathbf{W_n} \\mid \\mathbf{X_1}, \\mathbf{Y})$, the negative of the log-likelihood.\n",
    "\n",
    "We know how to do gradient descent, but we need to calculate the gradient.\n",
    "This seems at first very hard for a model as complex as:\n",
    "$$\n",
    "\\mathbf{Z_1} = \\mathbf{X_1} \\cdot  \\mathbf{W_1} \\\\\n",
    "\\mathbf{X_2} = f_1(\\mathbf{Z_1}) \\\\\n",
    "\\mathbf{Z_2} = \\mathbf{X_2} \\cdot \\mathbf{W_2} \\\\\n",
    "\\mathbf{X_3} = f_2(\\mathbf{Z_2}) \\\\\n",
    "\\ldots \\\\\n",
    "\\mathbf{\\widehat Y} = f_{n}(\\mathbf{Z_n}) \\\\\n",
    "\\mathbf{J} = - \\sum_{j=1}^{nsamples}{ \\sum_{k=1}^{ncats}{y_{j,k} \\log{\\widehat y_{j,k}}} }\n",
    "$$\n",
    "\n",
    "But we actually know how to calculate the gradient at each layer $\\frac{\\partial \\mathbf{X_k}}{\\partial \\mathbf{X_{k-1}}}$ so calculating the gradient with respect to any $\\mathbf{W_k}$ is just a matter of applying the chain rule as many times as we need.\n",
    "\n",
    "The idea is that we first calculate the loss function - **feed forward**.\n",
    "Then we apply the chain rule in reverse iteration to calculate the gradient of the loss function $\\mathbf{J}$ with respect to all $\\mathbf{W_k}$.\n",
    "Since the gradient at any layer is calculated as a function of the error measured in the previous layer, we essentially propagate the error backwards, thus the name for this algorithm - [**back propagation**](https://en.wikipedia.org/wiki/Backpropagation)."
   ]
  },
  {
   "cell_type": "markdown",
   "metadata": {},
   "source": [
    "To calculate $\\partial \\mathbf{J}/\\partial W_2$ we have the exact same calculation as in the [logistic](logistic-model.ipynb) or softmax model (makes sense as $\\mathbf{W_2}$ is the softmax layer)\n",
    "\n",
    "$$\n",
    "\\frac{\\partial \\mathbf{J}}{\\partial W_2} = \n",
    "\\frac{\\partial \\mathbf{J}}{\\partial \\widehat Y} \\cdot \\frac{\\partial \\widehat Y}{\\partial Z_2} \\cdot  \\frac{\\partial Z_2}{\\partial W_2}\n",
    "$$"
   ]
  },
  {
   "cell_type": "markdown",
   "metadata": {},
   "source": [
    "To calculate $\\partial \\mathbf{J}/\\partial \\mathbf{W_1}$ (which is a matrix with the same number of entries as $\\mathbf{W_1}$) we can use a similar but longer calculation as the readout layer:\n",
    "\n",
    "$$\n",
    "\\frac{\\partial \\mathbf{J}}{\\partial \\mathbf{W_1}} = \n",
    "\\frac{\\partial \\mathbf{J}}{\\partial \\mathbf{\\widehat Y}} \\cdot \\frac{\\partial \\mathbf{\\widehat Y}}{\\partial \\mathbf{Z_2}} \\cdot \\frac{\\partial \\mathbf{Z_2}}{\\partial \\mathbf{X_2}} \\cdot \\frac{\\partial \\mathbf{X_2}}{\\partial \\mathbf{Z_1}} \\cdot \\frac{\\partial \\mathbf{Z_1}}{\\partial \\mathbf{W_1}}\n",
    "$$\n",
    "\n",
    "Note that the first terms of this product were already calculated when calculating $\\frac{\\partial C}{\\partial \\mathbf{W_2}}$; the term \n",
    "\n",
    "$$\n",
    "\\delta_2 = \\frac{\\partial \\mathbf{J}}{\\partial \\mathbf{\\widehat Y}} \\cdot \\frac{\\partial \\mathbf{\\widehat Y}}{\\partial \\mathbf{Z_2}}\n",
    "$$\n",
    "\n",
    "is considered the error of the previous layer, and it is back-propagated to the next layer:\n",
    "\n",
    "$$\n",
    "\\frac{\\partial \\mathbf{J}}{\\partial \\mathbf{W_1}} = \n",
    "\\delta_2 \\cdot \\frac{\\partial \\mathbf{Z_2}}{\\partial \\mathbf{X_2}} \\cdot \\frac{\\partial \\mathbf{X_2}}{\\partial \\mathbf{Z_1}} \\cdot \\frac{\\partial \\mathbf{Z_1}}{\\partial \\mathbf{W_1}}\n",
    "$$"
   ]
  },
  {
   "cell_type": "markdown",
   "metadata": {},
   "source": [
    "These are three easy opeations:\n",
    "$$\n",
    "\\frac{\\partial \\mathbf{X_2}}{\\partial \\mathbf{Z_1}} = \\frac{\\partial ReLU{(\\mathbf{Z_1})}}{\\partial \\mathbf{Z_1}} = ReLU'(\\mathbf{Z_1}) \\\\\n",
    "\\frac{\\partial \\mathbf{Z_1}}{\\partial \\mathbf{W_1}}=\\frac{\\partial (\\mathbf{X_1} \\mathbf{W_1})}{\\partial \\mathbf{W_1}} = \\mathbf{X_1} \\\\\n",
    "\\frac{\\partial \\mathbf{Z_2}}{\\partial \\mathbf{X_2}} = \\frac{\\partial (\\mathbf{X_2} \\mathbf{W_2})}{\\partial \\mathbf{X_2}} = \\mathbf{W_2}\n",
    "$$\n",
    "\n",
    "In the next layer $\\delta_1$ is updated to \n",
    "$$\n",
    "\\delta_1 = \\delta_2 \\cdot \\frac{\\partial \\mathbf{Z_2}}{\\partial \\mathbf{X_2}} \\cdot \\frac{\\partial \\mathbf{X_2}}{\\partial \\mathbf{Z_1}} = \\delta_2 \\cdot W_2 \\cdot Relu'(Z_1),\n",
    "$$\n",
    "thus *propagating back* the error $\\delta$.\n",
    "\n",
    "Consider that in forwarding we use the matrix multiplication to activate each node as a weighted average of the previous nodes (the weights given by $\\mathbf{W_k}$). \n",
    "Back propagation can be considered the reverse operation.\n",
    "\n",
    "The actual operators used below are chosen to avoid loops (except the loop through the layers which is unavoiable) and to keep the correct dimensions - see the discussion in the [softmax model session](softmax-model.ipynb#Gradient-descent)."
   ]
  },
  {
   "cell_type": "code",
   "execution_count": 22,
   "metadata": {},
   "outputs": [],
   "source": [
    "def back_propagation(Ws, X, Y, keep_prob=1):\n",
    "    W1, W2 = Ws\n",
    "    X1, Z1, X2, Z2, Yhat = feed_forward(Ws, X, keep_prob=keep_prob)\n",
    "\n",
    "    # readout layer\n",
    "    δ2 = Yhat - Y # prediction error, dJ/dYhat * dYhat/dZ2 (-1, ncats)\n",
    "    dW2 = X2.T @ δ2 # dJ/dW2 = δ2 * dZ2/dX2 = δ2 * X2\n",
    "\n",
    "    # hidden layer\n",
    "    δ1 = (δ2 @ W2.T) * dReLU(Z1) # δ1 = dJ/dX_2 = δ2 * dZ2/dX2 * dX2/dZ1 = δ2 * W2 * ReLU(Z1)\n",
    "    dW1 = X1.T @ δ1 # dJ/dW1 = δ1 * dZ1/dW1 = δ1 * X1\n",
    "\n",
    "    gradients = [dW1, dW2]\n",
    "    # sanity checks\n",
    "    assert len(gradients) == len(Ws), (len(gradients), len(Ws))\n",
    "    for dW, W in zip(gradients, Ws):\n",
    "        assert dW.shape == W.shape, (dW.shape, W.shape)\n",
    "    return gradients"
   ]
  },
  {
   "cell_type": "code",
   "execution_count": 23,
   "metadata": {},
   "outputs": [
    {
     "data": {
      "image/png": "[encoded data removed]",
      "text/plain": [
       "<Figure size 1080x576 with 2 Axes>"
      ]
     },
     "metadata": {
      "image/png": {
       "height": 68,
       "width": 857
      }
     },
     "output_type": "display_data"
    }
   ],
   "source": [
    "nhidden = 100\n",
    "W1 = random_matrix(nfeatures, nhidden)\n",
    "W2 = random_matrix(nhidden, ncats)\n",
    "Ws = [W1, W2]\n",
    "\n",
    "X, Y = X_train[:5, :], Y_train[:5, :]\n",
    "\n",
    "dW1, dW2 = back_propagation(Ws, X, Y)\n",
    "fig, axes = plt.subplots(1, 2, figsize=(15, 8))\n",
    "axes[0].imshow(dW1.T, cmap='viridis')\n",
    "axes[1].imshow(dW2.T, cmap='viridis')\n",
    "axes[0].set(xticks=[], yticks=[])\n",
    "axes[1].set(xticks=[], yticks=[]);"
   ]
  },
  {
   "cell_type": "markdown",
   "metadata": {},
   "source": [
    "# Gradient checking\n",
    "\n",
    "Writing and implementing the gradient computation can be really hard.\n",
    "But there is a good way to sanity-check that we made the correct computation.\n",
    "\n",
    "Remember that the definition of a derivative is\n",
    "$$\n",
    "\\frac{d f}{d x}\\big(x\\big) = \\lim_{\\Delta \\to 0}{\\frac{f(x+\\Delta) - f(x-\\Delta)}{2\\Delta}}\n",
    "$$\n",
    "Therefore, we can compute the cross entropy at the params, then slightly change each parameter and compute the cross entropy again, and use these two computations as $f(x+\\Delta)$ and $f(x-\\Delta)$ where $x$ is the parameter we changed and $\\Delta$ is the slight change. \n",
    "Then we can compare $\\frac{f(x+\\Delta)-f(x-\\Delta)}{2\\Delta}$ to the gradient computed by back propagation and check that the difference is very small."
   ]
  },
  {
   "cell_type": "code",
   "execution_count": 18,
   "metadata": {},
   "outputs": [
    {
     "name": "stdout",
     "output_type": "stream",
     "text": [
      "W1\n"
     ]
    },
    {
     "name": "stderr",
     "output_type": "stream",
     "text": [
      "../solutions/FFN.py:20: RuntimeWarning: invalid value encountered in double_scalars\n",
      "  # hidden layer\n"
     ]
    },
    {
     "name": "stdout",
     "output_type": "stream",
     "text": [
      "W2\n"
     ]
    }
   ],
   "source": [
    "def loss(Ws, X, Y):\n",
    "    Yhat = predict(Ws, X)\n",
    "    return cross_entropy(Yhat, Y)\n",
    "\n",
    "def gradient_check(Ws, X, Y, Δ=1e-5):\n",
    "    dWs = back_propagation(Ws, X, Y, keep_prob=1)\n",
    "    Ws_ = [W.copy() for W in Ws]\n",
    "\n",
    "    for i, (W_, dW_) in enumerate(zip(Ws_, dWs)):\n",
    "        print('W{}'.format(i+1))\n",
    "        for i in range(W_.shape[0]):\n",
    "            for j in range(W_.shape[1]):\n",
    "                dw = dW_[i, j]\n",
    "                W_[i,j] += Δ\n",
    "                loss1 = loss(Ws_, X, Y)\n",
    "                W_[i,j] -= 2*Δ\n",
    "                loss2 = loss(Ws_, X, Y)\n",
    "                W_[i,j] += Δ\n",
    "                dw_ = (loss1 - loss2) / (2 * Δ)\n",
    "                rel_error = abs(dw - dw_) / abs(dw + dw_)\n",
    "                if not np.isclose(dw_, dw):\n",
    "                    print(i, j, dw, dw_, rel_error)\n",
    "\n",
    "nhidden = 10\n",
    "W1 = random_matrix(nfeatures, nhidden)\n",
    "W2 = random_matrix(nhidden, ncats)\n",
    "Ws = [W1, W2]\n",
    "X, Y = X_train[:100,:], Y_train[:100,:]\n",
    "gradient_check(Ws, X, Y)"
   ]
  },
  {
   "cell_type": "markdown",
   "metadata": {},
   "source": [
    "# Exercise: back propagation\n",
    "\n",
    "To make sure we understand back propagation, let's rewrite the `back_propagation` function with a `for` loop for networks with more than a single hidden layer.\n",
    "\n",
    "To use a visual debugger, fire up [Spyder](https://pythonhosted.org/spyder/) (installed with Anaconda). Switch to Variable Explorer in top right window. Spyder IDE was made to resemble MATLAB. If you want something more Visual Studio-y try the excellent [PyCharm](https://www.jetbrains.com/pycharm/) from JetBrains."
   ]
  },
  {
   "cell_type": "code",
   "execution_count": 24,
   "metadata": {},
   "outputs": [
    {
     "data": {
      "text/plain": [
       "<Figure size 432x288 with 0 Axes>"
      ]
     },
     "metadata": {},
     "output_type": "display_data"
    }
   ],
   "source": [
    "%run -i ../solutions/FFN.py # replace this line with your code"
   ]
  },
  {
   "cell_type": "code",
   "execution_count": 25,
   "metadata": {},
   "outputs": [
    {
     "ename": "NameError",
     "evalue": "name 'gradient_check' is not defined",
     "output_type": "error",
     "traceback": [
      "\u001b[0;31m---------------------------------------------------------------------------\u001b[0m",
      "\u001b[0;31mNameError\u001b[0m                                 Traceback (most recent call last)",
      "\u001b[0;32m~/Work/Teaching/DataSciPy/solutions/FFN.py\u001b[0m in \u001b[0;36m<module>\u001b[0;34m\u001b[0m\n\u001b[1;32m      5\u001b[0m \u001b[0mWs\u001b[0m \u001b[0;34m=\u001b[0m \u001b[0;34m[\u001b[0m\u001b[0mW1\u001b[0m\u001b[0;34m,\u001b[0m \u001b[0mW2\u001b[0m\u001b[0;34m]\u001b[0m\u001b[0;34m\u001b[0m\u001b[0;34m\u001b[0m\u001b[0m\n\u001b[1;32m      6\u001b[0m \u001b[0mX\u001b[0m\u001b[0;34m,\u001b[0m \u001b[0mY\u001b[0m \u001b[0;34m=\u001b[0m \u001b[0mX_train\u001b[0m\u001b[0;34m[\u001b[0m\u001b[0;34m:\u001b[0m\u001b[0;36m100\u001b[0m\u001b[0;34m,\u001b[0m\u001b[0;34m:\u001b[0m\u001b[0;34m]\u001b[0m\u001b[0;34m,\u001b[0m \u001b[0mY_train\u001b[0m\u001b[0;34m[\u001b[0m\u001b[0;34m:\u001b[0m\u001b[0;36m100\u001b[0m\u001b[0;34m,\u001b[0m\u001b[0;34m:\u001b[0m\u001b[0;34m]\u001b[0m\u001b[0;34m\u001b[0m\u001b[0;34m\u001b[0m\u001b[0m\n\u001b[0;32m----> 7\u001b[0;31m \u001b[0mgradient_check\u001b[0m\u001b[0;34m(\u001b[0m\u001b[0mWs\u001b[0m\u001b[0;34m,\u001b[0m \u001b[0mX\u001b[0m\u001b[0;34m,\u001b[0m \u001b[0mY\u001b[0m\u001b[0;34m)\u001b[0m\u001b[0;34m\u001b[0m\u001b[0;34m\u001b[0m\u001b[0m\n\u001b[0m",
      "\u001b[0;31mNameError\u001b[0m: name 'gradient_check' is not defined"
     ]
    }
   ],
   "source": [
    "# gradient check for 2 layers\n",
    "nhidden = 10\n",
    "W1 = random_matrix(nfeatures, nhidden)\n",
    "W2 = random_matrix(nhidden, ncats)\n",
    "Ws = [W1, W2]\n",
    "X, Y = X_train[:100,:], Y_train[:100,:]\n",
    "gradient_check(Ws, X, Y)"
   ]
  },
  {
   "cell_type": "code",
   "execution_count": 21,
   "metadata": {},
   "outputs": [
    {
     "name": "stdout",
     "output_type": "stream",
     "text": [
      "W1\n"
     ]
    },
    {
     "name": "stderr",
     "output_type": "stream",
     "text": [
      "../solutions/FFN.py:20: RuntimeWarning: invalid value encountered in double_scalars\n",
      "  # hidden layer\n"
     ]
    },
    {
     "name": "stdout",
     "output_type": "stream",
     "text": [
      "W2\n",
      "W3\n"
     ]
    }
   ],
   "source": [
    "# gradient check for 3 layers\n",
    "nhidden = 10\n",
    "W1 = random_matrix(nfeatures, nhidden)\n",
    "W2 = random_matrix(nhidden, nhidden)\n",
    "W3 = random_matrix(nhidden, ncats)\n",
    "Ws = [W1, W2, W3]\n",
    "X, Y = X_train[:100,:], Y_train[:100,:]\n",
    "gradient_check(Ws, X, Y)"
   ]
  },
  {
   "cell_type": "markdown",
   "metadata": {},
   "source": [
    "# Momentum gradient descent\n",
    "\n",
    "There are many different ways to do stochastic gradient descent.\n",
    "Some of the algorithms adapt the learning rate $\\eta$ during training. \n",
    "The basic intuition is that when we are far from the minimum we want to advance in big steps and when we are near to the minimum we want to advance more carefully.\n",
    "\n",
    "The first optimization method we will use was described in [Rumelhart, Hinton & Williams, 1986](http://www.nature.com/doifinder/10.1038/323533a0).\n",
    "It is a momentum method, meaning that at each iteration (batch) the current update is calculated as a decaying average of the previous update and the current gradients:\n",
    "\n",
    "$$\n",
    "\\Delta W \\to \\alpha \\Delta W - \\eta \\frac{\\partial J}{\\partial W} \\\\\n",
    "W \\to W + \\Delta W\n",
    "$$\n",
    "\n",
    "This works fine, sometimes, but not as good as other algorithms. It simple and easy to implement, though, and gives a good sense of what other momentum-based algorithms do.\n",
    "See a [comparison of algorithms on MNIST](https://github.com/mazefeng/sgd-opt)."
   ]
  },
  {
   "cell_type": "code",
   "execution_count": 26,
   "metadata": {},
   "outputs": [],
   "source": [
    "class MomentumOptimizer:\n",
    "    def __init__(self, α=0.9, η=0.05):\n",
    "        self.α = α\n",
    "        self.η = η\n",
    "        self.ΔWs = None\n",
    "\n",
    "    def send(self, dWs):\n",
    "        if self.ΔWs is None:\n",
    "            self.ΔWs = [0] * len(dWs)\n",
    "        \n",
    "        self.ΔWs = [\n",
    "            self.α * ΔW - self.η * dW\n",
    "            for ΔW, dW in zip(self.ΔWs, dWs)\n",
    "        ]\n",
    "        \n",
    "        for ΔW in self.ΔWs:\n",
    "            assert np.isfinite(ΔW).all()\n",
    "        return self.ΔWs"
   ]
  },
  {
   "cell_type": "code",
   "execution_count": 27,
   "metadata": {},
   "outputs": [
    {
     "name": "stdout",
     "output_type": "stream",
     "text": [
      "[0.0, 0.0, 0.0]\n",
      "[-0.05, -0.05, -0.05]\n",
      "[-0.095, -0.095, -0.095]\n"
     ]
    }
   ],
   "source": [
    "optimizer = MomentumOptimizer()\n",
    "print(optimizer.send([0, 0, 0]))\n",
    "print(optimizer.send([1, 1, 1]))\n",
    "print(optimizer.send([1, 1, 1]))"
   ]
  },
  {
   "cell_type": "markdown",
   "metadata": {},
   "source": [
    "# Adam optimizer\n",
    "\n",
    "A more sophisticated optimizing algorithm is [Adam](https://arxiv.org/pdf/1412.6980v9.pdf).\n",
    "The algorithm to calculate the learning rate is in the linked paper in *Algorithm 1*, and the code below uses a slightly different order of compuation for efficieny.\n",
    "\n",
    "Intuitively, we calculate the weighted running averages of the gradients $\\mathbf{m}$ and of the squared gradeints $\\mathbf{v}$, with memory parameters $\\beta_1, \\beta_2$ such that the most recent gradient has a weight of $1-\\beta_1$ and $1-\\beta_2$:\n",
    "\n",
    "$$\n",
    "\\mathbf{m} \\to \\beta_1 \\mathbf{m} + (1-\\beta_1) \\frac{\\partial C}{\\partial \\mathbf{W}} \\\\\n",
    "\\mathbf{v} \\to \\beta_2 \\mathbf{v} + (1-\\beta_2) \\Big(\\frac{\\partial C}{\\partial \\mathbf{W}}\\Big)^2\n",
    "$$\n",
    "\n",
    "The ratio of $\\frac{\\mathbf{m}}{\\sqrt{\\mathbf{v}}}$ is similar to a *signal-to-noise* ratio, and we use this ratio instead of the gradients in a gradient descent scheme to update the parameters $\\mathbf{W}$:\n",
    "\n",
    "$$\n",
    "\\mathbf{W} \\to  \\mathbf{W} - \\alpha \\frac{\\mathbf{m}}{\\sqrt{\\mathbf{v}}}\n",
    "$$\n",
    "\n",
    "See the [paper by Kingma and Ba](https://arxiv.org/pdf/1412.6980v9.pdf) for more details and comparison to other optimization strategies.\n",
    "We use **Algorithm 1** from [Kingma and Ba](https://arxiv.org/pdf/1412.6980v9.pdf)."
   ]
  },
  {
   "cell_type": "code",
   "execution_count": 28,
   "metadata": {},
   "outputs": [],
   "source": [
    "def average(prev, curr, β):\n",
    "    return [\n",
    "        β * p + (1 - β) * c\n",
    "        for p, c\n",
    "        in zip(prev, curr)\n",
    "    ]\n",
    "    \n",
    "class AdamOptimizer:\n",
    "    def __init__(self, α=0.001, β1=0.9, β2=0.999, ϵ=1e-8):\n",
    "        self.α = α\n",
    "        self.β1 = β1\n",
    "        self.β2 = β2\n",
    "        self.ϵ = ϵ\n",
    "        self.m = None\n",
    "        self.v = None\n",
    "        self.t = 0\n",
    "\n",
    "    def send(self, gradients):\n",
    "        if self.m is None:\n",
    "            self.m = [0] * len(gradients)\n",
    "        if self.v is None:\n",
    "            self.v = [0] * len(gradients)\n",
    "\n",
    "        self.t += 1\n",
    "        αt = self.α * np.sqrt(1 - self.β2**self.t) / (1 - self.β1**self.t)\n",
    "        self.m = average(self.m, gradients, self.β1)        \n",
    "        self.v = average(self.v, (g*g for g in gradients), self.β2)\n",
    "\n",
    "        updates = [-αt * mi / (np.sqrt(vi) + self.ϵ) for mi, vi in zip(self.m, self.v)]\n",
    "        for upd in updates:\n",
    "            assert np.isfinite(upd).all()\n",
    "        return updates"
   ]
  },
  {
   "cell_type": "code",
   "execution_count": 29,
   "metadata": {},
   "outputs": [
    {
     "name": "stdout",
     "output_type": "stream",
     "text": [
      "[-0.0, -0.0, -0.0]\n",
      "[-0.0007441365882503311, -0.0007441365882503311, -0.0007441365882503311]\n",
      "[-0.0008584623637594434, -0.0008584623637594434, -0.0008584623637594434]\n"
     ]
    }
   ],
   "source": [
    "optimizer = AdamOptimizer()\n",
    "print(optimizer.send([0, 0, 0]))\n",
    "print(optimizer.send([1, 1, 1]))\n",
    "print(optimizer.send([1, 1, 1]))"
   ]
  },
  {
   "cell_type": "markdown",
   "metadata": {},
   "source": [
    "# Training the FFN"
   ]
  },
  {
   "cell_type": "markdown",
   "metadata": {},
   "source": [
    "Our `Trainer` is a bit different now, as it calls the  optimizer at each step to determine the updates. Otherwise it's fairly similar to the one we used in the [softmax model session](softmax-model.ipynb#Training)."
   ]
  },
  {
   "cell_type": "code",
   "execution_count": 30,
   "metadata": {},
   "outputs": [],
   "source": [
    "class Trainer:\n",
    "    def __init__(self, X, Y, optimizer, batch_size=50, keep_prob=0.5):\n",
    "        self.X = X\n",
    "        self.Y = Y\n",
    "        self.epochs = 0\n",
    "        self.batches = 0\n",
    "        self.batch_size = batch_size\n",
    "        self.nsamples = X.shape[0]\n",
    "        self.keep_prob = keep_prob\n",
    "        self.optimizer = optimizer\n",
    "        \n",
    "    def train(self, Ws, debug=False):\n",
    "        self.batches += 1\n",
    "        self.epochs = self.batches * self.batch_size // self.nsamples\n",
    "        \n",
    "        # get next batch\n",
    "        start = (self.batches * self.batch_size) % self.nsamples\n",
    "        stop = start + self.batch_size\n",
    "        batch_idx = range(start, stop)\n",
    "        X_, Y_ = self.X[batch_idx, :], self.Y[batch_idx, :]\n",
    "        \n",
    "        # calculate gradients\n",
    "        dWs = back_propagation(Ws, X_, Y_, keep_prob=self.keep_prob)\n",
    "        \n",
    "        # calculate updates\n",
    "        ΔWs = self.optimizer.send(dWs)        \n",
    "\n",
    "        # apply updates in place\n",
    "        for W, ΔW in zip(Ws, ΔWs):\n",
    "            W += ΔW\n",
    "            \n",
    "        # print once every epoch\n",
    "        if self.batches * self.batch_size % self.nsamples == 0:\n",
    "            acc = accuracy(predict(Ws, X_test), Y_test)\n",
    "            print(\"Epoch {}, test accuracy: {}\".format(self.epochs, acc))\n",
    "            \n",
    "        # debug by printing the gradients\n",
    "        if debug:\n",
    "            for dW in dWs:\n",
    "                print('Batch {}: min={}, mean={}, max={}'.format(self.batches, dW.min(), dW.mean(), dW.max()))"
   ]
  },
  {
   "cell_type": "markdown",
   "metadata": {},
   "source": [
    "Now we initialize two layers and calculate the inital accuracy.\n",
    "\n",
    "The input layer has 728 features, \"neurons\" or pixels; the readout later has 10 (categories).\n",
    "Let's set the hidden layer to have 100 \"neurons\"."
   ]
  },
  {
   "cell_type": "code",
   "execution_count": 31,
   "metadata": {},
   "outputs": [
    {
     "name": "stdout",
     "output_type": "stream",
     "text": [
      "Accuracy (0): 0.08\n"
     ]
    }
   ],
   "source": [
    "nhidden = 100\n",
    "W1 = random_matrix(nfeatures, nhidden)\n",
    "W2 = random_matrix(nhidden, ncats)\n",
    "Ws = [W1, W2]\n",
    "\n",
    "acc = accuracy(predict(Ws, X_test), Y_test)\n",
    "print(\"Accuracy ({}): {:.2f}\".format(0, acc))"
   ]
  },
  {
   "cell_type": "markdown",
   "metadata": {},
   "source": [
    "The accuracy we get is something around 0.1, depending on the specific random values of `W1` and `W2`.\n",
    "\n",
    "Let's train the model for some epochs (each time we go over all the images is called an *epoch*)."
   ]
  },
  {
   "cell_type": "code",
   "execution_count": 35,
   "metadata": {},
   "outputs": [
    {
     "name": "stdout",
     "output_type": "stream",
     "text": [
      "Epoch 1, test accuracy: 0.0981\n",
      "Epoch 2, test accuracy: 0.0981\n",
      "Epoch 3, test accuracy: 0.0981\n"
     ]
    }
   ],
   "source": [
    "trainer = Trainer(X_train, Y_train, MomentumOptimizer())\n",
    "while trainer.epochs < 3:\n",
    "    trainer.train(Ws)"
   ]
  },
  {
   "cell_type": "markdown",
   "metadata": {},
   "source": [
    "Training doesn't really work! \n",
    "Let's debug it by looking at the gradients."
   ]
  },
  {
   "cell_type": "code",
   "execution_count": 36,
   "metadata": {},
   "outputs": [
    {
     "name": "stdout",
     "output_type": "stream",
     "text": [
      "Batch 1: min=-3.0119289201239874, mean=0.04950269799353625, max=4.066487026244662\n",
      "Batch 1: min=-13.222823601038302, mean=-1.5987211554602253e-17, max=15.972643872804403\n",
      "Batch 2: min=-3.81624374326334, mean=0.10340776999920304, max=11.655516905535302\n",
      "Batch 2: min=-53.604297499678836, mean=-8.43769498715119e-18, max=159.37321514924187\n",
      "Batch 3: min=-4.466271919870875, mean=0.431191980898513, max=66.95822478508217\n",
      "Batch 3: min=-209.27475884335067, mean=-4.991562718714704e-16, max=721.844746557614\n",
      "Batch 4: min=-6.6163001627932525, mean=2.0833235629309246, max=360.4580137488867\n",
      "Batch 4: min=-298.84790768554217, mean=-1.0125927873971659e-16, max=1348.9529556807388\n",
      "Batch 5: min=-19.33584331983157, mean=0.25289298324418347, max=41.30909220685833\n",
      "Batch 5: min=-275.12628602995477, mean=1.8118839761882554e-16, max=1316.8943081628636\n"
     ]
    }
   ],
   "source": [
    "W1 = random_matrix(nfeatures, nhidden)\n",
    "W2 = random_matrix(nhidden, ncats)\n",
    "Ws = [W1, W2]\n",
    "\n",
    "trainer = Trainer(X_train, Y_train, MomentumOptimizer())\n",
    "while trainer.batches < 5:\n",
    "    trainer.train(Ws, debug=True)"
   ]
  },
  {
   "cell_type": "markdown",
   "metadata": {},
   "source": [
    "**The gradients are exploding!**\n",
    "\n",
    "This is a familiar problem with training neural networks.\n",
    "We might be able to solve this by playing with the parameters of the momentum optimizer."
   ]
  },
  {
   "cell_type": "code",
   "execution_count": 37,
   "metadata": {},
   "outputs": [
    {
     "name": "stdout",
     "output_type": "stream",
     "text": [
      "Epoch 1, test accuracy: 0.8022\n",
      "Epoch 2, test accuracy: 0.5776\n",
      "Epoch 3, test accuracy: 0.676\n",
      "Epoch 4, test accuracy: 0.666\n",
      "Epoch 5, test accuracy: 0.4581\n"
     ]
    }
   ],
   "source": [
    "W1 = random_matrix(nfeatures, nhidden)\n",
    "W2 = random_matrix(nhidden, ncats)\n",
    "Ws = [W1, W2]\n",
    "\n",
    "trainer = Trainer(X_train, Y_train, MomentumOptimizer(η=0.001))\n",
    "while trainer.epochs < 5:\n",
    "    trainer.train(Ws)"
   ]
  },
  {
   "cell_type": "markdown",
   "metadata": {},
   "source": [
    "This is somewhat better, but the accuracy should not go down...\n",
    "\n",
    "Luckily, we can try with the Adam optimizer, which usually doesn't require us to change its parameters."
   ]
  },
  {
   "cell_type": "code",
   "execution_count": 47,
   "metadata": {},
   "outputs": [
    {
     "name": "stdout",
     "output_type": "stream",
     "text": [
      "Epoch 0, test accuracy: 0.14\n",
      "Epoch 1, test accuracy: 0.9168\n",
      "Epoch 2, test accuracy: 0.9261\n",
      "Epoch 3, test accuracy: 0.9288\n",
      "Epoch 4, test accuracy: 0.9288\n",
      "Epoch 5, test accuracy: 0.9305\n",
      "Epoch 6, test accuracy: 0.9321\n",
      "Epoch 7, test accuracy: 0.9358\n",
      "Epoch 8, test accuracy: 0.9361\n",
      "Epoch 9, test accuracy: 0.9368\n",
      "Epoch 10, test accuracy: 0.9353\n"
     ]
    }
   ],
   "source": [
    "W1 = random_matrix(nfeatures, nhidden)\n",
    "W2 = random_matrix(nhidden, ncats)\n",
    "Ws = [W1, W2]\n",
    "\n",
    "acc = accuracy(predict(Ws, X_test), Y_test)\n",
    "print(\"Epoch 0, test accuracy: {:.2f}\".format(acc))\n",
    "\n",
    "trainer = Trainer(X_train, Y_train, AdamOptimizer())\n",
    "while trainer.epochs < 10:\n",
    "    trainer.train(Ws)"
   ]
  },
  {
   "cell_type": "markdown",
   "metadata": {},
   "source": [
    "So with Adam we got a rapid and significant increase in accuracy over the single-layer softmax model, which was ~89% after 10 epochs."
   ]
  },
  {
   "cell_type": "code",
   "execution_count": 48,
   "metadata": {},
   "outputs": [
    {
     "name": "stdout",
     "output_type": "stream",
     "text": [
      "0\n"
     ]
    },
    {
     "data": {
      "image/png": "[encoded data removed]",
      "text/plain": [
       "<Figure size 432x288 with 1 Axes>"
      ]
     },
     "metadata": {
      "image/png": {
       "height": 237,
       "width": 237
      }
     },
     "output_type": "display_data"
    }
   ],
   "source": [
    "display_prediction(10)"
   ]
  },
  {
   "cell_type": "markdown",
   "metadata": {},
   "source": [
    "# Saving the model\n",
    "\n",
    "Saving the model is just a matter of saving `Ws` using NumPy's pickling function:"
   ]
  },
  {
   "cell_type": "code",
   "execution_count": 50,
   "metadata": {},
   "outputs": [
    {
     "name": "stdin",
     "output_type": "stream",
     "text": [
      "Are you sure? y\n"
     ]
    }
   ],
   "source": [
    "if input(\"Are you sure?\") == 'y':\n",
    "    np.savez_compressed('../data/FFN_MNIST_2layer.npz', Ws=Ws)"
   ]
  },
  {
   "cell_type": "code",
   "execution_count": 51,
   "metadata": {},
   "outputs": [],
   "source": [
    "with np.load('../data/FFN_MNIST_2layer.npz', allow_pickle=True) as d:\n",
    "    Ws = d['Ws']"
   ]
  },
  {
   "cell_type": "code",
   "execution_count": 52,
   "metadata": {},
   "outputs": [
    {
     "name": "stdout",
     "output_type": "stream",
     "text": [
      "6\n"
     ]
    },
    {
     "data": {
      "image/png": "[encoded data removed]",
      "text/plain": [
       "<Figure size 432x288 with 1 Axes>"
      ]
     },
     "metadata": {
      "image/png": {
       "height": 237,
       "width": 237
      }
     },
     "output_type": "display_data"
    }
   ],
   "source": [
    "display_prediction(100)"
   ]
  },
  {
   "cell_type": "markdown",
   "metadata": {},
   "source": [
    "# Problems\n",
    "\n",
    "One major problem is that FFN learns the relationship $W_{k,j}$ between pixel (feature) $x_j$ and digit (category) $k$, but if we move the pixels around without changing the category, the relationship is lost.\n",
    "The model sees the features as a sequence of length 728, and it doesn't \"know\" that it's actually a 2D matrix of 28x28.\n",
    "\n",
    "Because of that, it can't tell that a shifted 5 is still a 5."
   ]
  },
  {
   "cell_type": "code",
   "execution_count": 69,
   "metadata": {},
   "outputs": [],
   "source": [
    "with np.load('../data/FFN_MNIST_2layer.npz', allow_pickle=True) as d:\n",
    "    Ws = d['Ws']"
   ]
  },
  {
   "cell_type": "code",
   "execution_count": 70,
   "metadata": {},
   "outputs": [
    {
     "name": "stdout",
     "output_type": "stream",
     "text": [
      "5\n"
     ]
    },
    {
     "data": {
      "image/png": "[encoded data removed]",
      "text/plain": [
       "<Figure size 432x288 with 1 Axes>"
      ]
     },
     "metadata": {
      "image/png": {
       "height": 237,
       "width": 237
      }
     },
     "output_type": "display_data"
    }
   ],
   "source": [
    "im = X_train[0]\n",
    "print(predict(Ws, im).argmax())\n",
    "display_image(im)"
   ]
  },
  {
   "cell_type": "markdown",
   "metadata": {},
   "source": [
    "`scipy.ndimage` has a bunch of useful image analysis functions, but also see *scikit-image*."
   ]
  },
  {
   "cell_type": "code",
   "execution_count": 71,
   "metadata": {},
   "outputs": [],
   "source": [
    "import scipy.ndimage"
   ]
  },
  {
   "cell_type": "code",
   "execution_count": 72,
   "metadata": {},
   "outputs": [
    {
     "name": "stdout",
     "output_type": "stream",
     "text": [
      "3\n"
     ]
    },
    {
     "data": {
      "image/png": "[encoded data removed]",
      "text/plain": [
       "<Figure size 432x288 with 1 Axes>"
      ]
     },
     "metadata": {
      "image/png": {
       "height": 237,
       "width": 237
      }
     },
     "output_type": "display_data"
    }
   ],
   "source": [
    "shifted = scipy.ndimage.shift(im.reshape((28, 28)), 2)\n",
    "print(predict(Ws, shifted.ravel()).argmax())\n",
    "display_image(shifted)"
   ]
  },
  {
   "cell_type": "code",
   "execution_count": 73,
   "metadata": {},
   "outputs": [
    {
     "data": {
      "image/png": "[encoded data removed]",
      "text/plain": [
       "<Figure size 432x288 with 1 Axes>"
      ]
     },
     "metadata": {
      "image/png": {
       "height": 251,
       "width": 374
      },
      "needs_background": "light"
     },
     "output_type": "display_data"
    }
   ],
   "source": [
    "plt.plot(im.ravel(), '.', label='original')\n",
    "plt.plot(shifted.ravel(), '.', label='shifted')\n",
    "plt.legend();"
   ]
  },
  {
   "cell_type": "markdown",
   "metadata": {},
   "source": [
    "A solution to this, which also offers other benefics such as faster training and more efficient memory use, is the use of *convolutional neural networks*, which use convolutions instead of fully connected (matrix multiplcation) layers.\n",
    "We will deal with such networks in [another session](CNN.ipynb)."
   ]
  },
  {
   "cell_type": "markdown",
   "metadata": {},
   "source": [
    "# Exercise\n",
    "\n",
    "Train a model and use it as a [generative model](../exercises/FFN_GenModel.ipynb)."
   ]
  },
  {
   "cell_type": "markdown",
   "metadata": {},
   "source": [
    "# References\n",
    "\n",
    "- [Deep Learning by Ian Goodfellow and Yoshua Bengio and Aaron Courville](http://www.deeplearningbook.org), ch. 6, 7.12, and 8 - offers a comprehensive introduction to the subject.\n",
    "- [Deep Learning: Technical introduction by Thomas Epelbaum](https://github.com/tomepel/Technical_Book_DL), ch. 4 - offers a very technical perspective with full derivation of all the formulas.\n",
    "\n",
    "Both books are available online for free."
   ]
  },
  {
   "cell_type": "markdown",
   "metadata": {},
   "source": [
    "# Colophon\n",
    "This notebook was written by [Yoav Ram](http://python.yoavram.com) and is part of the [_Data Science with Python_](https://python.yoavram.com/Deep4Devs) workshops.\n",
    "\n",
    "The notebook was written using [Python](http://python.org/) 3.6.3, [IPython](http://ipython.org/) 6.2.1, [Jupyter](http://jupyter.org) 5.1.0.\n",
    "\n",
    "This work is licensed under a CC BY-NC-SA 4.0 International License.\n",
    "\n",
    "![Python logo](https://www.python.org/static/community_logos/python-logo.png)"
   ]
  }
 ],
 "metadata": {
  "kernelspec": {
   "display_name": "Python [conda env:DataSciPy]",
   "language": "python",
   "name": "conda-env-DataSciPy-py"
  },
  "language_info": {
   "codemirror_mode": {
    "name": "ipython",
    "version": 3
   },
   "file_extension": ".py",
   "mimetype": "text/x-python",
   "name": "python",
   "nbconvert_exporter": "python",
   "pygments_lexer": "ipython3",
   "version": "3.6.7"
  }
 },
 "nbformat": 4,
 "nbformat_minor": 4
}
