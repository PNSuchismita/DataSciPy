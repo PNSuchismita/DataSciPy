{
 "cells": [
  {
   "cell_type": "markdown",
   "metadata": {},
   "source": [
    "![Py4Eng](sessions/img/logo.png)\n",
    "\n",
    "# Data Science with Python\n",
    "## [Yoav Ram](http://python.yoavram.com)"
   ]
  },
  {
   "cell_type": "markdown",
   "metadata": {},
   "source": [
    "## Day 1\n",
    "\n",
    "1. [Types and operators](sessions/types-operators.ipynb)\n",
    "1. [Control flow](sessions/if-while.ipynb)\n",
    "1. [Sequences](sessions/strings-lists-loops.ipynb)\n",
    "1. [Dictionaries](sessions/dictionaries.ipynb)\n",
    "1. [Functions](sessions/functions.ipynb)\n",
    "1. [Memory model](sessions/memory-model.ipynb)"
   ]
  },
  {
   "cell_type": "markdown",
   "metadata": {},
   "source": [
    "## Day 2\n",
    "\n",
    "1. [Errors and exceptions](sessions/exceptions.ipynb)\n",
    "1. [I/O](sessions/io.ipynb)\n",
    "1. [Iteration](sessions/iteration.ipynb)\n",
    "1. [Object-oriented programming](sessions/oop.ipynb)\n",
    "1. [Modules](sessions/modules.ipynb)\n",
    "1. [Virtual environments](sessions/conda-env.ipynb)"
   ]
  },
  {
   "cell_type": "markdown",
   "metadata": {},
   "source": [
    "## Day 3\n",
    "\n",
    "1. Numerical Python with NumPy: [notebook](sessions/numpy.ipynb) | [solution](solutions/numpy.ipynb)\n",
    "1. Plotting with Matplotlib: [notebook](sessions/matplotlib.ipynb) | [solution](solutions/matplotlib.ipynb)\n",
    "1. Data analysis with Pandas and Seaborn: [notebook](sessions/pandas-seaborn.ipynb) | [solution](solutions/pandas-seaborn.ipynb)\n",
    "\n",
    "### Exercises\n",
    "\n",
    "1. NumPy: [notebook](https://github.com/rougier/numpy-100/blob/master/100_Numpy_exercises_no_solution.ipynb) | [solution](https://github.com/rougier/numpy-100/blob/master/100_Numpy_exercises.ipynb)\n",
    "2. Pandas & Seaborn: [notebook](exercises/pandas.ipynb) | [solution](solutions/pandas.ipynb)"
   ]
  },
  {
   "cell_type": "markdown",
   "metadata": {},
   "source": [
    "## Day 4: \n",
    "\n",
    "1. Curve fitting and regression: [notebook](sessions/curve-fitting.ipynb) | [solution](solutions/curve-fitting.py)\n",
    "1. Statistics with SciPy and Statsmodels: [notebook](sessions/statistics.ipynb) | [solution](solutions/statistics.ipynb)\n",
    "1. Supervised learning with Scikit-learn: [notebook](sessions/scikit-learn.ipynb) | [solution](solutions/scikit-learn.ipynb)\n",
    "1. Unsupervised learning with Scikit-learn: [notebook](sessions/PCA.ipynb) | [solution](solutions/PCA.ipynb)\n",
    "1. Movies dataset: [notebook](sessions/movies.ipynb)"
   ]
  },
  {
   "cell_type": "markdown",
   "metadata": {},
   "source": [
    "### Exercises \n",
    "\n",
    "- [Linear model](exercises/linear-model.ipynb) | [solution](solutions/linear-model.py) \n",
    "- [Logistic model](exercises/logistic-tennis.ipynb) | [solution](solutions/logistic-tennis.py)\n",
    "- [Object detection](exercises/sign-lang.pdf) | [solution](solutions/sign-lang.ipynb)"
   ]
  },
  {
   "cell_type": "markdown",
   "metadata": {},
   "source": [
    "## Jupyter help\n",
    "\n",
    "- Use autocompletion by pressing `Tab`. \n",
    " - In the middle of a word it will try to finish the variable name.\n",
    " - Just after a dot (`.`) it will try to bring up a menu of methods and attributes; the variable before the dot must already be defined.\n",
    "- Use documentation by pressing `Shift+Tab`; this is especially useful inside a function parentheses as it will show the function arguments, but it can be used anywhere. Again, variables must already be defined."
   ]
  },
  {
   "cell_type": "markdown",
   "metadata": {},
   "source": [
    "## Terminal\n",
    "\n",
    "To open a terminal inside Jupyter, choose `File->New...->Terminal` in the top menu."
   ]
  },
  {
   "cell_type": "markdown",
   "metadata": {},
   "source": [
    "## Monitoring CPU\n",
    "\n",
    "To monitor CPU of your programs:\n",
    "- Open a terminal window (see above).\n",
    "- Run `htop`.\n",
    "- If `htop` is not available, you can install another program: `python -m pip install glances` and then run `glances -1 -4`."
   ]
  }
 ],
 "metadata": {
  "kernelspec": {
   "display_name": "Python 3",
   "language": "python",
   "name": "python3"
  },
  "language_info": {
   "codemirror_mode": {
    "name": "ipython",
    "version": 3
   },
   "file_extension": ".py",
   "mimetype": "text/x-python",
   "name": "python",
   "nbconvert_exporter": "python",
   "pygments_lexer": "ipython3",
   "version": "3.7.3"
  }
 },
 "nbformat": 4,
 "nbformat_minor": 4
}
