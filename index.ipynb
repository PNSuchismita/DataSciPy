{
 "cells": [
  {
   "cell_type": "markdown",
   "metadata": {},
   "source": [
    "![Py4Eng](sessions/img/logo.png)\n",
    "\n",
    "# Data Science with Python\n",
    "## [Yoav Ram](http://python.yoavram.com)"
   ]
  },
  {
   "cell_type": "markdown",
   "metadata": {},
   "source": [
    "## Day 1: Introduction to Machine Learning with Python\n",
    "\n",
    "- Numerical Python with NumPy: [notebook](sessions/numpy.ipynb) | [solution](solutions/numpy.ipynb)\n",
    "- Plotting with Matplotlib: [notebook](sessions/matplotlib.ipynb) | [solution](solutions/matplotlib.ipynb)\n",
    "- Data analysis with Pandas and Seaborn: [notebook](sessions/pandas-seaborn.ipynb) | [solution](solutions/pandas-seaborn.ipynb)\n",
    "- Machine learning with Scikit-learn: [notebook](sessions/scikit-learn.ipynb) | [exercise: linear model](exercises/linear-model.ipynb) | [solution](solutions/linear-model.py) | [solution: linear model](solutions/linear-model.py) | [exercise: logistic model](exercises/logistic-tennis.ipynb) | [solution: logistic model](solutions/logistic-tennis.py)"
   ]
  },
  {
   "cell_type": "markdown",
   "metadata": {},
   "source": [
    "## Day 2: Introduction to Deep Learning with Python\n",
    "\n",
    "- Linear Model: [notebook](sessions/linear-model.ipynb) | [exercise](exercises/linear-model.ipynb) | [solution](solutions/linear-model.py)\n",
    "- Logistic Model: [notebook](sessions/logistic-model.ipynb) | [solution](solutions/logistic-model.py) | [exercise](exercises/logistic-tennis.ipynb) | [solution](solutions/logistic-tennis.py)\n",
    "- Softmax model: [notebook](sessions/softmax-model.ipynb) | [solution](solutions/softmax-model.py) \n",
    "- Feed forward networks: [notebook](sessions/FFN.ipynb) | [solution](solutions/FFN.py) | [exercise](exercises/FFN_GenModel.ipynb) | [solution](solutions/FFN_GenModel.py)\n",
    "- Convolutional neural networks with Keras: [notebook](sessions/K_CNN.ipynb) | [exercise](exercises/CNN.ipynb) | [solution](solutions/CNN.ipynb)\n"
   ]
  },
  {
   "cell_type": "markdown",
   "metadata": {},
   "source": [
    "## Day 3: Trending Neural Networks with Keras\n",
    "\n",
    "To download data before the workshop, run `python download_data.py` in the terminal.\n",
    "\n",
    "- Pre-trained Models: [notebook](sessions/pretrained.ipynb)\n",
    "- Recurrent neural networks: [notebook](sessions/RNN.ipynb) | [exercise](exercises/RNN.ipynb) | [solution](solutions/RNN.ipynb)\n",
    "- Reinforcement learning: [notebook](sessions/reinforcement.ipynb) | [exercise](exercises/reinforcement.ipynb) | [solution](solutions/reinforcement.ipynb)\n",
    "- Convolutional networks with spectral data: [notebook](sessions/audio.ipynb)  | [exercise](exercises/audio.ipynb) | [solution](solutions/audio.ipynb)\n",
    "- Generative adversarial networks: [notebook](sessions/GAN.ipynb)  | [exercise 1](exercises/GAN.ipynb) | [solution 1](solutions/GAN.ipynb) | [exercise 2](exercises/ACGAN.ipynb) | [solution 2](solutions/ACGAN.ipynb)\n",
    "- Convolutional neural networks with TensorFlow: [notebook](sessions/TF_CNN.ipynb) \n",
    "\n"
   ]
  },
  {
   "cell_type": "markdown",
   "metadata": {},
   "source": [
    "## Getting help\n",
    "\n",
    "- Use autocompletion by pressing `Tab`. \n",
    " - In the middle of a word it will try to finish the variable name.\n",
    " - Just after a dot (`.`) it will try to bring up a menu of methods and attributes; the variable before the dot must already be defined.\n",
    "- Use documentation by pressing `Shift+Tab`; this is especially useful inside a function parentheses as it will show the function arguments, but it can be used anywhere. Again, variables must already be defined."
   ]
  },
  {
   "cell_type": "markdown",
   "metadata": {},
   "source": [
    "## Updating the notebooks with git\n",
    "\n",
    "### Check version\n",
    "To check your version of the notebooks folder, open a terminal or command line and run:\n",
    "```\n",
    "git log\n",
    "```\n",
    "The first line should have the name of the latest \"commit\" (version).\n",
    "\n",
    "### Revert version\n",
    "\n",
    "To reset all changes you made to notebooks, open a terminal or command line and run:\n",
    "```\n",
    "git reset --hard HEAD\n",
    "```\n",
    "\n",
    "### Update version\n",
    "\n",
    "To update the notebooks folder, open a terminal or command line and run:\n",
    "```\n",
    "git pull\n",
    "```"
   ]
  },
  {
   "cell_type": "markdown",
   "metadata": {},
   "source": [
    "## Terminal\n",
    "\n",
    "To open a terminal inside Jupyter, choose `File->New...->Terminal` in the top menu."
   ]
  },
  {
   "cell_type": "markdown",
   "metadata": {},
   "source": [
    "## Monitoring CPU\n",
    "\n",
    "To monitor CPU of your programs:\n",
    "- Open a terminal window (see above).\n",
    "- Run `htop`.\n",
    "- If `htop` is not available, you can install another program: `python -m pip install glances` and then run `glances -1 -4`."
   ]
  },
  {
   "cell_type": "markdown",
   "metadata": {},
   "source": [
    "## Monitoring GPU on Day 3\n",
    "\n",
    "`gpustat` is a utility that allows to monitor the GPU, including its work load, memory load, and temperature, \n",
    "so you can see that the GPU works when you train your networks.\n",
    "This is only useful on a machine with a GPU, for example, on AWS VMs.\n",
    "\n",
    "- Open a terminal inside Jupyter (see above).\n",
    "- Install the utility with `python -m pip install gpustat`\n",
    "- Run it with `gpustat -cp -i 0.1` (the 0.1 determines that update rate in seconds)."
   ]
  }
 ],
 "metadata": {
  "kernelspec": {
   "display_name": "Python [default]",
   "language": "python",
   "name": "python3"
  },
  "language_info": {
   "codemirror_mode": {
    "name": "ipython",
    "version": 3
   },
   "file_extension": ".py",
   "mimetype": "text/x-python",
   "name": "python",
   "nbconvert_exporter": "python",
   "pygments_lexer": "ipython3",
   "version": "3.6.5"
  }
 },
 "nbformat": 4,
 "nbformat_minor": 2
}
