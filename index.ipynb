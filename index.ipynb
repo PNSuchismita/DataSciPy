{
 "cells": [
  {
   "cell_type": "markdown",
   "metadata": {},
   "source": [
    "![Py4Eng](sessions/img/logo.png)\n",
    "\n",
    "# Data Science with Python\n",
    "## [Yoav Ram](http://python.yoavram.com)"
   ]
  },
  {
   "cell_type": "markdown",
   "metadata": {},
   "source": [
    "## Day 1: Introduction to Machine Learning with Python\n",
    "\n",
    "- Numerical Python with NumPy: [notebook](sessions/numpy.ipynb)\n",
    "- Plotting with Matplotlib: [notebook](sessions/matplotlib.ipynb)\n",
    "- Data analysis with Pandas and Seaborn: [notebook](sessions/pandas-seaborn.ipynb)\n",
    "- Machine learning with Scikit-learn: [notebook](sessions/scikit-learn.ipynb)\n"
   ]
  },
  {
   "cell_type": "markdown",
   "metadata": {},
   "source": [
    "## Day 2: Introduction to Deep Learning with Python\n",
    "\n",
    "- Linear Model: [notebook](sessions/linear-model.ipynb) | [exercise](exercises/linear-model.ipynb) | [solution](solutions/linear-model.ipynb)\n",
    "- Logistic Model: [notebook](sessions/logistic-model.ipynb) | [exercise](exercises/logistic-model.ipynb) | [solution](solutions/logistic-model.ipynb)\n",
    "- Softmax model: [notebook](sessions/softmax-model.ipynb)\n",
    "- Feed forward networks: [notebook](sessions/FFN.ipynb)\n",
    "- Convolutional neural networks with Keras: [notebook](sessions/K_CNN.ipynb) | [exercise](exercises/CNN.ipynb) | [solution](solutions/CNN.ipynb)\n"
   ]
  },
  {
   "cell_type": "markdown",
   "metadata": {},
   "source": [
    "## Day 3: Trending Neural Networks with Keras\n",
    "\n",
    "- Pre-trained Models: [notebook](sessions/pretrained.ipynb)\n",
    "- Recurrent neural networks: [notebook](sessions/RNN.ipynb) | [exercise](exercises/RNN.ipynb)\n",
    "- Reinforcement learning: [notebook](sessions/reinforcement) | [exercise](exercises/reinforcement.ipynb) | [solution](solutions/reinforcement.ipynb)\n",
    "- Convolutional networks with spectral data: [notebook](sessions/audio.ipynb)  | [exercise](exercises/audio.ipynb) | [solution](solutions/audio.ipynb)\n",
    "- Generative adversarial networks: [notebook](sessions/GAN.ipynb)  | [exercise](exercises/ACGAN.ipynb) | [solution](solutions/ACGAN.ipynb)\n",
    "- Convolutional neural networks with TensorFlow: [notebook](sessions/F_CNN.ipynb) \n"
   ]
  }
 ],
 "metadata": {
  "kernelspec": {
   "display_name": "Python [default]",
   "language": "python",
   "name": "python3"
  },
  "language_info": {
   "codemirror_mode": {
    "name": "ipython",
    "version": 3
   },
   "file_extension": ".py",
   "mimetype": "text/x-python",
   "name": "python",
   "nbconvert_exporter": "python",
   "pygments_lexer": "ipython3",
   "version": "3.6.5"
  }
 },
 "nbformat": 4,
 "nbformat_minor": 2
}
