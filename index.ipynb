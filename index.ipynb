{
 "cells": [
  {
   "cell_type": "markdown",
   "metadata": {},
   "source": [
    "![Py4Eng](sessions/img/logo.png)\n",
    "\n",
    "# Data Science with Python\n",
    "## [Yoav Ram](http://python.yoavram.com)"
   ]
  },
  {
   "cell_type": "markdown",
   "metadata": {},
   "source": [
    "# Introduction to Machine Learning with Python\n",
    "\n",
    "## Day 1\n",
    "\n",
    "- Numerical Python with NumPy: [notebook](sessions/numpy.ipynb) | [solution](solutions/numpy.ipynb)\n",
    "\n",
    "## Day 2\n",
    "- Do at least 25 of these [100 NumPy exercises](https://github.com/rougier/numpy-100/blob/master/100_Numpy_exercises.ipynb): [download the repo](https://github.com/rougier/numpy-100/archive/master.zip) and open `100_Numpy_exercises.ipynb` in Jupyter.\n",
    "\n",
    "## Day 3\n",
    "- Plotting with Matplotlib: [notebook](sessions/matplotlib.ipynb) | [solution](solutions/matplotlib.ipynb)\n",
    "- Data analysis with Pandas and Seaborn: [notebook](sessions/pandas-seaborn.ipynb) | [solution](solutions/pandas-seaborn.ipynb)\n",
    "\n",
    "## Day 4\n",
    "- [Pandas and seaborn](exercises/pandas.ipynb) | [solution](solutions/pandas.ipynb)\n",
    "\n",
    "## Day 5\n",
    "- Machine learning with Scikit-learn: \n",
    " - KNN\n",
    " - Decision Trees & Random Forest\n",
    "\n",
    "## Day 6"
   ]
  },
  {
   "cell_type": "markdown",
   "metadata": {},
   "source": [
    "# Introduction to Deep Learning with Python\n",
    "\n",
    "## Day 1\n",
    "\n",
    "- Linear Model: [notebook](sessions/linear-model.ipynb) | [solution](solutions/linear-model.ipynb) \n",
    "- Logistic Model: [notebook](sessions/logistic-model.ipynb) | [solution](solutions/logistic-model.py)\n",
    "\n",
    "## Day 2\n",
    "- [assignment](exercises/linear-model.ipynb) | [solution](solutions/linear-model.py)\n",
    "- [assignment](exercises/logistic-tennis.ipynb) | [solution](solutions/logistic-tennis.py)\n",
    "\n",
    "## Day 3\n",
    "- Softmax model: [notebook](sessions/softmax-model.ipynb) | [solution](solutions/softmax-model.py) \n",
    "- Feed forward networks: [notebook](sessions/FFN.ipynb) | [solution](solutions/FFN.py)\n",
    "\n",
    "## Day 4\n",
    "- Go back to [the FFN notebook](sessions/FFN.ipynb) and finish implementing the `feed_forward` and `back_propagation` functions to work on arbitrary number of layers.\n",
    "- [FFN assignment](exercises/FFN_GenModel.ipynb): generative model\n",
    "- Ex 1 in the [sign language assignment](exercises/sign-lang.pdf): find hand gestures with Scikit-learn's [`Linear regression`](https://scikit-learn.org/stable/modules/generated/sklearn.linear_model.LinearRegression.html?highlight=linear%20regression#sklearn.linear_model.LinearRegression) model.\n",
    "- Ex 2 in the [sign language assignment](exercises/sign-lang.pdf): classify hand gestures with Scikit-learn's FFN model, [`MLPClassifier`](https://scikit-learn.org/stable/modules/generated/sklearn.neural_network.MLPClassifier.html#sklearn.neural_network.MLPClassifier) (instead of a CNN).\n",
    "\n",
    "## Day 5\n",
    "- Bayesian inference\n",
    "\n",
    "## Day 6"
   ]
  },
  {
   "cell_type": "markdown",
   "metadata": {},
   "source": [
    "# Trending Neural Networks with Keras\n",
    "\n",
    "## Day 1\n",
    "- Feed forward networks with Keras: [notebook](sessions/K_FNN.ipynb)\n",
    "- Convolutional networks with Keras: [notebook](sessions/K_CNN.ipynb)\n",
    "\n",
    "## Day 2\n",
    "- [CNN assignment](exercises/CNN.ipynb) | [CNN solution](solutions/CNN.ipynb)\n",
    "- Ex 2 in the [sign language assignment](exercises/sign-lang.pdf): classify hand gestures, this time with Keras CNN.\n",
    "\n",
    "## Day 3\n",
    "- Recurrent neural networks: [notebook](sessions/RNN.ipynb)\n",
    "- Pre-trained models: [notebook](sessions/pretrained.ipynb)\n",
    "\n",
    "## Day 4\n",
    "\n",
    "- [RNN assignment](exercises/RNN.ipynb) | [solution](solutions/RNN.ipynb)\n",
    "\n",
    "## Day 5\n",
    "\n",
    "- Functional API & Autoencoders: [notebook](sessions/autoencoders.ipynb) | [solution](solutions/functional_keras.py)\n",
    "- Generative adversarial networks: [notebook](sessions/GAN.ipynb)\n",
    "- Convolutional networks with spectral data: [notebook](sessions/audio.ipynb)\n",
    "\n",
    "## Day 6\n",
    "\n",
    "- [GAN assignment 1](exercises/GAN.ipynb) | [solution 1](solutions/GAN.ipynb) \n",
    "- [GAN assignment 2](exercises/ACGAN.ipynb) | [solution 2](solutions/ACGAN.ipynb)\n",
    "- [Audio assignment](exercises/audio.ipynb) | [solution](solutions/audio.ipynb)\n",
    "\n",
    "**Notes:**\n",
    "- To pre-download data, run `python download_data.py` in the terminal.\n",
    "- Remember that if you access a GPU from two notebooks, your kernel will get stuck. Quit all kernels before starting a new session. You can quit kernels by clicking the _running man_ icon on the left (Jupyter Lab), or going to the dashboard and then the [_running_ tab](http://localhost:8888/tree#running) (Jupyter notebook).\n",
    "- See comment below on optionally monitoring the GPU."
   ]
  },
  {
   "cell_type": "markdown",
   "metadata": {},
   "source": [
    "# Setup on local machine\n",
    "\n",
    "See instructions at [datascipy.yoavram.com](http://datascipy.yoavram.com)."
   ]
  },
  {
   "cell_type": "markdown",
   "metadata": {},
   "source": [
    "## Jupyter help\n",
    "\n",
    "- Use autocompletion by pressing `Tab`. \n",
    " - In the middle of a word it will try to finish the variable name.\n",
    " - Just after a dot (`.`) it will try to bring up a menu of methods and attributes; the variable before the dot must already be defined.\n",
    "- Use documentation by pressing `Shift+Tab`; this is especially useful inside a function parentheses as it will show the function arguments, but it can be used anywhere. Again, variables must already be defined."
   ]
  },
  {
   "cell_type": "markdown",
   "metadata": {},
   "source": [
    "## Packages\n",
    "\n",
    "The following packages may be needed at some point, and can be installed with (replace `package-name` with one or more names of packages):\n",
    "```\n",
    "conda install package-name\n",
    "```\n",
    "- `numpy`\n",
    "- `matplotlib`\n",
    "- `scipy`\n",
    "- `pandas`\n",
    "- `seaborn`\n",
    "- `tensorflow`\n",
    "- `keras`\n",
    "- `statsmodels`\n",
    "- `scikit-learn`\n",
    "- `scikit-image`\n",
    "- `pillow`\n",
    "- `imageio` \n",
    "- `ipywidgets`\n",
    "- `librosa`\n",
    "- `yellowbrick` (add `-c districtdatalabs` to install command)"
   ]
  },
  {
   "cell_type": "markdown",
   "metadata": {},
   "source": [
    "## Terminal\n",
    "\n",
    "To open a terminal inside Jupyter, choose `File->New...->Terminal` in the top menu."
   ]
  },
  {
   "cell_type": "markdown",
   "metadata": {},
   "source": [
    "## Monitoring CPU\n",
    "\n",
    "To monitor CPU of your programs:\n",
    "- Open a terminal window (see above).\n",
    "- Run `htop`.\n",
    "- If `htop` is not available, you can install another program: `python -m pip install glances` and then run `glances -1 -4`."
   ]
  },
  {
   "cell_type": "markdown",
   "metadata": {},
   "source": [
    "## Monitoring GPU\n",
    "\n",
    "`gpustat` is a utility that allows to monitor the GPU, including its work load, memory load, and temperature, \n",
    "so you can see that the GPU works when you train your networks.\n",
    "This is only useful on a machine with a GPU, for example, on AWS VMs.\n",
    "\n",
    "- Open a terminal inside Jupyter (see above).\n",
    "- Install the utility with `python -m pip install gpustat`\n",
    "- Run it with `gpustat -cp -i 0.1` (the 0.1 determines that update rate in seconds)."
   ]
  }
 ],
 "metadata": {
  "kernelspec": {
   "display_name": "Python [conda env:DataSciPy]",
   "language": "python",
   "name": "conda-env-DataSciPy-py"
  },
  "language_info": {
   "codemirror_mode": {
    "name": "ipython",
    "version": 3
   },
   "file_extension": ".py",
   "mimetype": "text/x-python",
   "name": "python",
   "nbconvert_exporter": "python",
   "pygments_lexer": "ipython3",
   "version": "3.6.7"
  },
  "toc-showtags": false
 },
 "nbformat": 4,
 "nbformat_minor": 4
}
