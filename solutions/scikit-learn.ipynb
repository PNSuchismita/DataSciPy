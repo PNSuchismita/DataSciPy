{
 "cells": [
  {
   "cell_type": "code",
   "execution_count": null,
   "metadata": {},
   "outputs": [],
   "source": [
    "α = 0.1 # which α to use?\n",
    "regressor = linear_model.Lasso(α)\n",
    "regressor.fit(X_train, y_train)\n",
    "y_hat = regressor.predict(X_test)\n",
    "score = regressor.score(X_test, y_test)\n",
    "print('Lasso model score: {:.2f}'.format(score))\n",
    "\n",
    "fig, axes = plt.subplots(1, 2, figsize=(8, 4))\n",
    "\n",
    "ax = axes[0]\n",
    "ax.plot(y_test, y_hat, 'o')\n",
    "ax.plot(y_test, y_test, '--k')\n",
    "ax.set_xlabel('observed')\n",
    "ax.set_ylabel('predicted')\n",
    "\n",
    "ax = axes[1]\n",
    "coefs = regressor.coef_\n",
    "coefs_idx = np.arange(len(coefs))\n",
    "pos_coefs = coefs > 0\n",
    "neg_coefs = coefs < 0\n",
    "\n",
    "ax.bar(coefs_idx[pos_coefs], coefs[pos_coefs], color='r')\n",
    "ax.bar(coefs_idx[neg_coefs], coefs[neg_coefs], color='b')\n",
    "ax.axhline(0, color='k')\n",
    "ax.set_ylabel('Linear coefficient, $a_j$');\n",
    "ax.set_xticks(coefs_idx)\n",
    "ax.set_xlim(-0.5, coefs_idx.max()+0.5)\n",
    "fig.tight_layout()"
   ]
  }
 ],
 "metadata": {
  "kernelspec": {
   "display_name": "Python 3",
   "language": "python",
   "name": "python3"
  },
  "language_info": {
   "codemirror_mode": {
    "name": "ipython",
    "version": 3
   },
   "file_extension": ".py",
   "mimetype": "text/x-python",
   "name": "python",
   "nbconvert_exporter": "python",
   "pygments_lexer": "ipython3",
   "version": "3.7.3"
  }
 },
 "nbformat": 4,
 "nbformat_minor": 4
}
